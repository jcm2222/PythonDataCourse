{
 "cells": [
  {
   "cell_type": "markdown",
   "metadata": {},
   "source": [
    "# DataJoint Homework: Part 4"
   ]
  },
  {
   "cell_type": "markdown",
   "metadata": {},
   "source": [
    "## TASK: Organizing/saving your tables in python files. \n",
    "\n",
    "### Write a schema with manual tables that may be relevant for your research into a python file, and import it into a new notebook session, and start inserting some dummy data. \n",
    "\n",
    "#### Featuring dummy mouse behavioral data\n",
    "\n",
    "#### Josie McGowan, April 2020"
   ]
  },
  {
   "cell_type": "code",
   "execution_count": 1,
   "metadata": {},
   "outputs": [],
   "source": [
    "import datajoint as dj"
   ]
  },
  {
   "cell_type": "code",
   "execution_count": 2,
   "metadata": {},
   "outputs": [
    {
     "data": {
      "text/plain": [
       "'0.12.5'"
      ]
     },
     "execution_count": 2,
     "metadata": {},
     "output_type": "execute_result"
    }
   ],
   "source": [
    "dj.__version__"
   ]
  },
  {
   "cell_type": "markdown",
   "metadata": {},
   "source": [
    "## Connecting to the database"
   ]
  },
  {
   "cell_type": "code",
   "execution_count": 3,
   "metadata": {},
   "outputs": [],
   "source": [
    "# datajoint configuration\n",
    "dj.config['database.host'] = '127.0.0.1'\n",
    "dj.config['database.user'] = 'root'\n",
    "dj.config['database.password'] = 'simple'\n",
    "# we will go into this attribute later\n",
    "dj.config['fetch_format'] = 'frame' # This ensures that the fetch command by default creates a pd DataFrame \n",
    "    # other option is \"array\""
   ]
  },
  {
   "cell_type": "code",
   "execution_count": 4,
   "metadata": {},
   "outputs": [
    {
     "name": "stdout",
     "output_type": "stream",
     "text": [
      "Connecting root@127.0.0.1:3306\n"
     ]
    },
    {
     "data": {
      "text/plain": [
       "DataJoint connection (connected) root@127.0.0.1:3306"
      ]
     },
     "execution_count": 4,
     "metadata": {},
     "output_type": "execute_result"
    }
   ],
   "source": [
    "# connect to the database\n",
    "# testing your connection\n",
    "connection = dj.conn()\n",
    "connection"
   ]
  },
  {
   "cell_type": "markdown",
   "metadata": {},
   "source": [
    "### Saving DataJoint configuration across session"
   ]
  },
  {
   "cell_type": "code",
   "execution_count": 5,
   "metadata": {},
   "outputs": [],
   "source": [
    "dj.config.save_local() # Not sure if I needed to do this again "
   ]
  },
  {
   "cell_type": "code",
   "execution_count": 6,
   "metadata": {},
   "outputs": [],
   "source": [
    "dj.config.save_global()"
   ]
  },
  {
   "cell_type": "markdown",
   "metadata": {},
   "source": [
    "## Data Overview\n",
    "\n",
    "In the **mouse_database.py** file, the schema is called `mousedata` and we have a total of 4 tables: `MouseData`, `Behavior`, `MouseID`, `Drug`.\n",
    "\n",
    "The `MouseData` table depends on both the `MouseID` and `Behavior` tables. This means that the primary keys of the `MouseID` and `Behavior` tables are inherited by `MouseData`. However, they are inherited in two different ways. In the case of the `MouseID` table, the primary keys of `MouseID` become part of the primary keys of `MouseData`. In the case of the `Behavior` table, the primary keys of `Behavior` are dependent attributes in the `MouseData` table. Since `MouseData` inherits `MouseID` and `Behavior`, it is necessary to have this class below the other two in the python file.\n",
    "\n",
    "Let's import this file in order to initialize the schema and tables and use them in this iPython kernel. "
   ]
  },
  {
   "cell_type": "markdown",
   "metadata": {},
   "source": [
    "##### See: 'hw5_part2_MouseData.ipynb' and 'mouse_database.py'"
   ]
  },
  {
   "cell_type": "code",
   "execution_count": 15,
   "metadata": {},
   "outputs": [],
   "source": [
    "import mouse_database as db"
   ]
  },
  {
   "cell_type": "code",
   "execution_count": 16,
   "metadata": {},
   "outputs": [
    {
     "data": {
      "text/plain": [
       "<module 'mouse_database' from '/Users/Josie/Desktop/Jupyter/PythonDataCourse/Homeworks/HW5/mouse_database.py'>"
      ]
     },
     "execution_count": 16,
     "metadata": {},
     "output_type": "execute_result"
    }
   ],
   "source": [
    "db"
   ]
  },
  {
   "cell_type": "code",
   "execution_count": 17,
   "metadata": {},
   "outputs": [
    {
     "data": {
      "image/svg+xml": [
       "<svg height=\"114pt\" viewBox=\"0.00 0.00 265.00 114.00\" width=\"265pt\" xmlns=\"http://www.w3.org/2000/svg\" xmlns:xlink=\"http://www.w3.org/1999/xlink\">\n",
       "<g class=\"graph\" id=\"graph0\" transform=\"scale(1 1) rotate(0) translate(4 110)\">\n",
       "<title>%3</title>\n",
       "<polygon fill=\"#ffffff\" points=\"-4,4 -4,-110 261,-110 261,4 -4,4\" stroke=\"transparent\"/>\n",
       "<!-- db.Behavior -->\n",
       "<g class=\"node\" id=\"node1\">\n",
       "<title>db.Behavior</title>\n",
       "<g id=\"a_node1\"><a xlink:title=\"behavior_name        \r",
       "------------------------------\r",
       "behavior_type        \r",
       "duration             \r",
       "\">\n",
       "<polygon fill=\"#00ff00\" fill-opacity=\"0.188235\" points=\"81,-106 0,-106 0,-71 81,-71 81,-106\" stroke=\"#00ff00\" stroke-opacity=\"0.188235\"/>\n",
       "<text fill=\"#006400\" font-family=\"arial\" font-size=\"12.00\" text-anchor=\"start\" text-decoration=\"underline\" x=\"8\" y=\"-86.4\">db.Behavior</text>\n",
       "</a>\n",
       "</g>\n",
       "</g>\n",
       "<!-- db.CalciumData -->\n",
       "<g class=\"node\" id=\"node4\">\n",
       "<title>db.CalciumData</title>\n",
       "<g id=\"a_node4\"><a xlink:title=\"→ db.MouseID\r",
       "recording_id         \r",
       "------------------------------\r",
       "→ db.Drug\r",
       "experimenter         \r",
       "comments=null        \r",
       "→ db.Behavior\r",
       "behavior_room        \r",
       "\">\n",
       "<polygon fill=\"#00ff00\" fill-opacity=\"0.188235\" points=\"190.5,-35 88.5,-35 88.5,0 190.5,0 190.5,-35\" stroke=\"#00ff00\" stroke-opacity=\"0.188235\"/>\n",
       "<text fill=\"#006400\" font-family=\"arial\" font-size=\"12.00\" text-anchor=\"start\" text-decoration=\"underline\" x=\"96.5\" y=\"-15.4\">db.CalciumData</text>\n",
       "</a>\n",
       "</g>\n",
       "</g>\n",
       "<!-- db.Behavior&#45;&gt;db.CalciumData -->\n",
       "<g class=\"edge\" id=\"edge1\">\n",
       "<title>db.Behavior-&gt;db.CalciumData</title>\n",
       "<path d=\"M64.9719,-70.9494C80.2029,-60.0262 99.724,-46.0262 114.9665,-35.0947\" fill=\"none\" stroke=\"#000000\" stroke-dasharray=\"5,2\" stroke-opacity=\"0.250980\" stroke-width=\".75\"/>\n",
       "</g>\n",
       "<!-- db.MouseID -->\n",
       "<g class=\"node\" id=\"node2\">\n",
       "<title>db.MouseID</title>\n",
       "<g id=\"a_node2\"><a xlink:title=\"mouse_id             \r",
       "------------------------------\r",
       "age                  \r",
       "sex                  \r",
       "comments=null        \r",
       "\">\n",
       "<polygon fill=\"#00ff00\" fill-opacity=\"0.188235\" points=\"180,-106 99,-106 99,-71 180,-71 180,-106\" stroke=\"#00ff00\" stroke-opacity=\"0.188235\"/>\n",
       "<text fill=\"#006400\" font-family=\"arial\" font-size=\"12.00\" text-anchor=\"start\" text-decoration=\"underline\" x=\"107\" y=\"-86.4\">db.MouseID</text>\n",
       "</a>\n",
       "</g>\n",
       "</g>\n",
       "<!-- db.MouseID&#45;&gt;db.CalciumData -->\n",
       "<g class=\"edge\" id=\"edge2\">\n",
       "<title>db.MouseID-&gt;db.CalciumData</title>\n",
       "<path d=\"M139.5,-70.9494C139.5,-60.1083 139.5,-46.2366 139.5,-35.3418\" fill=\"none\" stroke=\"#000000\" stroke-opacity=\"0.250980\" stroke-width=\".75\"/>\n",
       "</g>\n",
       "<!-- db.Drug -->\n",
       "<g class=\"node\" id=\"node3\">\n",
       "<title>db.Drug</title>\n",
       "<g id=\"a_node3\"><a xlink:title=\"drug                 \r",
       "------------------------------\r",
       "dose                 \r",
       "route                \r",
       "comments=null        \r",
       "\">\n",
       "<polygon fill=\"#00ff00\" fill-opacity=\"0.188235\" points=\"257,-106 198,-106 198,-71 257,-71 257,-106\" stroke=\"#00ff00\" stroke-opacity=\"0.188235\"/>\n",
       "<text fill=\"#006400\" font-family=\"arial\" font-size=\"12.00\" text-anchor=\"start\" text-decoration=\"underline\" x=\"206\" y=\"-86.4\">db.Drug</text>\n",
       "</a>\n",
       "</g>\n",
       "</g>\n",
       "<!-- db.Drug&#45;&gt;db.CalciumData -->\n",
       "<g class=\"edge\" id=\"edge3\">\n",
       "<title>db.Drug-&gt;db.CalciumData</title>\n",
       "<path d=\"M205.7472,-70.9494C192.2086,-60.0262 174.8564,-46.0262 161.3076,-35.0947\" fill=\"none\" stroke=\"#000000\" stroke-dasharray=\"5,2\" stroke-opacity=\"0.250980\" stroke-width=\".75\"/>\n",
       "</g>\n",
       "</g>\n",
       "</svg>"
      ],
      "text/plain": [
       "<datajoint.diagram.Diagram at 0x12ae825f8>"
      ]
     },
     "execution_count": 17,
     "metadata": {},
     "output_type": "execute_result"
    }
   ],
   "source": [
    "# you can take a look at the schema and all connections with datajoint.ERD\n",
    "dj.ERD(db.schema)"
   ]
  },
  {
   "cell_type": "code",
   "execution_count": 18,
   "metadata": {},
   "outputs": [
    {
     "name": "stdout",
     "output_type": "stream",
     "text": [
      "\n",
      "    # full mouse data\n",
      "    -> MouseID\n",
      "    recording_id : int\n",
      "    ---\n",
      "    -> Drug\n",
      "    experimenter : varchar(100)\n",
      "    comments = null : varchar(4000)\n",
      "    ---\n",
      "    -> Behavior\n",
      "    behavior_room : varchar(20)\n",
      "    \n"
     ]
    }
   ],
   "source": [
    "# this is the definition for RecordingSession\n",
    "print(db.CalciumData.definition)"
   ]
  },
  {
   "cell_type": "markdown",
   "metadata": {},
   "source": [
    "### 1) Insert entries manually into `MouseID` ,  `Behavior`, and `Drug`  tables"
   ]
  },
  {
   "cell_type": "code",
   "execution_count": null,
   "metadata": {},
   "outputs": [],
   "source": [
    "# Inserting entries for MouseID:\n",
    "db.MouseID.insert([\n",
    "    {'mouse_id': 1, 'age':8.0, 'sex': 'M', 'comments': None}, \n",
    "    {'mouse_id': 2, 'age':7.5, 'sex': 'F', 'comments':'anxious mouse'}, \n",
    "    {'mouse_id': 3, 'age':9.5, 'sex': 'F', 'comments': None}, \n",
    "    {'mouse_id': 4, 'age':10.0, 'sex':'M', 'comments': None},\n",
    "    {'mouse_id': 5, 'age':12.5, 'sex':'F', 'comments': None}\n",
    "])"
   ]
  },
  {
   "cell_type": "code",
   "execution_count": null,
   "metadata": {},
   "outputs": [],
   "source": [
    "# Inserting entries for Behavior: \n",
    "db.Behavior.insert([\n",
    "    {'behavior_name': 'CFC', 'behavior_type':'fear',  'duration':5}, \n",
    "    {'behavior_name': 'HomeCage', 'behavior_type':'baseline',  'duration':5}, \n",
    "    {'behavior_name': 'EPM', 'behavior_type':'anxiety', 'duration':5}, \n",
    "    {'behavior_name': 'TST', 'behavior_type':'depressive-like', 'duration':5},\n",
    "    {'behavior_name': 'Rotarod', 'behavior_type':'motor', 'duration':5}\n",
    "])"
   ]
  },
  {
   "cell_type": "code",
   "execution_count": 21,
   "metadata": {},
   "outputs": [],
   "source": [
    "# Inserting entries for Drug: \n",
    "db.Drug.insert([\n",
    "    {'drug': 'saline', 'dose':0,  'route':'i.p.', 'comments': None}, \n",
    "    {'drug': 'ketamine', 'dose':30,  'route':'i.p.', 'comments':None}, \n",
    "    {'drug': 'HNK', 'dose':0.75,  'route':'i.p.', 'comments':None} \n",
    "])"
   ]
  },
  {
   "cell_type": "markdown",
   "metadata": {},
   "source": [
    "Let's take a closer look at the `RecordingSession` table. Each table instance has an attribute called `heading`. The `heading` attribute itself is a class that exists in datajoint, and has some functionality that we will briefly touch upon here."
   ]
  },
  {
   "cell_type": "code",
   "execution_count": 22,
   "metadata": {},
   "outputs": [
    {
     "data": {
      "text/plain": [
       "# full mouse data\n",
       "mouse_id             : int                          # id for mouse subject\n",
       "recording_id         : int                          # \n",
       "---\n",
       "drug                 : varchar(10)                  # full name of drug administered\n",
       "experimenter         : varchar(100)                 # \n",
       "comments=null        : varchar(4000)                # \n",
       "behavior_name        : varchar(31)                  # short name for stimulus\n",
       "behavior_room        : varchar(20)                  # "
      ]
     },
     "execution_count": 22,
     "metadata": {},
     "output_type": "execute_result"
    }
   ],
   "source": [
    "rec = db.CalciumData()\n",
    "rec.heading"
   ]
  },
  {
   "cell_type": "markdown",
   "metadata": {},
   "source": [
    "You can see that the heading is similar to the definition, except that the dependencies have been swapped with the actual primary keys of the \"parent\" tables.\n",
    "\n",
    "The heading tells you the names of the actual columns after processing the `definition` attribute."
   ]
  },
  {
   "cell_type": "code",
   "execution_count": 23,
   "metadata": {},
   "outputs": [
    {
     "name": "stdout",
     "output_type": "stream",
     "text": [
      "['mouse_id', 'recording_id'] \n",
      "\n",
      "['drug', 'experimenter', 'comments', 'behavior_name', 'behavior_room'] \n",
      "\n",
      "['mouse_id', 'recording_id', 'drug', 'experimenter', 'comments', 'behavior_name', 'behavior_room'] \n",
      "\n",
      "{'name': 'calcium_data', 'engine': 'InnoDB', 'version': 10, 'row_format': 'Dynamic', 'rows': 0, 'avg_row_length': 0, 'data_length': 16384, 'max_data_length': 0, 'index_length': 32768, 'data_free': 0, 'auto_increment': None, 'create_time': datetime.datetime(2020, 4, 28, 14, 35, 31), 'update_time': None, 'check_time': None, 'collation': 'utf8_general_ci', 'checksum': None, 'create_options': '', 'comment': 'full mouse data'}\n"
     ]
    }
   ],
   "source": [
    "# this shows all primary keys for your table\n",
    "print(rec.heading.primary_key, '\\n')\n",
    "# this shows all the dependent/secondary attributes\n",
    "print(rec.heading.secondary_attributes, '\\n')\n",
    "# this shows all attributes\n",
    "print(rec.heading.names, '\\n')\n",
    "# this shows some extra metadata info of your table\n",
    "# you don't need to understand its key here. It's just so that you know this information exists\n",
    "print(rec.heading.table_info)"
   ]
  },
  {
   "cell_type": "markdown",
   "metadata": {},
   "source": [
    "### 2) Insert data into the `CalciumData` table"
   ]
  },
  {
   "cell_type": "code",
   "execution_count": 26,
   "metadata": {},
   "outputs": [],
   "source": [
    "# Re-run the code above (reproducing it here):\n",
    "db.CalciumData.insert([\n",
    "    {'mouse_id':1,'behavior_name': 'CFC','drug': 'saline','recording_id':1,'experimenter':'Josie','comments':None, 'behavior_room': 1050},\n",
    "    {'mouse_id':2,'behavior_name': 'EPM','drug': 'ketamine','recording_id':2,'experimenter':'Josie','comments':None, 'behavior_room': 1049},\n",
    "    {'mouse_id':3,'behavior_name': 'Rotarod','drug': 'HNK','recording_id':3,'experimenter':'Josie','comments':None, 'behavior_room': 1052},\n",
    "    {'mouse_id':4,'behavior_name': 'TST','drug': 'saline','recording_id':4,'experimenter':'Josie','comments':None, 'behavior_room': 1050},\n",
    "    {'mouse_id':5,'behavior_name': 'CFC','drug': 'ketamine','recording_id':5,'experimenter':'Josie','comments':None, 'behavior_room': 1050},\n",
    "])"
   ]
  },
  {
   "cell_type": "markdown",
   "metadata": {},
   "source": [
    "## Search/manipulate multiple tables"
   ]
  },
  {
   "cell_type": "markdown",
   "metadata": {},
   "source": [
    "### Joining (*) - bring fields from different tables together\n",
    "Sometimes you want to see information from multiple tables combined together to be viewed (and queried!) simultaneously. You can do this using the join * operator.\n",
    "\n",
    "Behavior of join:\n",
    "1. match the common field(s) of the primary keys in the two tables\n",
    "2. do a combination of the non-matched part of the primary key\n",
    "3. listing out the secondary attributes for each combination\n",
    "4. if two tables have secondary attributes that share a same name, it will throw an error. To join, we need to rename (will require projections) that attribute for at least one of the tables."
   ]
  },
  {
   "cell_type": "code",
   "execution_count": 30,
   "metadata": {},
   "outputs": [
    {
     "data": {
      "text/html": [
       "\n",
       "        \n",
       "        <style type=\"text/css\">\n",
       "            .Relation{\n",
       "                border-collapse:collapse;\n",
       "            }\n",
       "            .Relation th{\n",
       "                background: #A0A0A0; color: #ffffff; padding:4px; border:#f0e0e0 1px solid;\n",
       "                font-weight: normal; font-family: monospace; font-size: 100%;\n",
       "            }\n",
       "            .Relation td{\n",
       "                padding:4px; border:#f0e0e0 1px solid; font-size:100%;\n",
       "            }\n",
       "            .Relation tr:nth-child(odd){\n",
       "                background: #ffffff;\n",
       "            }\n",
       "            .Relation tr:nth-child(even){\n",
       "                background: #f3f1ff;\n",
       "            }\n",
       "            /* Tooltip container */\n",
       "            .djtooltip {\n",
       "            }\n",
       "            /* Tooltip text */\n",
       "            .djtooltip .djtooltiptext {\n",
       "                visibility: hidden;\n",
       "                width: 120px;\n",
       "                background-color: black;\n",
       "                color: #fff;\n",
       "                text-align: center;\n",
       "                padding: 5px 0;\n",
       "                border-radius: 6px;\n",
       "                /* Position the tooltip text - see examples below! */\n",
       "                position: absolute;\n",
       "                z-index: 1;\n",
       "            }\n",
       "            #primary {\n",
       "                font-weight: bold;\n",
       "                color: black;\n",
       "            }\n",
       "\n",
       "            #nonprimary {\n",
       "                font-weight: normal;\n",
       "                color: white;\n",
       "            }\n",
       "\n",
       "            /* Show the tooltip text when you mouse over the tooltip container */\n",
       "            .djtooltip:hover .djtooltiptext {\n",
       "                visibility: visible;\n",
       "            }\n",
       "        </style>\n",
       "        \n",
       "        \n",
       "            <div style=\"max-height:1000px;max-width:1500px;overflow:auto;\">\n",
       "            <table border=\"1\" class=\"Relation\">\n",
       "                <thead> <tr style=\"text-align: right;\"> <th> <div class=\"djtooltip\">\n",
       "                                <p id=\"primary\">mouse_id</p>\n",
       "                                <span class=\"djtooltiptext\">id for mouse subject</span>\n",
       "                            </div></th><th><div class=\"djtooltip\">\n",
       "                                <p id=\"primary\">recording_id</p>\n",
       "                                <span class=\"djtooltiptext\"></span>\n",
       "                            </div></th><th><div class=\"djtooltip\">\n",
       "                                <p id=\"primary\">drug</p>\n",
       "                                <span class=\"djtooltiptext\">full name of drug administered</span>\n",
       "                            </div></th><th><div class=\"djtooltip\">\n",
       "                                <p id=\"primary\">behavior_name</p>\n",
       "                                <span class=\"djtooltiptext\">short name for stimulus</span>\n",
       "                            </div></th><th><div class=\"djtooltip\">\n",
       "                                <p id=\"nonprimary\">age</p>\n",
       "                                <span class=\"djtooltiptext\">age of mouse in weeks</span>\n",
       "                            </div></th><th><div class=\"djtooltip\">\n",
       "                                <p id=\"nonprimary\">sex</p>\n",
       "                                <span class=\"djtooltiptext\">sex of mouse</span>\n",
       "                            </div></th><th><div class=\"djtooltip\">\n",
       "                                <p id=\"nonprimary\">mouse_comments</p>\n",
       "                                <span class=\"djtooltiptext\"></span>\n",
       "                            </div></th><th><div class=\"djtooltip\">\n",
       "                                <p id=\"nonprimary\">experimenter</p>\n",
       "                                <span class=\"djtooltiptext\"></span>\n",
       "                            </div></th><th><div class=\"djtooltip\">\n",
       "                                <p id=\"nonprimary\">comments</p>\n",
       "                                <span class=\"djtooltiptext\"></span>\n",
       "                            </div></th><th><div class=\"djtooltip\">\n",
       "                                <p id=\"nonprimary\">behavior_room</p>\n",
       "                                <span class=\"djtooltiptext\"></span>\n",
       "                            </div></th><th><div class=\"djtooltip\">\n",
       "                                <p id=\"nonprimary\">drug_comments</p>\n",
       "                                <span class=\"djtooltiptext\"></span>\n",
       "                            </div></th><th><div class=\"djtooltip\">\n",
       "                                <p id=\"nonprimary\">behavior_type</p>\n",
       "                                <span class=\"djtooltiptext\">beh type</span>\n",
       "                            </div></th><th><div class=\"djtooltip\">\n",
       "                                <p id=\"nonprimary\">duration</p>\n",
       "                                <span class=\"djtooltiptext\">in minutes</span>\n",
       "                            </div> </th> </tr> </thead>\n",
       "                <tbody> <tr> <td>3</td>\n",
       "<td>3</td>\n",
       "<td>HNK</td>\n",
       "<td>Rotarod</td>\n",
       "<td>9.5</td>\n",
       "<td>F</td>\n",
       "<td>None</td>\n",
       "<td>Josie</td>\n",
       "<td>None</td>\n",
       "<td>1052</td>\n",
       "<td>None</td>\n",
       "<td>motor</td>\n",
       "<td>5.0</td></tr><tr><td>2</td>\n",
       "<td>2</td>\n",
       "<td>ketamine</td>\n",
       "<td>EPM</td>\n",
       "<td>7.5</td>\n",
       "<td>F</td>\n",
       "<td>anxious mouse</td>\n",
       "<td>Josie</td>\n",
       "<td>None</td>\n",
       "<td>1049</td>\n",
       "<td>None</td>\n",
       "<td>anxiety</td>\n",
       "<td>5.0</td></tr><tr><td>5</td>\n",
       "<td>5</td>\n",
       "<td>ketamine</td>\n",
       "<td>CFC</td>\n",
       "<td>12.5</td>\n",
       "<td>F</td>\n",
       "<td>None</td>\n",
       "<td>Josie</td>\n",
       "<td>None</td>\n",
       "<td>1050</td>\n",
       "<td>None</td>\n",
       "<td>fear</td>\n",
       "<td>5.0</td></tr><tr><td>1</td>\n",
       "<td>1</td>\n",
       "<td>saline</td>\n",
       "<td>CFC</td>\n",
       "<td>8.0</td>\n",
       "<td>M</td>\n",
       "<td>None</td>\n",
       "<td>Josie</td>\n",
       "<td>None</td>\n",
       "<td>1050</td>\n",
       "<td>None</td>\n",
       "<td>fear</td>\n",
       "<td>5.0</td></tr><tr><td>4</td>\n",
       "<td>4</td>\n",
       "<td>saline</td>\n",
       "<td>TST</td>\n",
       "<td>10.0</td>\n",
       "<td>M</td>\n",
       "<td>None</td>\n",
       "<td>Josie</td>\n",
       "<td>None</td>\n",
       "<td>1050</td>\n",
       "<td>None</td>\n",
       "<td>depressive-like</td>\n",
       "<td>5.0</td> </tr> </tbody>\n",
       "            </table>\n",
       "            \n",
       "            <p>Total: 5</p></div>\n",
       "            "
      ],
      "text/plain": [
       "*mouse_id    *recording_id  *drug        *behavior_name age      sex     mouse_comments experimenter   comments     behavior_room  drug_comments  behavior_type  duration    \n",
       "+----------+ +------------+ +----------+ +------------+ +------+ +-----+ +------------+ +------------+ +----------+ +------------+ +------------+ +------------+ +----------+\n",
       "3            3              HNK          Rotarod        9.5      F       None           Josie          None         1052           None           motor          5.0         \n",
       "2            2              ketamine     EPM            7.5      F       anxious mouse  Josie          None         1049           None           anxiety        5.0         \n",
       "5            5              ketamine     CFC            12.5     F       None           Josie          None         1050           None           fear           5.0         \n",
       "1            1              saline       CFC            8.0      M       None           Josie          None         1050           None           fear           5.0         \n",
       "4            4              saline       TST            10.0     M       None           Josie          None         1050           None           depressive-lik 5.0         \n",
       " (Total: 5)"
      ]
     },
     "execution_count": 30,
     "metadata": {},
     "output_type": "execute_result"
    }
   ],
   "source": [
    "db.MouseID.proj('sex', 'age', mouse_comments='comments') * db.CalciumData * db.Drug.proj(drug_comments='comments') * db.Behavior "
   ]
  },
  {
   "cell_type": "code",
   "execution_count": null,
   "metadata": {},
   "outputs": [],
   "source": []
  }
 ],
 "metadata": {
  "kernelspec": {
   "display_name": "Python 3",
   "language": "python",
   "name": "python3"
  },
  "language_info": {
   "codemirror_mode": {
    "name": "ipython",
    "version": 3
   },
   "file_extension": ".py",
   "mimetype": "text/x-python",
   "name": "python",
   "nbconvert_exporter": "python",
   "pygments_lexer": "ipython3",
   "version": "3.7.1"
  }
 },
 "nbformat": 4,
 "nbformat_minor": 4
}
