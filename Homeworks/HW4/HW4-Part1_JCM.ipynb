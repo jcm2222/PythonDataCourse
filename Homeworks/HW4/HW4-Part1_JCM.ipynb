{
 "cells": [
  {
   "cell_type": "markdown",
   "metadata": {},
   "source": [
    "# HW4 Part 1 - Review of Python Classes\n",
    "\n",
    "April 21, 2020\n",
    "\n",
    "The following is meant to be a brief review of classes in Python. If you feel comfortable with building and manipulating classes in Python, feel free to skim this part"
   ]
  },
  {
   "cell_type": "code",
   "execution_count": 1,
   "metadata": {},
   "outputs": [],
   "source": [
    "import numpy as np\n",
    "import matplotlib.pyplot as plt\n",
    "import pandas as pd"
   ]
  },
  {
   "cell_type": "markdown",
   "metadata": {},
   "source": [
    "## 1a) Create a class \"`Dog`\" with an `__init__` function that takes in the variable `name`"
   ]
  },
  {
   "cell_type": "code",
   "execution_count": 2,
   "metadata": {},
   "outputs": [],
   "source": [
    "class Dog:\n",
    "\n",
    "    def __init__(self, name):\n",
    "        self.name = name \n",
    "        # assign 'name' to self here as a data attribute"
   ]
  },
  {
   "cell_type": "code",
   "execution_count": 3,
   "metadata": {},
   "outputs": [],
   "source": [
    "mydog = Dog('Jojo')"
   ]
  },
  {
   "cell_type": "code",
   "execution_count": 4,
   "metadata": {},
   "outputs": [
    {
     "data": {
      "text/plain": [
       "'Jojo'"
      ]
     },
     "execution_count": 4,
     "metadata": {},
     "output_type": "execute_result"
    }
   ],
   "source": [
    "mydog.name"
   ]
  },
  {
   "cell_type": "markdown",
   "metadata": {},
   "source": [
    "# 1b) Add a method to this class `add_trick` that takes in a variable `trick`\n",
    "Keep in mind that a Dog might learn many tricks - you might keep track of the tricks it learns in a list"
   ]
  },
  {
   "cell_type": "code",
   "execution_count": 97,
   "metadata": {},
   "outputs": [],
   "source": [
    "class Dog:\n",
    "    trick = []\n",
    "\n",
    "    def __init__(self, name): \n",
    "        self.name = name\n",
    "        \n",
    "    def add_trick(self, trick): # this is a method attribute\n",
    "        self.trick.append(trick)"
   ]
  },
  {
   "cell_type": "code",
   "execution_count": 98,
   "metadata": {},
   "outputs": [
    {
     "data": {
      "text/plain": [
       "['roll over', 'play dead', 'flippy flip']"
      ]
     },
     "execution_count": 98,
     "metadata": {},
     "output_type": "execute_result"
    }
   ],
   "source": [
    "# test your code\n",
    "mydog = Dog('Jojo')\n",
    "mydog.add_trick('roll over')\n",
    "mydog.add_trick('play dead')\n",
    "mydog.add_trick('flippy flip')\n",
    "\n",
    "# print the tricks here\n",
    "mydog.trick"
   ]
  },
  {
   "cell_type": "code",
   "execution_count": 100,
   "metadata": {},
   "outputs": [
    {
     "data": {
      "text/plain": [
       "'Jojo'"
      ]
     },
     "execution_count": 100,
     "metadata": {},
     "output_type": "execute_result"
    }
   ],
   "source": [
    "mydog.name"
   ]
  },
  {
   "cell_type": "markdown",
   "metadata": {},
   "source": [
    "## 1c) Modify the class so that it keeps track of the dog's age, gender and species\n",
    "Would these be better as a data attributes or as a method attributes?"
   ]
  },
  {
   "cell_type": "code",
   "execution_count": 99,
   "metadata": {},
   "outputs": [],
   "source": [
    "class Dog:\n",
    "    trick = []\n",
    "\n",
    "    def __init__(self, name, age, gender, species): \n",
    "        self.name = name\n",
    "        self.age = age\n",
    "        self.gender = gender\n",
    "        self.species = species\n",
    "        \n",
    "    def add_trick(self, trick): # this is a method attribute\n",
    "        self.trick.append(trick)"
   ]
  },
  {
   "cell_type": "markdown",
   "metadata": {},
   "source": [
    "## 1d) Create 3 dogs with various characteristics, and assign them different tricks"
   ]
  },
  {
   "cell_type": "code",
   "execution_count": 105,
   "metadata": {},
   "outputs": [],
   "source": [
    "mypup = Dog(name = 'Eloise', age = '9months', gender = 'female', species = 'Shiba_Inu')\n",
    "mypup.add_trick(['roll_over','paw'])\n",
    "\n",
    "goodboy = Dog(name = 'Bryan',age = '10years',gender = 'male', species = 'Husky')\n",
    "goodboy.add_trick(['howl','smile'])\n",
    "\n",
    "goodgirl = Dog(name = 'Ginger', age = '1year', gender = 'female', species = 'Poodle')\n",
    "goodgirl.add_trick(['come','stay'])"
   ]
  },
  {
   "cell_type": "markdown",
   "metadata": {},
   "source": [
    "## 1e) Create a method/function `print_summary` for the Dog class that prints all the relevant data and tricks"
   ]
  },
  {
   "cell_type": "code",
   "execution_count": 113,
   "metadata": {},
   "outputs": [
    {
     "data": {
      "text/plain": [
       "'Eloise'"
      ]
     },
     "execution_count": 113,
     "metadata": {},
     "output_type": "execute_result"
    }
   ],
   "source": [
    "mypup.name"
   ]
  },
  {
   "cell_type": "code",
   "execution_count": 144,
   "metadata": {},
   "outputs": [],
   "source": [
    "class Dog:\n",
    "    trick = []\n",
    "\n",
    "    def __init__(self, name, age, gender, species): \n",
    "        self.name = name\n",
    "        self.age = age\n",
    "        self.gender = gender\n",
    "        self.species = species\n",
    "        \n",
    "    def add_trick(self, trick): # this is a method attribute\n",
    "        self.trick = []\n",
    "        self.trick.append(trick)\n",
    "        \n",
    "    def print_summary(self):\n",
    "        print('name: {}, \\nage: {}, \\ngender: {}, \\nspecies: {}, \\ntricks: {}'.format(self.name, self.age, self.gender, self.species, self.trick))"
   ]
  },
  {
   "cell_type": "code",
   "execution_count": 145,
   "metadata": {},
   "outputs": [],
   "source": [
    "mypup = Dog(name = 'Eloise', age = '9months', gender = 'female', species = 'Shiba_Inu')\n",
    "mypup.add_trick(['roll_over','paw'])\n",
    "\n",
    "goodboy = Dog(name = 'Bryan',age = '10years',gender = 'male', species = 'Husky')\n",
    "goodboy.add_trick(['howl','smile'])\n",
    "\n",
    "goodgirl = Dog(name = 'Ginger', age = '1year', gender = 'female', species = 'Poodle')\n",
    "goodgirl.add_trick(['come','stay'])\n",
    "\n",
    "dogs = [mypup, goodboy, goodgirl]"
   ]
  },
  {
   "cell_type": "code",
   "execution_count": 146,
   "metadata": {},
   "outputs": [
    {
     "name": "stdout",
     "output_type": "stream",
     "text": [
      "name: Eloise, \n",
      "age: 9months, \n",
      "gender: female, \n",
      "species: Shiba_Inu, \n",
      "tricks: [['roll_over', 'paw']]\n"
     ]
    }
   ],
   "source": [
    "mypup.print_summary()"
   ]
  },
  {
   "cell_type": "code",
   "execution_count": 147,
   "metadata": {},
   "outputs": [
    {
     "name": "stdout",
     "output_type": "stream",
     "text": [
      "name: Eloise, \n",
      "age: 9months, \n",
      "gender: female, \n",
      "species: Shiba_Inu, \n",
      "tricks: [['roll_over', 'paw']]\n",
      "name: Bryan, \n",
      "age: 10years, \n",
      "gender: male, \n",
      "species: Husky, \n",
      "tricks: [['howl', 'smile']]\n",
      "name: Ginger, \n",
      "age: 1year, \n",
      "gender: female, \n",
      "species: Poodle, \n",
      "tricks: [['come', 'stay']]\n"
     ]
    }
   ],
   "source": [
    "# create 3 dogs again with your new/modified class and write below:\n",
    "\n",
    "for d in dogs:\n",
    "    d.print_summary()"
   ]
  },
  {
   "cell_type": "markdown",
   "metadata": {},
   "source": [
    "## 1f) Finally, create a function/method that returns a pandas dataframe of the dog's name, age, gender species and tricks"
   ]
  },
  {
   "cell_type": "markdown",
   "metadata": {},
   "source": [
    "This code should run. What do you notice about having multiple tricks?"
   ]
  },
  {
   "cell_type": "code",
   "execution_count": 193,
   "metadata": {},
   "outputs": [],
   "source": [
    "# Having multiple tricks makes it tricky to create a DF of 1 dog, if I comment out self.trick = []\n",
    "# Thus, having multiple tricks added the way the df below adds it causes it to be overwritten. \n",
    "# The way I wrote the script, it would need to be written out as a list\n",
    "\n",
    "# I wonder what ways I could fix this or work around it so that even if I wanted to use \"add_trick\" later,\n",
    "# it would still write it out as a list? \n",
    "\n",
    "# Would probably need sub-rows?"
   ]
  },
  {
   "cell_type": "code",
   "execution_count": 194,
   "metadata": {},
   "outputs": [],
   "source": [
    "class Dog:\n",
    "    trick = []\n",
    "\n",
    "    def __init__(self, name, age, gender, species): \n",
    "        self.name = name\n",
    "        self.age = age\n",
    "        self.gender = gender\n",
    "        self.species = species\n",
    "        \n",
    "    def add_trick(self, trick): # this is a method attribute\n",
    "        self.trick = []\n",
    "        self.trick.append(trick)\n",
    "        \n",
    "    def print_summary(self):\n",
    "        print('name: {}, \\nage: {}, \\ngender: {}, \\nspecies: {}, \\ntricks: {}'.format(self.name, self.age, self.gender, self.species, self.trick))\n",
    "        \n",
    "    def return_df(self):\n",
    "        d1 = {'name':[self.name], 'age':[self.age],'gender':[self.gender], 'species':self.species,'tricks':self.trick}\n",
    "        df = pd.DataFrame(d1)\n",
    "        return df"
   ]
  },
  {
   "cell_type": "code",
   "execution_count": 195,
   "metadata": {},
   "outputs": [
    {
     "data": {
      "text/html": [
       "<div>\n",
       "<style scoped>\n",
       "    .dataframe tbody tr th:only-of-type {\n",
       "        vertical-align: middle;\n",
       "    }\n",
       "\n",
       "    .dataframe tbody tr th {\n",
       "        vertical-align: top;\n",
       "    }\n",
       "\n",
       "    .dataframe thead th {\n",
       "        text-align: right;\n",
       "    }\n",
       "</style>\n",
       "<table border=\"1\" class=\"dataframe\">\n",
       "  <thead>\n",
       "    <tr style=\"text-align: right;\">\n",
       "      <th></th>\n",
       "      <th>name</th>\n",
       "      <th>age</th>\n",
       "      <th>gender</th>\n",
       "      <th>species</th>\n",
       "      <th>tricks</th>\n",
       "    </tr>\n",
       "  </thead>\n",
       "  <tbody>\n",
       "    <tr>\n",
       "      <th>0</th>\n",
       "      <td>Jojo</td>\n",
       "      <td>12</td>\n",
       "      <td>M</td>\n",
       "      <td>collie</td>\n",
       "      <td>flippy flip</td>\n",
       "    </tr>\n",
       "  </tbody>\n",
       "</table>\n",
       "</div>"
      ],
      "text/plain": [
       "   name  age gender species       tricks\n",
       "0  Jojo   12      M  collie  flippy flip"
      ]
     },
     "execution_count": 195,
     "metadata": {},
     "output_type": "execute_result"
    }
   ],
   "source": [
    "jojo = Dog(name='Jojo',age=12,gender='M',species='collie')\n",
    "\n",
    "jojo.add_trick('roll over')\n",
    "jojo.add_trick('flippy flip')\n",
    "\n",
    "#df = pd.DataFrame(jojo.print_summary(), columns = ['name', 'age','gender', 'species','tricks'])\n",
    "df = jojo.return_df()\n",
    "\n",
    "df.head()"
   ]
  },
  {
   "cell_type": "code",
   "execution_count": null,
   "metadata": {},
   "outputs": [],
   "source": []
  }
 ],
 "metadata": {
  "kernelspec": {
   "display_name": "Python 3",
   "language": "python",
   "name": "python3"
  },
  "language_info": {
   "codemirror_mode": {
    "name": "ipython",
    "version": 3
   },
   "file_extension": ".py",
   "mimetype": "text/x-python",
   "name": "python",
   "nbconvert_exporter": "python",
   "pygments_lexer": "ipython3",
   "version": "3.7.1"
  }
 },
 "nbformat": 4,
 "nbformat_minor": 2
}
