{
 "cells": [
  {
   "cell_type": "markdown",
   "metadata": {},
   "source": [
    "# Working with automated computations: Computed tables"
   ]
  },
  {
   "cell_type": "markdown",
   "metadata": {},
   "source": [
    "This session was modified from: https://github.com/vathes/playground_tutorial\n",
    "\n",
    "Welcome back! In this session, we are going to continue working with the pipeline established in Part 1. \n",
    "\n",
    "In this session, we will learn to:\n",
    "\n",
    "* compute various statistics for each neuron by defining a `Computed` table\n",
    "* define a `Lookup` table to store parameters for computation\n",
    "* define another `Computed` table to perform spike detection and store the detected spikes\n",
    "* automatically trigger computations for all missing entries with `populate`\n",
    "* define a `Part` table to save the results computed with the master `Computed` table"
   ]
  },
  {
   "cell_type": "markdown",
   "metadata": {},
   "source": [
    "Let's import `datajoint` again."
   ]
  },
  {
   "cell_type": "code",
   "execution_count": 1,
   "metadata": {},
   "outputs": [],
   "source": [
    "import datajoint as dj\n",
    "# make sure that the fetch option is set to array:\n",
    "dj.config['fetch_format']='array'"
   ]
  },
  {
   "cell_type": "markdown",
   "metadata": {},
   "source": [
    "As we are going to perform some computations, let's go ahead and import NumPy and Matplotlib."
   ]
  },
  {
   "cell_type": "code",
   "execution_count": 2,
   "metadata": {},
   "outputs": [],
   "source": [
    "import numpy as np\n",
    "import matplotlib.pyplot as plt\n",
    "%matplotlib inline"
   ]
  },
  {
   "cell_type": "markdown",
   "metadata": {},
   "source": [
    "Similarly as before, to continue working with the tables we defined in the previous notebook, we can either redefine the classes for each table `Fly`, `Session`, `Scan`, `AverageFrame` and populate them. Or, again for your convenience, we can import them from the `imported_session` module. "
   ]
  },
  {
   "cell_type": "code",
   "execution_count": 3,
   "metadata": {},
   "outputs": [
    {
     "name": "stdout",
     "output_type": "stream",
     "text": [
      "Connecting root@127.0.0.1:3306\n",
      "\tPopulated Scan 0 - 2020-05-15 - 1\n",
      "\tPopulated Scan 0 - 2020-05-15 - 2\n",
      "\tPopulated Scan 100 - 2020-05-25 - 1\n",
      "\tPopulated Scan 0 - 2020-05-15 - 1\n",
      "\tPopulated Scan 0 - 2020-05-15 - 2\n",
      "\tPopulated Scan 100 - 2020-05-25 - 1\n"
     ]
    }
   ],
   "source": [
    "from imported_session import schema, Fly, Session, Scan, AverageFrame, Frames"
   ]
  },
  {
   "cell_type": "code",
   "execution_count": 4,
   "metadata": {},
   "outputs": [
    {
     "data": {
      "text/html": [
       "\n",
       "        \n",
       "        <style type=\"text/css\">\n",
       "            .Relation{\n",
       "                border-collapse:collapse;\n",
       "            }\n",
       "            .Relation th{\n",
       "                background: #A0A0A0; color: #ffffff; padding:4px; border:#f0e0e0 1px solid;\n",
       "                font-weight: normal; font-family: monospace; font-size: 100%;\n",
       "            }\n",
       "            .Relation td{\n",
       "                padding:4px; border:#f0e0e0 1px solid; font-size:100%;\n",
       "            }\n",
       "            .Relation tr:nth-child(odd){\n",
       "                background: #ffffff;\n",
       "            }\n",
       "            .Relation tr:nth-child(even){\n",
       "                background: #f3f1ff;\n",
       "            }\n",
       "            /* Tooltip container */\n",
       "            .djtooltip {\n",
       "            }\n",
       "            /* Tooltip text */\n",
       "            .djtooltip .djtooltiptext {\n",
       "                visibility: hidden;\n",
       "                width: 120px;\n",
       "                background-color: black;\n",
       "                color: #fff;\n",
       "                text-align: center;\n",
       "                padding: 5px 0;\n",
       "                border-radius: 6px;\n",
       "                /* Position the tooltip text - see examples below! */\n",
       "                position: absolute;\n",
       "                z-index: 1;\n",
       "            }\n",
       "            #primary {\n",
       "                font-weight: bold;\n",
       "                color: black;\n",
       "            }\n",
       "\n",
       "            #nonprimary {\n",
       "                font-weight: normal;\n",
       "                color: white;\n",
       "            }\n",
       "\n",
       "            /* Show the tooltip text when you mouse over the tooltip container */\n",
       "            .djtooltip:hover .djtooltiptext {\n",
       "                visibility: visible;\n",
       "            }\n",
       "        </style>\n",
       "        \n",
       "        <b>Experiment session</b>\n",
       "            <div style=\"max-height:1000px;max-width:1500px;overflow:auto;\">\n",
       "            <table border=\"1\" class=\"Relation\">\n",
       "                <thead> <tr style=\"text-align: right;\"> <th> <div class=\"djtooltip\">\n",
       "                                <p id=\"primary\">fly_id</p>\n",
       "                                <span class=\"djtooltiptext\">Unique animal ID</span>\n",
       "                            </div></th><th><div class=\"djtooltip\">\n",
       "                                <p id=\"primary\">session_date</p>\n",
       "                                <span class=\"djtooltiptext\">date</span>\n",
       "                            </div></th><th><div class=\"djtooltip\">\n",
       "                                <p id=\"nonprimary\">experiment_setup</p>\n",
       "                                <span class=\"djtooltiptext\">experiment setup ID</span>\n",
       "                            </div></th><th><div class=\"djtooltip\">\n",
       "                                <p id=\"nonprimary\">experimenter</p>\n",
       "                                <span class=\"djtooltiptext\">experimenter name</span>\n",
       "                            </div></th><th><div class=\"djtooltip\">\n",
       "                                <p id=\"nonprimary\">data_path</p>\n",
       "                                <span class=\"djtooltiptext\"></span>\n",
       "                            </div> </th> </tr> </thead>\n",
       "                <tbody> <tr> <td>0</td>\n",
       "<td>2020-05-15</td>\n",
       "<td>0</td>\n",
       "<td>gucky92</td>\n",
       "<td>imaging_data</td></tr><tr><td>0</td>\n",
       "<td>2020-05-19</td>\n",
       "<td>0</td>\n",
       "<td>gucky92</td>\n",
       "<td>imaging_data</td></tr><tr><td>5</td>\n",
       "<td>2020-01-05</td>\n",
       "<td>1</td>\n",
       "<td>jko14</td>\n",
       "<td>imaging_data</td></tr><tr><td>100</td>\n",
       "<td>2020-05-25</td>\n",
       "<td>100</td>\n",
       "<td>jportes</td>\n",
       "<td>imaging_data</td> </tr> </tbody>\n",
       "            </table>\n",
       "            \n",
       "            <p>Total: 4</p></div>\n",
       "            "
      ],
      "text/plain": [
       "*fly_id    *session_date  experiment_set experimenter   data_path     \n",
       "+--------+ +------------+ +------------+ +------------+ +------------+\n",
       "0          2020-05-15     0              gucky92        imaging_data  \n",
       "0          2020-05-19     0              gucky92        imaging_data  \n",
       "5          2020-01-05     1              jko14          imaging_data  \n",
       "100        2020-05-25     100            jportes        imaging_data  \n",
       " (Total: 4)"
      ]
     },
     "execution_count": 4,
     "metadata": {},
     "output_type": "execute_result"
    }
   ],
   "source": [
    "Session()"
   ]
  },
  {
   "cell_type": "code",
   "execution_count": 5,
   "metadata": {},
   "outputs": [
    {
     "data": {
      "text/html": [
       "\n",
       "        \n",
       "        <style type=\"text/css\">\n",
       "            .Relation{\n",
       "                border-collapse:collapse;\n",
       "            }\n",
       "            .Relation th{\n",
       "                background: #A0A0A0; color: #ffffff; padding:4px; border:#f0e0e0 1px solid;\n",
       "                font-weight: normal; font-family: monospace; font-size: 100%;\n",
       "            }\n",
       "            .Relation td{\n",
       "                padding:4px; border:#f0e0e0 1px solid; font-size:100%;\n",
       "            }\n",
       "            .Relation tr:nth-child(odd){\n",
       "                background: #ffffff;\n",
       "            }\n",
       "            .Relation tr:nth-child(even){\n",
       "                background: #f3f1ff;\n",
       "            }\n",
       "            /* Tooltip container */\n",
       "            .djtooltip {\n",
       "            }\n",
       "            /* Tooltip text */\n",
       "            .djtooltip .djtooltiptext {\n",
       "                visibility: hidden;\n",
       "                width: 120px;\n",
       "                background-color: black;\n",
       "                color: #fff;\n",
       "                text-align: center;\n",
       "                padding: 5px 0;\n",
       "                border-radius: 6px;\n",
       "                /* Position the tooltip text - see examples below! */\n",
       "                position: absolute;\n",
       "                z-index: 1;\n",
       "            }\n",
       "            #primary {\n",
       "                font-weight: bold;\n",
       "                color: black;\n",
       "            }\n",
       "\n",
       "            #nonprimary {\n",
       "                font-weight: normal;\n",
       "                color: white;\n",
       "            }\n",
       "\n",
       "            /* Show the tooltip text when you mouse over the tooltip container */\n",
       "            .djtooltip:hover .djtooltiptext {\n",
       "                visibility: visible;\n",
       "            }\n",
       "        </style>\n",
       "        \n",
       "        <b></b>\n",
       "            <div style=\"max-height:1000px;max-width:1500px;overflow:auto;\">\n",
       "            <table border=\"1\" class=\"Relation\">\n",
       "                <thead> <tr style=\"text-align: right;\"> <th> <div class=\"djtooltip\">\n",
       "                                <p id=\"primary\">fly_id</p>\n",
       "                                <span class=\"djtooltiptext\">Unique animal ID</span>\n",
       "                            </div></th><th><div class=\"djtooltip\">\n",
       "                                <p id=\"primary\">session_date</p>\n",
       "                                <span class=\"djtooltiptext\">date</span>\n",
       "                            </div></th><th><div class=\"djtooltip\">\n",
       "                                <p id=\"primary\">scan_idx</p>\n",
       "                                <span class=\"djtooltiptext\">scan index</span>\n",
       "                            </div></th><th><div class=\"djtooltip\">\n",
       "                                <p id=\"nonprimary\">depth</p>\n",
       "                                <span class=\"djtooltiptext\">depth of this scan</span>\n",
       "                            </div></th><th><div class=\"djtooltip\">\n",
       "                                <p id=\"nonprimary\">wavelength</p>\n",
       "                                <span class=\"djtooltiptext\">wavelength used</span>\n",
       "                            </div></th><th><div class=\"djtooltip\">\n",
       "                                <p id=\"nonprimary\">laser_power</p>\n",
       "                                <span class=\"djtooltiptext\">power of the laser used</span>\n",
       "                            </div></th><th><div class=\"djtooltip\">\n",
       "                                <p id=\"nonprimary\">fps</p>\n",
       "                                <span class=\"djtooltiptext\">frames per second</span>\n",
       "                            </div></th><th><div class=\"djtooltip\">\n",
       "                                <p id=\"nonprimary\">file_name</p>\n",
       "                                <span class=\"djtooltiptext\">name of the tif file</span>\n",
       "                            </div> </th> </tr> </thead>\n",
       "                <tbody> <tr> <td>0</td>\n",
       "<td>2020-05-15</td>\n",
       "<td>1</td>\n",
       "<td>150.0</td>\n",
       "<td>920.0</td>\n",
       "<td>26.0</td>\n",
       "<td>15.0</td>\n",
       "<td>example_scan_01.tif</td></tr><tr><td>0</td>\n",
       "<td>2020-05-15</td>\n",
       "<td>2</td>\n",
       "<td>200.0</td>\n",
       "<td>920.0</td>\n",
       "<td>24.0</td>\n",
       "<td>15.0</td>\n",
       "<td>example_scan_02.tif</td></tr><tr><td>100</td>\n",
       "<td>2020-05-25</td>\n",
       "<td>1</td>\n",
       "<td>150.0</td>\n",
       "<td>920.0</td>\n",
       "<td>25.0</td>\n",
       "<td>15.0</td>\n",
       "<td>example_scan_03.tif</td> </tr> </tbody>\n",
       "            </table>\n",
       "            \n",
       "            <p>Total: 3</p></div>\n",
       "            "
      ],
      "text/plain": [
       "*fly_id    *session_date  *scan_idx    depth     wavelength     laser_power    fps      file_name     \n",
       "+--------+ +------------+ +----------+ +-------+ +------------+ +------------+ +------+ +------------+\n",
       "0          2020-05-15     1            150.0     920.0          26.0           15.0     example_scan_0\n",
       "0          2020-05-15     2            200.0     920.0          24.0           15.0     example_scan_0\n",
       "100        2020-05-25     1            150.0     920.0          25.0           15.0     example_scan_0\n",
       " (Total: 3)"
      ]
     },
     "execution_count": 5,
     "metadata": {},
     "output_type": "execute_result"
    }
   ],
   "source": [
    "Scan()"
   ]
  },
  {
   "cell_type": "code",
   "execution_count": 6,
   "metadata": {},
   "outputs": [
    {
     "data": {
      "text/html": [
       "\n",
       "        \n",
       "        <style type=\"text/css\">\n",
       "            .Relation{\n",
       "                border-collapse:collapse;\n",
       "            }\n",
       "            .Relation th{\n",
       "                background: #A0A0A0; color: #ffffff; padding:4px; border:#f0e0e0 1px solid;\n",
       "                font-weight: normal; font-family: monospace; font-size: 100%;\n",
       "            }\n",
       "            .Relation td{\n",
       "                padding:4px; border:#f0e0e0 1px solid; font-size:100%;\n",
       "            }\n",
       "            .Relation tr:nth-child(odd){\n",
       "                background: #ffffff;\n",
       "            }\n",
       "            .Relation tr:nth-child(even){\n",
       "                background: #f3f1ff;\n",
       "            }\n",
       "            /* Tooltip container */\n",
       "            .djtooltip {\n",
       "            }\n",
       "            /* Tooltip text */\n",
       "            .djtooltip .djtooltiptext {\n",
       "                visibility: hidden;\n",
       "                width: 120px;\n",
       "                background-color: black;\n",
       "                color: #fff;\n",
       "                text-align: center;\n",
       "                padding: 5px 0;\n",
       "                border-radius: 6px;\n",
       "                /* Position the tooltip text - see examples below! */\n",
       "                position: absolute;\n",
       "                z-index: 1;\n",
       "            }\n",
       "            #primary {\n",
       "                font-weight: bold;\n",
       "                color: black;\n",
       "            }\n",
       "\n",
       "            #nonprimary {\n",
       "                font-weight: normal;\n",
       "                color: white;\n",
       "            }\n",
       "\n",
       "            /* Show the tooltip text when you mouse over the tooltip container */\n",
       "            .djtooltip:hover .djtooltiptext {\n",
       "                visibility: visible;\n",
       "            }\n",
       "        </style>\n",
       "        \n",
       "        <b></b>\n",
       "            <div style=\"max-height:1000px;max-width:1500px;overflow:auto;\">\n",
       "            <table border=\"1\" class=\"Relation\">\n",
       "                <thead> <tr style=\"text-align: right;\"> <th> <div class=\"djtooltip\">\n",
       "                                <p id=\"primary\">fly_id</p>\n",
       "                                <span class=\"djtooltiptext\">Unique animal ID</span>\n",
       "                            </div></th><th><div class=\"djtooltip\">\n",
       "                                <p id=\"primary\">session_date</p>\n",
       "                                <span class=\"djtooltiptext\">date</span>\n",
       "                            </div></th><th><div class=\"djtooltip\">\n",
       "                                <p id=\"primary\">scan_idx</p>\n",
       "                                <span class=\"djtooltiptext\">scan index</span>\n",
       "                            </div></th><th><div class=\"djtooltip\">\n",
       "                                <p id=\"nonprimary\">average_frame</p>\n",
       "                                <span class=\"djtooltiptext\">average fluorescence across frames</span>\n",
       "                            </div> </th> </tr> </thead>\n",
       "                <tbody> <tr> <td>0</td>\n",
       "<td>2020-05-15</td>\n",
       "<td>1</td>\n",
       "<td>=BLOB=</td></tr><tr><td>0</td>\n",
       "<td>2020-05-15</td>\n",
       "<td>2</td>\n",
       "<td>=BLOB=</td></tr><tr><td>100</td>\n",
       "<td>2020-05-25</td>\n",
       "<td>1</td>\n",
       "<td>=BLOB=</td> </tr> </tbody>\n",
       "            </table>\n",
       "            \n",
       "            <p>Total: 3</p></div>\n",
       "            "
      ],
      "text/plain": [
       "*fly_id    *session_date  *scan_idx    average_fr\n",
       "+--------+ +------------+ +----------+ +--------+\n",
       "0          2020-05-15     1            =BLOB=    \n",
       "0          2020-05-15     2            =BLOB=    \n",
       "100        2020-05-25     1            =BLOB=    \n",
       " (Total: 3)"
      ]
     },
     "execution_count": 6,
     "metadata": {},
     "output_type": "execute_result"
    }
   ],
   "source": [
    "AverageFrame()"
   ]
  },
  {
   "cell_type": "code",
   "execution_count": 7,
   "metadata": {},
   "outputs": [
    {
     "data": {
      "text/html": [
       "\n",
       "        \n",
       "        <style type=\"text/css\">\n",
       "            .Relation{\n",
       "                border-collapse:collapse;\n",
       "            }\n",
       "            .Relation th{\n",
       "                background: #A0A0A0; color: #ffffff; padding:4px; border:#f0e0e0 1px solid;\n",
       "                font-weight: normal; font-family: monospace; font-size: 100%;\n",
       "            }\n",
       "            .Relation td{\n",
       "                padding:4px; border:#f0e0e0 1px solid; font-size:100%;\n",
       "            }\n",
       "            .Relation tr:nth-child(odd){\n",
       "                background: #ffffff;\n",
       "            }\n",
       "            .Relation tr:nth-child(even){\n",
       "                background: #f3f1ff;\n",
       "            }\n",
       "            /* Tooltip container */\n",
       "            .djtooltip {\n",
       "            }\n",
       "            /* Tooltip text */\n",
       "            .djtooltip .djtooltiptext {\n",
       "                visibility: hidden;\n",
       "                width: 120px;\n",
       "                background-color: black;\n",
       "                color: #fff;\n",
       "                text-align: center;\n",
       "                padding: 5px 0;\n",
       "                border-radius: 6px;\n",
       "                /* Position the tooltip text - see examples below! */\n",
       "                position: absolute;\n",
       "                z-index: 1;\n",
       "            }\n",
       "            #primary {\n",
       "                font-weight: bold;\n",
       "                color: black;\n",
       "            }\n",
       "\n",
       "            #nonprimary {\n",
       "                font-weight: normal;\n",
       "                color: white;\n",
       "            }\n",
       "\n",
       "            /* Show the tooltip text when you mouse over the tooltip container */\n",
       "            .djtooltip:hover .djtooltiptext {\n",
       "                visibility: visible;\n",
       "            }\n",
       "        </style>\n",
       "        \n",
       "        <b></b>\n",
       "            <div style=\"max-height:1000px;max-width:1500px;overflow:auto;\">\n",
       "            <table border=\"1\" class=\"Relation\">\n",
       "                <thead> <tr style=\"text-align: right;\"> <th> <div class=\"djtooltip\">\n",
       "                                <p id=\"primary\">fly_id</p>\n",
       "                                <span class=\"djtooltiptext\">Unique animal ID</span>\n",
       "                            </div></th><th><div class=\"djtooltip\">\n",
       "                                <p id=\"primary\">session_date</p>\n",
       "                                <span class=\"djtooltiptext\">date</span>\n",
       "                            </div></th><th><div class=\"djtooltip\">\n",
       "                                <p id=\"primary\">scan_idx</p>\n",
       "                                <span class=\"djtooltiptext\">scan index</span>\n",
       "                            </div></th><th><div class=\"djtooltip\">\n",
       "                                <p id=\"nonprimary\">frames</p>\n",
       "                                <span class=\"djtooltiptext\"></span>\n",
       "                            </div> </th> </tr> </thead>\n",
       "                <tbody> <tr> <td>100</td>\n",
       "<td>2020-05-25</td>\n",
       "<td>1</td>\n",
       "<td>=BLOB=</td></tr><tr><td>0</td>\n",
       "<td>2020-05-15</td>\n",
       "<td>2</td>\n",
       "<td>=BLOB=</td></tr><tr><td>0</td>\n",
       "<td>2020-05-15</td>\n",
       "<td>1</td>\n",
       "<td>=BLOB=</td> </tr> </tbody>\n",
       "            </table>\n",
       "            \n",
       "            <p>Total: 3</p></div>\n",
       "            "
      ],
      "text/plain": [
       "*fly_id    *session_date  *scan_idx    frames    \n",
       "+--------+ +------------+ +----------+ +--------+\n",
       "100        2020-05-25     1            =BLOB=    \n",
       "0          2020-05-15     2            =BLOB=    \n",
       "0          2020-05-15     1            =BLOB=    \n",
       " (Total: 3)"
      ]
     },
     "execution_count": 7,
     "metadata": {},
     "output_type": "execute_result"
    }
   ],
   "source": [
    "Frames()"
   ]
  },
  {
   "cell_type": "markdown",
   "metadata": {},
   "source": [
    "The `imported_session.py` also fill each table by inserting manually and loading data from the external tiff files."
   ]
  },
  {
   "cell_type": "markdown",
   "metadata": {},
   "source": [
    "## Computations in data pipeline"
   ]
  },
  {
   "cell_type": "markdown",
   "metadata": {},
   "source": [
    "Now it's time to perform more complicated analyses. \n",
    "\n",
    "When you perform computations in the DataJoint data pipeline, you focus and design tables in terms of **what** is it that you are computing rather than the **how**. You should think in terms of the \"things\" that you are computing!"
   ]
  },
  {
   "cell_type": "markdown",
   "metadata": {},
   "source": [
    "Now, we would like to detect cells from the average image. The final product we would like is the binary **mask** for each individual cell, with the 1 in the region of interest (ROI) and 0 in other places."
   ]
  },
  {
   "cell_type": "markdown",
   "metadata": {},
   "source": [
    "So the new \"thing\" or entity here is `Roi`, where each entry corresponds the mask of one ROI. Let's start designing the table, paying special attention to the dependencies."
   ]
  },
  {
   "cell_type": "markdown",
   "metadata": {},
   "source": [
    "## Detect cells from the average fluorescence image"
   ]
  },
  {
   "cell_type": "markdown",
   "metadata": {},
   "source": [
    "Now let's perform the segmentation to isolate ROIs. Let's start by taking a look at one average fluoresence image."
   ]
  },
  {
   "cell_type": "code",
   "execution_count": 9,
   "metadata": {},
   "outputs": [
    {
     "name": "stdout",
     "output_type": "stream",
     "text": [
      "{'fly_id': 0, 'session_date': datetime.date(2020, 5, 15), 'scan_idx': 1}\n"
     ]
    }
   ],
   "source": [
    "keys = AverageFrame.fetch('KEY')\n",
    "\n",
    "# pick one key\n",
    "key = keys[0]\n",
    "print(key)"
   ]
  },
  {
   "cell_type": "markdown",
   "metadata": {},
   "source": [
    "### 1) preview an AverageFrame for a particular key"
   ]
  },
  {
   "cell_type": "code",
   "execution_count": 16,
   "metadata": {},
   "outputs": [
    {
     "data": {
      "text/plain": [
       "[{'fly_id': 0, 'session_date': datetime.date(2020, 5, 15), 'scan_idx': 1},\n",
       " {'fly_id': 0, 'session_date': datetime.date(2020, 5, 15), 'scan_idx': 2},\n",
       " {'fly_id': 100, 'session_date': datetime.date(2020, 5, 25), 'scan_idx': 1}]"
      ]
     },
     "execution_count": 16,
     "metadata": {},
     "output_type": "execute_result"
    }
   ],
   "source": [
    "# ENTER YOUR CODE! - preview an AverageFrame for a particular key\n",
    "AverageFrame.fetch('KEY')"
   ]
  },
  {
   "cell_type": "code",
   "execution_count": 12,
   "metadata": {},
   "outputs": [],
   "source": [
    "avg_image = AverageFrame.fetch('average_frame')"
   ]
  },
  {
   "cell_type": "code",
   "execution_count": 13,
   "metadata": {},
   "outputs": [
    {
     "data": {
      "text/plain": [
       "array([array([[32.73, 30.77, 31.74, ..., 65.76, 62.77, 58.65],\n",
       "       [30.07, 27.96, 28.74, ..., 60.11, 58.1 , 54.59],\n",
       "       [28.91, 27.02, 27.12, ..., 58.01, 56.1 , 53.25],\n",
       "       ...,\n",
       "       [35.17, 35.56, 34.37, ..., 21.08, 21.45, 21.09],\n",
       "       [33.14, 35.73, 37.64, ..., 20.42, 21.24, 21.51],\n",
       "       [33.52, 37.65, 41.71, ..., 19.82, 20.29, 21.36]]),\n",
       "       array([[ 29.53,  30.8 ,  30.96, ..., 230.09, 230.78, 228.19],\n",
       "       [ 29.61,  29.69,  30.71, ..., 224.86, 227.21, 227.22],\n",
       "       [ 29.61,  28.28,  30.19, ..., 220.51, 224.43, 224.85],\n",
       "       ...,\n",
       "       [ 23.67,  23.05,  24.06, ...,  32.54,  32.07,  35.28],\n",
       "       [ 24.03,  22.45,  22.4 , ...,  31.67,  30.75,  32.72],\n",
       "       [ 25.78,  23.27,  21.92, ...,  31.12,  31.29,  32.94]]),\n",
       "       array([[41.55, 40.2 , 38.3 , ..., 55.67, 57.17, 58.65],\n",
       "       [43.66, 42.2 , 38.59, ..., 50.35, 54.83, 57.9 ],\n",
       "       [42.07, 41.46, 38.3 , ..., 49.46, 52.67, 55.61],\n",
       "       ...,\n",
       "       [30.04, 31.05, 30.92, ..., 45.04, 44.93, 44.81],\n",
       "       [28.88, 29.52, 29.93, ..., 46.5 , 45.65, 45.13],\n",
       "       [27.84, 27.34, 28.5 , ..., 42.75, 43.28, 45.17]])], dtype=object)"
      ]
     },
     "execution_count": 13,
     "metadata": {},
     "output_type": "execute_result"
    }
   ],
   "source": [
    "avg_image"
   ]
  },
  {
   "cell_type": "markdown",
   "metadata": {},
   "source": [
    "It's a bit subtle, but `fetch` returns a NumPy array of the attribute, even if the attribute contains a NumPy array. So here, we actually got a NumPy array of NumPy array. We can of course just index into it,"
   ]
  },
  {
   "cell_type": "code",
   "execution_count": 17,
   "metadata": {},
   "outputs": [
    {
     "data": {
      "text/plain": [
       "array([[32.73, 30.77, 31.74, ..., 65.76, 62.77, 58.65],\n",
       "       [30.07, 27.96, 28.74, ..., 60.11, 58.1 , 54.59],\n",
       "       [28.91, 27.02, 27.12, ..., 58.01, 56.1 , 53.25],\n",
       "       ...,\n",
       "       [35.17, 35.56, 34.37, ..., 21.08, 21.45, 21.09],\n",
       "       [33.14, 35.73, 37.64, ..., 20.42, 21.24, 21.51],\n",
       "       [33.52, 37.65, 41.71, ..., 19.82, 20.29, 21.36]])"
      ]
     },
     "execution_count": 17,
     "metadata": {},
     "output_type": "execute_result"
    }
   ],
   "source": [
    "avg_image[0]"
   ]
  },
  {
   "cell_type": "markdown",
   "metadata": {},
   "source": [
    "but if we knew that there was only one item, we can use `fetch1` instead to save some trouble"
   ]
  },
  {
   "cell_type": "code",
   "execution_count": 18,
   "metadata": {},
   "outputs": [],
   "source": [
    "avg_image = (AverageFrame & key).fetch1('average_frame')"
   ]
  },
  {
   "cell_type": "code",
   "execution_count": 19,
   "metadata": {},
   "outputs": [
    {
     "data": {
      "text/plain": [
       "array([[32.73, 30.77, 31.74, ..., 65.76, 62.77, 58.65],\n",
       "       [30.07, 27.96, 28.74, ..., 60.11, 58.1 , 54.59],\n",
       "       [28.91, 27.02, 27.12, ..., 58.01, 56.1 , 53.25],\n",
       "       ...,\n",
       "       [35.17, 35.56, 34.37, ..., 21.08, 21.45, 21.09],\n",
       "       [33.14, 35.73, 37.64, ..., 20.42, 21.24, 21.51],\n",
       "       [33.52, 37.65, 41.71, ..., 19.82, 20.29, 21.36]])"
      ]
     },
     "execution_count": 19,
     "metadata": {},
     "output_type": "execute_result"
    }
   ],
   "source": [
    "avg_image"
   ]
  },
  {
   "cell_type": "markdown",
   "metadata": {},
   "source": [
    "Let's plot to take a quick look:"
   ]
  },
  {
   "cell_type": "code",
   "execution_count": 20,
   "metadata": {},
   "outputs": [
    {
     "data": {
      "text/plain": [
       "<matplotlib.image.AxesImage at 0x127b47128>"
      ]
     },
     "execution_count": 20,
     "metadata": {},
     "output_type": "execute_result"
    },
    {
     "data": {
      "image/png": "[encoded data removed]",
      "text/plain": [
       "<Figure size 432x288 with 1 Axes>"
      ]
     },
     "metadata": {
      "needs_background": "light"
     },
     "output_type": "display_data"
    }
   ],
   "source": [
    "plt.imshow(avg_image, cmap=plt.cm.gray)"
   ]
  },
  {
   "cell_type": "markdown",
   "metadata": {},
   "source": [
    "There are multiple ways to perform the segementation. To keep it simple, we just detect the cells by setting up the threshold on the average image."
   ]
  },
  {
   "cell_type": "code",
   "execution_count": 21,
   "metadata": {},
   "outputs": [
    {
     "data": {
      "text/plain": [
       "<matplotlib.image.AxesImage at 0x127c937b8>"
      ]
     },
     "execution_count": 21,
     "metadata": {},
     "output_type": "execute_result"
    },
    {
     "data": {
      "image/png": "[encoded data removed]",
      "text/plain": [
       "<Figure size 432x288 with 1 Axes>"
      ]
     },
     "metadata": {
      "needs_background": "light"
     },
     "output_type": "display_data"
    }
   ],
   "source": [
    "threshold = 50\n",
    "mask = avg_image > threshold\n",
    "plt.imshow(mask)"
   ]
  },
  {
   "cell_type": "markdown",
   "metadata": {},
   "source": [
    "The outcome is different across different threholds we set. Therefore, this threshold is a parameter we could potentially tweak."
   ]
  },
  {
   "cell_type": "code",
   "execution_count": 22,
   "metadata": {},
   "outputs": [
    {
     "data": {
      "text/plain": [
       "<matplotlib.image.AxesImage at 0x127c23a20>"
      ]
     },
     "execution_count": 22,
     "metadata": {},
     "output_type": "execute_result"
    },
    {
     "data": {
      "image/png": "[encoded data removed]",
      "text/plain": [
       "<Figure size 432x288 with 1 Axes>"
      ]
     },
     "metadata": {
      "needs_background": "light"
     },
     "output_type": "display_data"
    }
   ],
   "source": [
    "threshold = 60\n",
    "mask = avg_image > threshold\n",
    "plt.imshow(mask)"
   ]
  },
  {
   "cell_type": "markdown",
   "metadata": {},
   "source": [
    "Now we could use scipy.ndimage to detect the blobs from this binary mask\n",
    "\n",
    "For the detailed tutorial, please refer to https://scipy-lectures.org/advanced/image_processing/index.html#segmentation"
   ]
  },
  {
   "cell_type": "code",
   "execution_count": 23,
   "metadata": {},
   "outputs": [],
   "source": [
    "from scipy import ndimage"
   ]
  },
  {
   "cell_type": "markdown",
   "metadata": {},
   "source": [
    "The method `label` marks each blob with different number, `label_im` is the image with different blobs marked with different number and `nb_labels` is the number of blobs that are detected"
   ]
  },
  {
   "cell_type": "code",
   "execution_count": 24,
   "metadata": {},
   "outputs": [
    {
     "name": "stdout",
     "output_type": "stream",
     "text": [
      "10\n"
     ]
    },
    {
     "data": {
      "text/plain": [
       "<matplotlib.image.AxesImage at 0x127f4c128>"
      ]
     },
     "execution_count": 24,
     "metadata": {},
     "output_type": "execute_result"
    },
    {
     "data": {
      "image/png": "[encoded data removed]",
      "text/plain": [
       "<Figure size 432x288 with 1 Axes>"
      ]
     },
     "metadata": {
      "needs_background": "light"
     },
     "output_type": "display_data"
    }
   ],
   "source": [
    "label_im, nb_labels = ndimage.label(mask)\n",
    "print(nb_labels)\n",
    "plt.imshow(label_im) "
   ]
  },
  {
   "cell_type": "code",
   "execution_count": 25,
   "metadata": {},
   "outputs": [
    {
     "data": {
      "text/plain": [
       "array([ 0,  1,  2,  3,  4,  5,  6,  7,  8,  9, 10], dtype=int32)"
      ]
     },
     "execution_count": 25,
     "metadata": {},
     "output_type": "execute_result"
    }
   ],
   "source": [
    "np.unique(label_im)"
   ]
  },
  {
   "cell_type": "markdown",
   "metadata": {},
   "source": [
    "0 marks the background and 1 to 10 mark the detected blobs. Some of these are too small to be cells. We could set a cutoff on size to filter out the small blobs. Here the cutoff is another parameter that could be tweaked."
   ]
  },
  {
   "cell_type": "code",
   "execution_count": 26,
   "metadata": {},
   "outputs": [
    {
     "data": {
      "text/plain": [
       "<matplotlib.image.AxesImage at 0x1280c2550>"
      ]
     },
     "execution_count": 26,
     "metadata": {},
     "output_type": "execute_result"
    },
    {
     "data": {
      "image/png": "[encoded data removed]",
      "text/plain": [
       "<Figure size 432x288 with 1 Axes>"
      ]
     },
     "metadata": {
      "needs_background": "light"
     },
     "output_type": "display_data"
    }
   ],
   "source": [
    "size_cutoff = 50\n",
    "sizes = np.array([np.sum(label_im==i) for i in np.unique(label_im)])\n",
    "\n",
    "small_size_filter = sizes < size_cutoff\n",
    "pixel_to_remove = small_size_filter[label_im]\n",
    "\n",
    "label_im[pixel_to_remove] = 0\n",
    "plt.imshow(label_im)"
   ]
  },
  {
   "cell_type": "markdown",
   "metadata": {},
   "source": [
    "Now there are only two blobs left."
   ]
  },
  {
   "cell_type": "markdown",
   "metadata": {},
   "source": [
    "Next let's separate out each mask."
   ]
  },
  {
   "cell_type": "code",
   "execution_count": 27,
   "metadata": {},
   "outputs": [],
   "source": [
    "rois = []\n",
    "for i in np.unique(label_im)[1:]: # 0 is the background\n",
    "    rois.append(label_im == i)"
   ]
  },
  {
   "cell_type": "code",
   "execution_count": 28,
   "metadata": {},
   "outputs": [
    {
     "data": {
      "text/plain": [
       "[array([[False, False, False, ...,  True,  True, False],\n",
       "        [False, False, False, ...,  True, False, False],\n",
       "        [False, False, False, ..., False, False, False],\n",
       "        ...,\n",
       "        [False, False, False, ..., False, False, False],\n",
       "        [False, False, False, ..., False, False, False],\n",
       "        [False, False, False, ..., False, False, False]]),\n",
       " array([[False, False, False, ..., False, False, False],\n",
       "        [False, False, False, ..., False, False, False],\n",
       "        [False, False, False, ..., False, False, False],\n",
       "        ...,\n",
       "        [False, False, False, ..., False, False, False],\n",
       "        [False, False, False, ..., False, False, False],\n",
       "        [False, False, False, ..., False, False, False]]),\n",
       " array([[False, False, False, ..., False, False, False],\n",
       "        [False, False, False, ..., False, False, False],\n",
       "        [False, False, False, ..., False, False, False],\n",
       "        ...,\n",
       "        [False, False, False, ..., False, False, False],\n",
       "        [False, False, False, ..., False, False, False],\n",
       "        [False, False, False, ..., False, False, False]])]"
      ]
     },
     "execution_count": 28,
     "metadata": {},
     "output_type": "execute_result"
    }
   ],
   "source": [
    "rois"
   ]
  },
  {
   "cell_type": "markdown",
   "metadata": {},
   "source": [
    "There are two special notes about the analyses we performed above.\n",
    "1. The segmentation results are dependent on the parameters `threshold` and `size_cutoff`. Rather than fixing the value of the threshold, we might want to try different values and see what works well.\n",
    "2. For the segemtation analyses of each `AverageFrame`, the result is a number of ROIs instead of one. We need to perform the analyses on the level of each `AverageFrame`, but save the result on the granularity of each `Roi`.\n",
    "\n",
    "Next we would like to introduce two DataJoint table tiers to help handling these two needs."
   ]
  },
  {
   "cell_type": "markdown",
   "metadata": {},
   "source": [
    "## Parameter `Lookup` table"
   ]
  },
  {
   "cell_type": "markdown",
   "metadata": {},
   "source": [
    "We would like to perform the segmentation for a **combination** of `AverageFrame`s and different set of paremeters of `threshold` and `size_cutoff` values. To do this while still taking advantage of the `make` and `populate` logic, you would want to define a table to house parameters for segmentation in a `Lookup` table!"
   ]
  },
  {
   "cell_type": "markdown",
   "metadata": {},
   "source": [
    "Let's define `Param` table to hold different parameter configuration for our segmentation algorithm. We are going to define this table as a `Lookup` table, rather than a `Manual` table. By now, you know that `Lookup` must be yet another **table tier** in DataJoint. `Lookup` tables are depicted by gray boxes in the ERD.\n",
    "\n",
    "This tier indicates that the table will contain information:\n",
    "* that will be referenced by other tables\n",
    "* that doesn't change much - usually contains a few pre-known entries\n",
    "\n",
    "NB: I personally do not use `Lookup` tables, but another method to keep track of parameters. This method will be introduced in the next lecture."
   ]
  },
  {
   "cell_type": "code",
   "execution_count": 29,
   "metadata": {},
   "outputs": [],
   "source": [
    "@schema\n",
    "class SegmentationParam(dj.Lookup):\n",
    "    definition = \"\"\"\n",
    "    seg_param_id        : int      # unique id for cell segmentation parameter set\n",
    "    ---\n",
    "    threshold           : float\n",
    "    size_cutoff         : float\n",
    "    \"\"\""
   ]
  },
  {
   "cell_type": "code",
   "execution_count": 30,
   "metadata": {},
   "outputs": [
    {
     "data": {
      "image/svg+xml": [
       "<svg height=\"256pt\" viewBox=\"0.00 0.00 269.00 256.00\" width=\"269pt\" xmlns=\"http://www.w3.org/2000/svg\" xmlns:xlink=\"http://www.w3.org/1999/xlink\">\n",
       "<g class=\"graph\" id=\"graph0\" transform=\"scale(1 1) rotate(0) translate(4 252)\">\n",
       "<title>%3</title>\n",
       "<polygon fill=\"#ffffff\" points=\"-4,4 -4,-252 265,-252 265,4 -4,4\" stroke=\"transparent\"/>\n",
       "<!-- AverageFrame -->\n",
       "<g class=\"node\" id=\"node1\">\n",
       "<title>AverageFrame</title>\n",
       "<g id=\"a_node1\"><a xlink:title=\"→ Scan\r",
       "------------------------------\r",
       "average_frame        \r",
       "\">\n",
       "<ellipse cx=\"60\" cy=\"-17.5\" fill=\"#00007f\" fill-opacity=\"0.250980\" rx=\"60\" ry=\"17.5\" stroke=\"#00007f\" stroke-opacity=\"0.250980\"/>\n",
       "<text fill=\"#00007f\" font-family=\"arial\" font-size=\"12.00\" text-anchor=\"middle\" x=\"60\" y=\"-14.4\">AverageFrame</text>\n",
       "</a>\n",
       "</g>\n",
       "</g>\n",
       "<!-- SegmentationParam -->\n",
       "<g class=\"node\" id=\"node2\">\n",
       "<title>SegmentationParam</title>\n",
       "<g id=\"a_node2\"><a xlink:title=\"seg_param_id         \r",
       "------------------------------\r",
       "threshold            \r",
       "size_cutoff          \r",
       "\">\n",
       "<polygon fill=\"#000000\" fill-opacity=\"0.125490\" points=\"261,-248 153,-248 153,-213 261,-213 261,-248\" stroke=\"transparent\"/>\n",
       "<text fill=\"#000000\" font-family=\"arial\" font-size=\"10.00\" text-anchor=\"start\" text-decoration=\"underline\" x=\"161\" y=\"-229\">SegmentationParam</text>\n",
       "</a>\n",
       "</g>\n",
       "</g>\n",
       "<!-- Session -->\n",
       "<g class=\"node\" id=\"node3\">\n",
       "<title>Session</title>\n",
       "<g id=\"a_node3\"><a xlink:title=\"→ Fly\r",
       "session_date         \r",
       "------------------------------\r",
       "experiment_setup     \r",
       "experimenter         \r",
       "data_path=&quot;&quot;         \r",
       "\">\n",
       "<polygon fill=\"#00ff00\" fill-opacity=\"0.188235\" points=\"146.5,-177 87.5,-177 87.5,-142 146.5,-142 146.5,-177\" stroke=\"#00ff00\" stroke-opacity=\"0.188235\"/>\n",
       "<text fill=\"#006400\" font-family=\"arial\" font-size=\"12.00\" text-anchor=\"start\" text-decoration=\"underline\" x=\"95.5\" y=\"-157.4\">Session</text>\n",
       "</a>\n",
       "</g>\n",
       "</g>\n",
       "<!-- Scan -->\n",
       "<g class=\"node\" id=\"node6\">\n",
       "<title>Scan</title>\n",
       "<g id=\"a_node6\"><a xlink:title=\"→ Session\r",
       "scan_idx             \r",
       "------------------------------\r",
       "depth                \r",
       "wavelength           \r",
       "laser_power          \r",
       "fps                  \r",
       "file_name            \r",
       "\">\n",
       "<polygon fill=\"#00ff00\" fill-opacity=\"0.188235\" points=\"139,-106 95,-106 95,-71 139,-71 139,-106\" stroke=\"#00ff00\" stroke-opacity=\"0.188235\"/>\n",
       "<text fill=\"#006400\" font-family=\"arial\" font-size=\"12.00\" text-anchor=\"start\" text-decoration=\"underline\" x=\"103\" y=\"-86.4\">Scan</text>\n",
       "</a>\n",
       "</g>\n",
       "</g>\n",
       "<!-- Session&#45;&gt;Scan -->\n",
       "<g class=\"edge\" id=\"edge1\">\n",
       "<title>Session-&gt;Scan</title>\n",
       "<path d=\"M117,-141.9494C117,-131.1083 117,-117.2366 117,-106.3418\" fill=\"none\" stroke=\"#000000\" stroke-opacity=\"0.250980\" stroke-width=\".75\"/>\n",
       "</g>\n",
       "<!-- Fly -->\n",
       "<g class=\"node\" id=\"node4\">\n",
       "<title>Fly</title>\n",
       "<g id=\"a_node4\"><a xlink:title=\"fly_id               \r",
       "------------------------------\r",
       "dob=null             \r",
       "sex=&quot;U&quot;              \r",
       "\">\n",
       "<polygon fill=\"#00ff00\" fill-opacity=\"0.188235\" points=\"134.5,-248 99.5,-248 99.5,-213 134.5,-213 134.5,-248\" stroke=\"#00ff00\" stroke-opacity=\"0.188235\"/>\n",
       "<text fill=\"#006400\" font-family=\"arial\" font-size=\"12.00\" text-anchor=\"start\" text-decoration=\"underline\" x=\"109\" y=\"-228.4\">Fly</text>\n",
       "</a>\n",
       "</g>\n",
       "</g>\n",
       "<!-- Fly&#45;&gt;Session -->\n",
       "<g class=\"edge\" id=\"edge2\">\n",
       "<title>Fly-&gt;Session</title>\n",
       "<path d=\"M117,-212.9494C117,-202.1083 117,-188.2366 117,-177.3418\" fill=\"none\" stroke=\"#000000\" stroke-opacity=\"0.250980\" stroke-width=\".75\"/>\n",
       "</g>\n",
       "<!-- Frames -->\n",
       "<g class=\"node\" id=\"node5\">\n",
       "<title>Frames</title>\n",
       "<g id=\"a_node5\"><a xlink:title=\"→ Scan\r",
       "------------------------------\r",
       "frames               \r",
       "INDEX (frames)\r",
       "\">\n",
       "<ellipse cx=\"174\" cy=\"-17.5\" fill=\"#00007f\" fill-opacity=\"0.250980\" rx=\"35.7504\" ry=\"17.5\" stroke=\"#00007f\" stroke-opacity=\"0.250980\"/>\n",
       "<text fill=\"#00007f\" font-family=\"arial\" font-size=\"12.00\" text-anchor=\"middle\" x=\"174\" y=\"-14.4\">Frames</text>\n",
       "</a>\n",
       "</g>\n",
       "</g>\n",
       "<!-- Scan&#45;&gt;AverageFrame -->\n",
       "<g class=\"edge\" id=\"edge3\">\n",
       "<title>Scan-&gt;AverageFrame</title>\n",
       "<path d=\"M102.9101,-70.9494C94.0748,-59.9441 82.7322,-45.8155 73.9278,-34.8487\" fill=\"none\" stroke=\"#000000\" stroke-opacity=\"0.250980\" stroke-width=\"2\"/>\n",
       "</g>\n",
       "<!-- Scan&#45;&gt;Frames -->\n",
       "<g class=\"edge\" id=\"edge4\">\n",
       "<title>Scan-&gt;Frames</title>\n",
       "<path d=\"M131.0899,-70.9494C140.1889,-59.6156 151.9472,-44.9692 160.8537,-33.8752\" fill=\"none\" stroke=\"#000000\" stroke-opacity=\"0.250980\" stroke-width=\"2\"/>\n",
       "</g>\n",
       "</g>\n",
       "</svg>"
      ],
      "text/plain": [
       "<datajoint.diagram.Diagram at 0x128110a90>"
      ]
     },
     "execution_count": 30,
     "metadata": {},
     "output_type": "execute_result"
    }
   ],
   "source": [
    "dj.ERD(schema)"
   ]
  },
  {
   "cell_type": "markdown",
   "metadata": {},
   "source": [
    "So far the `SegmentationParam` is an extra table that did not relate with any of the existing, but the `Segmentation` will depend on this table."
   ]
  },
  {
   "cell_type": "markdown",
   "metadata": {},
   "source": [
    "## Master `Computed` table `Segmentation` and `Part` table for `Roi`"
   ]
  },
  {
   "cell_type": "markdown",
   "metadata": {},
   "source": [
    "As mentioned above, we performed the segmentation processing on each `AverageFrame`, but the product is the masks of each ROI. In this case, we could create a `Computed` table `Segmentation` containing the `make` method to drive the processing, while using a `Part` table to save results into `Roi`.\n",
    "\n",
    "`Computed` table and `Part` table are another two table tiers like `Manual`, `Lookup`, and `Imported` we introduced previously.  \n",
    "\n",
    "`Computed` table is very similar to the `Imported` table, which also supports the definition of `make` function and `populate`. The only difference is that the computation in an `Imported` table is dependent on external data, while the computation in a `Computed` table only depends on data inside the database.\n",
    "\n",
    "Contents in a `Part` table is dependent on its **master** table and the master table could be any type of table. This current example is a very typical usage of Part table. The master `Computed` serves as the driver for computation and the major results with a smaller granularity are saved in the `Part` table."
   ]
  },
  {
   "cell_type": "code",
   "execution_count": 31,
   "metadata": {},
   "outputs": [],
   "source": [
    "@schema\n",
    "class Segmentation(dj.Computed):\n",
    "    definition = \"\"\"\n",
    "    -> AverageFrame\n",
    "    -> SegmentationParam\n",
    "    ---\n",
    "    segmented_masks         : longblob   # overview of segmented masks\n",
    "    \"\"\"\n",
    "    class Roi(dj.Part):\n",
    "        definition = \"\"\"\n",
    "        -> master\n",
    "        roi_idx             : int        # index of an roi\n",
    "        ---\n",
    "        mask                : longblob   # mask of this roi\n",
    "        \"\"\""
   ]
  },
  {
   "cell_type": "markdown",
   "metadata": {},
   "source": [
    "Notice that in the definition of `Roi`, apart from inheriting the primary from its master table `Segmentation`, the Roi has another primary key attribute `roi_idx`. The relationship between `Segmentation` and `Roi` is **one-to-many**."
   ]
  },
  {
   "cell_type": "code",
   "execution_count": 32,
   "metadata": {},
   "outputs": [
    {
     "data": {
      "image/svg+xml": [
       "<svg height=\"373pt\" viewBox=\"0.00 0.00 343.62 373.00\" width=\"344pt\" xmlns=\"http://www.w3.org/2000/svg\" xmlns:xlink=\"http://www.w3.org/1999/xlink\">\n",
       "<g class=\"graph\" id=\"graph0\" transform=\"scale(1 1) rotate(0) translate(4 369)\">\n",
       "<title>%3</title>\n",
       "<polygon fill=\"#ffffff\" points=\"-4,4 -4,-369 339.625,-369 339.625,4 -4,4\" stroke=\"transparent\"/>\n",
       "<!-- AverageFrame -->\n",
       "<g class=\"node\" id=\"node1\">\n",
       "<title>AverageFrame</title>\n",
       "<g id=\"a_node1\"><a xlink:title=\"→ Scan\r",
       "------------------------------\r",
       "average_frame        \r",
       "\">\n",
       "<ellipse cx=\"186\" cy=\"-134.5\" fill=\"#00007f\" fill-opacity=\"0.250980\" rx=\"60\" ry=\"17.5\" stroke=\"#00007f\" stroke-opacity=\"0.250980\"/>\n",
       "<text fill=\"#00007f\" font-family=\"arial\" font-size=\"12.00\" text-anchor=\"middle\" x=\"186\" y=\"-131.4\">AverageFrame</text>\n",
       "</a>\n",
       "</g>\n",
       "</g>\n",
       "<!-- Segmentation -->\n",
       "<g class=\"node\" id=\"node8\">\n",
       "<title>Segmentation</title>\n",
       "<g id=\"a_node8\"><a xlink:title=\"→ AverageFrame\r",
       "→ SegmentationParam\r",
       "------------------------------\r",
       "segmented_masks      \r",
       "\">\n",
       "<ellipse cx=\"120\" cy=\"-68\" fill=\"#ff0000\" fill-opacity=\"0.125490\" rx=\"13\" ry=\"13\" stroke=\"#ff0000\" stroke-opacity=\"0.125490\"/>\n",
       "<text fill=\"#7f0000\" font-family=\"arial\" font-size=\"12.00\" text-anchor=\"middle\" x=\"120\" y=\"-64.9\">Segmentation</text>\n",
       "</a>\n",
       "</g>\n",
       "</g>\n",
       "<!-- AverageFrame&#45;&gt;Segmentation -->\n",
       "<g class=\"edge\" id=\"edge1\">\n",
       "<title>AverageFrame-&gt;Segmentation</title>\n",
       "<path d=\"M169.0034,-117.3746C156.3229,-104.5981 139.4829,-87.6305 129.2096,-77.2793\" fill=\"none\" stroke=\"#000000\" stroke-opacity=\"0.250980\" stroke-width=\".75\"/>\n",
       "</g>\n",
       "<!-- Segmentation.Roi -->\n",
       "<g class=\"node\" id=\"node2\">\n",
       "<title>Segmentation.Roi</title>\n",
       "<g id=\"a_node2\"><a xlink:title=\"→ Segmentation\r",
       "roi_idx              \r",
       "------------------------------\r",
       "mask                 \r",
       "\">\n",
       "<polygon fill=\"transparent\" points=\"168,-19 72,-19 72,0 168,0 168,-19\" stroke=\"transparent\"/>\n",
       "<text fill=\"#000000\" font-family=\"arial\" font-size=\"10.00\" text-anchor=\"start\" text-decoration=\"underline\" x=\"80\" y=\"-8\">Segmentation.Roi</text>\n",
       "</a>\n",
       "</g>\n",
       "</g>\n",
       "<!-- SegmentationParam -->\n",
       "<g class=\"node\" id=\"node3\">\n",
       "<title>SegmentationParam</title>\n",
       "<g id=\"a_node3\"><a xlink:title=\"seg_param_id         \r",
       "------------------------------\r",
       "threshold            \r",
       "size_cutoff          \r",
       "\">\n",
       "<polygon fill=\"#000000\" fill-opacity=\"0.125490\" points=\"108,-152 0,-152 0,-117 108,-117 108,-152\" stroke=\"transparent\"/>\n",
       "<text fill=\"#000000\" font-family=\"arial\" font-size=\"10.00\" text-anchor=\"start\" text-decoration=\"underline\" x=\"8\" y=\"-133\">SegmentationParam</text>\n",
       "</a>\n",
       "</g>\n",
       "</g>\n",
       "<!-- SegmentationParam&#45;&gt;Segmentation -->\n",
       "<g class=\"edge\" id=\"edge2\">\n",
       "<title>SegmentationParam-&gt;Segmentation</title>\n",
       "<path d=\"M71.6868,-116.6792C84.211,-104.0601 100.5163,-87.6313 110.6183,-77.4528\" fill=\"none\" stroke=\"#000000\" stroke-opacity=\"0.250980\" stroke-width=\".75\"/>\n",
       "</g>\n",
       "<!-- Session -->\n",
       "<g class=\"node\" id=\"node4\">\n",
       "<title>Session</title>\n",
       "<g id=\"a_node4\"><a xlink:title=\"→ Fly\r",
       "session_date         \r",
       "------------------------------\r",
       "experiment_setup     \r",
       "experimenter         \r",
       "data_path=&quot;&quot;         \r",
       "\">\n",
       "<polygon fill=\"#00ff00\" fill-opacity=\"0.188235\" points=\"272.5,-294 213.5,-294 213.5,-259 272.5,-259 272.5,-294\" stroke=\"#00ff00\" stroke-opacity=\"0.188235\"/>\n",
       "<text fill=\"#006400\" font-family=\"arial\" font-size=\"12.00\" text-anchor=\"start\" text-decoration=\"underline\" x=\"221.5\" y=\"-274.4\">Session</text>\n",
       "</a>\n",
       "</g>\n",
       "</g>\n",
       "<!-- Scan -->\n",
       "<g class=\"node\" id=\"node7\">\n",
       "<title>Scan</title>\n",
       "<g id=\"a_node7\"><a xlink:title=\"→ Session\r",
       "scan_idx             \r",
       "------------------------------\r",
       "depth                \r",
       "wavelength           \r",
       "laser_power          \r",
       "fps                  \r",
       "file_name            \r",
       "\">\n",
       "<polygon fill=\"#00ff00\" fill-opacity=\"0.188235\" points=\"265,-223 221,-223 221,-188 265,-188 265,-223\" stroke=\"#00ff00\" stroke-opacity=\"0.188235\"/>\n",
       "<text fill=\"#006400\" font-family=\"arial\" font-size=\"12.00\" text-anchor=\"start\" text-decoration=\"underline\" x=\"229\" y=\"-203.4\">Scan</text>\n",
       "</a>\n",
       "</g>\n",
       "</g>\n",
       "<!-- Session&#45;&gt;Scan -->\n",
       "<g class=\"edge\" id=\"edge3\">\n",
       "<title>Session-&gt;Scan</title>\n",
       "<path d=\"M243,-258.9494C243,-248.1083 243,-234.2366 243,-223.3418\" fill=\"none\" stroke=\"#000000\" stroke-opacity=\"0.250980\" stroke-width=\".75\"/>\n",
       "</g>\n",
       "<!-- Fly -->\n",
       "<g class=\"node\" id=\"node5\">\n",
       "<title>Fly</title>\n",
       "<g id=\"a_node5\"><a xlink:title=\"fly_id               \r",
       "------------------------------\r",
       "dob=null             \r",
       "sex=&quot;U&quot;              \r",
       "\">\n",
       "<polygon fill=\"#00ff00\" fill-opacity=\"0.188235\" points=\"260.5,-365 225.5,-365 225.5,-330 260.5,-330 260.5,-365\" stroke=\"#00ff00\" stroke-opacity=\"0.188235\"/>\n",
       "<text fill=\"#006400\" font-family=\"arial\" font-size=\"12.00\" text-anchor=\"start\" text-decoration=\"underline\" x=\"235\" y=\"-345.4\">Fly</text>\n",
       "</a>\n",
       "</g>\n",
       "</g>\n",
       "<!-- Fly&#45;&gt;Session -->\n",
       "<g class=\"edge\" id=\"edge4\">\n",
       "<title>Fly-&gt;Session</title>\n",
       "<path d=\"M243,-329.9494C243,-319.1083 243,-305.2366 243,-294.3418\" fill=\"none\" stroke=\"#000000\" stroke-opacity=\"0.250980\" stroke-width=\".75\"/>\n",
       "</g>\n",
       "<!-- Frames -->\n",
       "<g class=\"node\" id=\"node6\">\n",
       "<title>Frames</title>\n",
       "<g id=\"a_node6\"><a xlink:title=\"→ Scan\r",
       "------------------------------\r",
       "frames               \r",
       "INDEX (frames)\r",
       "\">\n",
       "<ellipse cx=\"300\" cy=\"-134.5\" fill=\"#00007f\" fill-opacity=\"0.250980\" rx=\"35.7504\" ry=\"17.5\" stroke=\"#00007f\" stroke-opacity=\"0.250980\"/>\n",
       "<text fill=\"#00007f\" font-family=\"arial\" font-size=\"12.00\" text-anchor=\"middle\" x=\"300\" y=\"-131.4\">Frames</text>\n",
       "</a>\n",
       "</g>\n",
       "</g>\n",
       "<!-- Scan&#45;&gt;AverageFrame -->\n",
       "<g class=\"edge\" id=\"edge5\">\n",
       "<title>Scan-&gt;AverageFrame</title>\n",
       "<path d=\"M228.9101,-187.9494C220.0748,-176.9441 208.7322,-162.8155 199.9278,-151.8487\" fill=\"none\" stroke=\"#000000\" stroke-opacity=\"0.250980\" stroke-width=\"2\"/>\n",
       "</g>\n",
       "<!-- Scan&#45;&gt;Frames -->\n",
       "<g class=\"edge\" id=\"edge6\">\n",
       "<title>Scan-&gt;Frames</title>\n",
       "<path d=\"M257.0899,-187.9494C266.1889,-176.6156 277.9472,-161.9692 286.8537,-150.8752\" fill=\"none\" stroke=\"#000000\" stroke-opacity=\"0.250980\" stroke-width=\"2\"/>\n",
       "</g>\n",
       "<!-- Segmentation&#45;&gt;Segmentation.Roi -->\n",
       "<g class=\"edge\" id=\"edge7\">\n",
       "<title>Segmentation-&gt;Segmentation.Roi</title>\n",
       "<path d=\"M120,-54.7254C120,-43.938 120,-28.9687 120,-19.2586\" fill=\"none\" stroke=\"#000000\" stroke-opacity=\"0.250980\" stroke-width=\".75\"/>\n",
       "</g>\n",
       "</g>\n",
       "</svg>"
      ],
      "text/plain": [
       "<datajoint.diagram.Diagram at 0x128224e10>"
      ]
     },
     "execution_count": 32,
     "metadata": {},
     "output_type": "execute_result"
    }
   ],
   "source": [
    "dj.ERD(schema)"
   ]
  },
  {
   "cell_type": "markdown",
   "metadata": {},
   "source": [
    "The `Computed` table is labeled as a pink oval and the `Part` table is bare text. We see that `Segmentation` is a `Computed` table that depends on **both AverageFrame and SegmentationParam**. Finally, let's go ahead and implement the `make` method for the `Segmenation` table. "
   ]
  },
  {
   "cell_type": "markdown",
   "metadata": {},
   "source": [
    "### 2) Try to implement the `make` method yourself before continuing!"
   ]
  },
  {
   "cell_type": "code",
   "execution_count": 29,
   "metadata": {},
   "outputs": [],
   "source": [
    "### Your code here"
   ]
  },
  {
   "cell_type": "code",
   "execution_count": 33,
   "metadata": {},
   "outputs": [],
   "source": [
    "@schema\n",
    "class Segmentation(dj.Computed):\n",
    "    definition = \"\"\"\n",
    "    -> AverageFrame\n",
    "    -> SegmentationParam\n",
    "    ---\n",
    "    segmented_masks         : longblob   # overview of segmented masks\n",
    "    \"\"\"\n",
    "    class Roi(dj.Part):\n",
    "        definition = \"\"\"\n",
    "        -> master\n",
    "        roi_idx             : int        # index of an roi\n",
    "        ---\n",
    "        mask                : longblob   # mask of this roi\n",
    "        \"\"\"\n",
    "    \n",
    "    def make(self, key): # key is one of the primary keys of the join product of AverageFrame and ParameterSet\n",
    "        \n",
    "        print('Populating for: ', key)\n",
    "        \n",
    "        # fetch average image from the previous table AverageFrame\n",
    "        avg_image = (AverageFrame & key).fetch1('average_frame')\n",
    "        \n",
    "        # fetch the parameters threshold and size_cutoff\n",
    "        threshold, size_cutoff = (SegmentationParam & key).fetch1(\n",
    "            'threshold', 'size_cutoff')\n",
    "        \n",
    "        # perform the thresholding and blob detection\n",
    "        mask = avg_image > threshold\n",
    "        label_im, nb_labels = ndimage.label(mask)\n",
    "        sizes = np.array([np.sum(label_im==i) for i in np.unique(label_im)])\n",
    "\n",
    "        small_size_filter = sizes < size_cutoff\n",
    "        pixel_to_remove = small_size_filter[label_im]\n",
    "\n",
    "        label_im[pixel_to_remove] = 0\n",
    "        \n",
    "        rois = []\n",
    "        for i in np.unique(label_im)[1:]: # 0 is the background\n",
    "            rois.append(\n",
    "                dict(**key,       # inherit primary key from master table\n",
    "                     roi_idx=i,    \n",
    "                     mask=label_im==i))\n",
    "        \n",
    "        # insert into the master table first\n",
    "        self.insert1(\n",
    "            dict(**key, segmented_masks=label_im)\n",
    "        )\n",
    "        print('Detected {} ROIs!\\n'.format(len(rois)))\n",
    "        # then insert into the part table\n",
    "        self.Roi.insert(rois)"
   ]
  },
  {
   "cell_type": "markdown",
   "metadata": {},
   "source": [
    "The implementation of the segmentation is pretty much what we had above, except that we now fetch the value of `threshold` and `size_cutoff` from the `SegmentationParam` table.\n",
    "\n",
    "**Important note: always insert into the master table first and then insert the corresponding entries in the part table.** If a master table entry does not exist, its corresponding entries would not be valid."
   ]
  },
  {
   "cell_type": "markdown",
   "metadata": {},
   "source": [
    "Looking at the `Segmentation` table, we see that it indeed inherits the primary key attributes from **both AverageFrame (`mouse_id`, `session_date`, `scan_idx`) and SegmentationParam (`seg_param_id`)**."
   ]
  },
  {
   "cell_type": "code",
   "execution_count": 34,
   "metadata": {},
   "outputs": [
    {
     "data": {
      "text/html": [
       "\n",
       "        \n",
       "        <style type=\"text/css\">\n",
       "            .Relation{\n",
       "                border-collapse:collapse;\n",
       "            }\n",
       "            .Relation th{\n",
       "                background: #A0A0A0; color: #ffffff; padding:4px; border:#f0e0e0 1px solid;\n",
       "                font-weight: normal; font-family: monospace; font-size: 100%;\n",
       "            }\n",
       "            .Relation td{\n",
       "                padding:4px; border:#f0e0e0 1px solid; font-size:100%;\n",
       "            }\n",
       "            .Relation tr:nth-child(odd){\n",
       "                background: #ffffff;\n",
       "            }\n",
       "            .Relation tr:nth-child(even){\n",
       "                background: #f3f1ff;\n",
       "            }\n",
       "            /* Tooltip container */\n",
       "            .djtooltip {\n",
       "            }\n",
       "            /* Tooltip text */\n",
       "            .djtooltip .djtooltiptext {\n",
       "                visibility: hidden;\n",
       "                width: 120px;\n",
       "                background-color: black;\n",
       "                color: #fff;\n",
       "                text-align: center;\n",
       "                padding: 5px 0;\n",
       "                border-radius: 6px;\n",
       "                /* Position the tooltip text - see examples below! */\n",
       "                position: absolute;\n",
       "                z-index: 1;\n",
       "            }\n",
       "            #primary {\n",
       "                font-weight: bold;\n",
       "                color: black;\n",
       "            }\n",
       "\n",
       "            #nonprimary {\n",
       "                font-weight: normal;\n",
       "                color: white;\n",
       "            }\n",
       "\n",
       "            /* Show the tooltip text when you mouse over the tooltip container */\n",
       "            .djtooltip:hover .djtooltiptext {\n",
       "                visibility: visible;\n",
       "            }\n",
       "        </style>\n",
       "        \n",
       "        <b></b>\n",
       "            <div style=\"max-height:1000px;max-width:1500px;overflow:auto;\">\n",
       "            <table border=\"1\" class=\"Relation\">\n",
       "                <thead> <tr style=\"text-align: right;\"> <th> <div class=\"djtooltip\">\n",
       "                                <p id=\"primary\">fly_id</p>\n",
       "                                <span class=\"djtooltiptext\">Unique animal ID</span>\n",
       "                            </div></th><th><div class=\"djtooltip\">\n",
       "                                <p id=\"primary\">session_date</p>\n",
       "                                <span class=\"djtooltiptext\">date</span>\n",
       "                            </div></th><th><div class=\"djtooltip\">\n",
       "                                <p id=\"primary\">scan_idx</p>\n",
       "                                <span class=\"djtooltiptext\">scan index</span>\n",
       "                            </div></th><th><div class=\"djtooltip\">\n",
       "                                <p id=\"primary\">seg_param_id</p>\n",
       "                                <span class=\"djtooltiptext\">unique id for cell segmentation parameter set</span>\n",
       "                            </div></th><th><div class=\"djtooltip\">\n",
       "                                <p id=\"nonprimary\">segmented_masks</p>\n",
       "                                <span class=\"djtooltiptext\">overview of segmented masks</span>\n",
       "                            </div> </th> </tr> </thead>\n",
       "                <tbody> <tr>  </tr> </tbody>\n",
       "            </table>\n",
       "            \n",
       "            <p>Total: 0</p></div>\n",
       "            "
      ],
      "text/plain": [
       "*fly_id    *session_date  *scan_idx    *seg_param_id  segmented_\n",
       "+--------+ +------------+ +----------+ +------------+ +--------+\n",
       "\n",
       " (Total: 0)"
      ]
     },
     "execution_count": 34,
     "metadata": {},
     "output_type": "execute_result"
    }
   ],
   "source": [
    "Segmentation()"
   ]
  },
  {
   "cell_type": "markdown",
   "metadata": {},
   "source": [
    "And for the part table `Segmenation.Roi`, there was an additional primary key attribute `roi_idx`:`"
   ]
  },
  {
   "cell_type": "code",
   "execution_count": 35,
   "metadata": {},
   "outputs": [
    {
     "data": {
      "text/html": [
       "\n",
       "        \n",
       "        <style type=\"text/css\">\n",
       "            .Relation{\n",
       "                border-collapse:collapse;\n",
       "            }\n",
       "            .Relation th{\n",
       "                background: #A0A0A0; color: #ffffff; padding:4px; border:#f0e0e0 1px solid;\n",
       "                font-weight: normal; font-family: monospace; font-size: 100%;\n",
       "            }\n",
       "            .Relation td{\n",
       "                padding:4px; border:#f0e0e0 1px solid; font-size:100%;\n",
       "            }\n",
       "            .Relation tr:nth-child(odd){\n",
       "                background: #ffffff;\n",
       "            }\n",
       "            .Relation tr:nth-child(even){\n",
       "                background: #f3f1ff;\n",
       "            }\n",
       "            /* Tooltip container */\n",
       "            .djtooltip {\n",
       "            }\n",
       "            /* Tooltip text */\n",
       "            .djtooltip .djtooltiptext {\n",
       "                visibility: hidden;\n",
       "                width: 120px;\n",
       "                background-color: black;\n",
       "                color: #fff;\n",
       "                text-align: center;\n",
       "                padding: 5px 0;\n",
       "                border-radius: 6px;\n",
       "                /* Position the tooltip text - see examples below! */\n",
       "                position: absolute;\n",
       "                z-index: 1;\n",
       "            }\n",
       "            #primary {\n",
       "                font-weight: bold;\n",
       "                color: black;\n",
       "            }\n",
       "\n",
       "            #nonprimary {\n",
       "                font-weight: normal;\n",
       "                color: white;\n",
       "            }\n",
       "\n",
       "            /* Show the tooltip text when you mouse over the tooltip container */\n",
       "            .djtooltip:hover .djtooltiptext {\n",
       "                visibility: visible;\n",
       "            }\n",
       "        </style>\n",
       "        \n",
       "        <b></b>\n",
       "            <div style=\"max-height:1000px;max-width:1500px;overflow:auto;\">\n",
       "            <table border=\"1\" class=\"Relation\">\n",
       "                <thead> <tr style=\"text-align: right;\"> <th> <div class=\"djtooltip\">\n",
       "                                <p id=\"primary\">fly_id</p>\n",
       "                                <span class=\"djtooltiptext\">Unique animal ID</span>\n",
       "                            </div></th><th><div class=\"djtooltip\">\n",
       "                                <p id=\"primary\">session_date</p>\n",
       "                                <span class=\"djtooltiptext\">date</span>\n",
       "                            </div></th><th><div class=\"djtooltip\">\n",
       "                                <p id=\"primary\">scan_idx</p>\n",
       "                                <span class=\"djtooltiptext\">scan index</span>\n",
       "                            </div></th><th><div class=\"djtooltip\">\n",
       "                                <p id=\"primary\">seg_param_id</p>\n",
       "                                <span class=\"djtooltiptext\">unique id for cell segmentation parameter set</span>\n",
       "                            </div></th><th><div class=\"djtooltip\">\n",
       "                                <p id=\"primary\">roi_idx</p>\n",
       "                                <span class=\"djtooltiptext\">index of an roi</span>\n",
       "                            </div></th><th><div class=\"djtooltip\">\n",
       "                                <p id=\"nonprimary\">mask</p>\n",
       "                                <span class=\"djtooltiptext\">mask of this roi</span>\n",
       "                            </div> </th> </tr> </thead>\n",
       "                <tbody> <tr>  </tr> </tbody>\n",
       "            </table>\n",
       "            \n",
       "            <p>Total: 0</p></div>\n",
       "            "
      ],
      "text/plain": [
       "*fly_id    *session_date  *scan_idx    *seg_param_id  *roi_idx    mask      \n",
       "+--------+ +------------+ +----------+ +------------+ +---------+ +--------+\n",
       "\n",
       " (Total: 0)"
      ]
     },
     "execution_count": 35,
     "metadata": {},
     "output_type": "execute_result"
    }
   ],
   "source": [
    "Segmentation.Roi()"
   ]
  },
  {
   "cell_type": "markdown",
   "metadata": {},
   "source": [
    "### Populating `Segmentation` table"
   ]
  },
  {
   "cell_type": "markdown",
   "metadata": {},
   "source": [
    "We are now ready to populate! When we call `populate` on `Segmentation`, DataJoint will automatically call `make` on **every valid combination of the parent tables - AverageFrame and SegmentationParam**."
   ]
  },
  {
   "cell_type": "code",
   "execution_count": 36,
   "metadata": {},
   "outputs": [],
   "source": [
    "# ENTER YOUR CODE! - populate the Segmentation table\n",
    "Segmentation.populate()"
   ]
  },
  {
   "cell_type": "markdown",
   "metadata": {},
   "source": [
    "Hm... `populate` doesn't seem to be doing anything... What could be the cause?"
   ]
  },
  {
   "cell_type": "markdown",
   "metadata": {},
   "source": [
    "Looking at `SegmentationParam` reveals the issue:"
   ]
  },
  {
   "cell_type": "code",
   "execution_count": 37,
   "metadata": {},
   "outputs": [
    {
     "data": {
      "text/html": [
       "\n",
       "        \n",
       "        <style type=\"text/css\">\n",
       "            .Relation{\n",
       "                border-collapse:collapse;\n",
       "            }\n",
       "            .Relation th{\n",
       "                background: #A0A0A0; color: #ffffff; padding:4px; border:#f0e0e0 1px solid;\n",
       "                font-weight: normal; font-family: monospace; font-size: 100%;\n",
       "            }\n",
       "            .Relation td{\n",
       "                padding:4px; border:#f0e0e0 1px solid; font-size:100%;\n",
       "            }\n",
       "            .Relation tr:nth-child(odd){\n",
       "                background: #ffffff;\n",
       "            }\n",
       "            .Relation tr:nth-child(even){\n",
       "                background: #f3f1ff;\n",
       "            }\n",
       "            /* Tooltip container */\n",
       "            .djtooltip {\n",
       "            }\n",
       "            /* Tooltip text */\n",
       "            .djtooltip .djtooltiptext {\n",
       "                visibility: hidden;\n",
       "                width: 120px;\n",
       "                background-color: black;\n",
       "                color: #fff;\n",
       "                text-align: center;\n",
       "                padding: 5px 0;\n",
       "                border-radius: 6px;\n",
       "                /* Position the tooltip text - see examples below! */\n",
       "                position: absolute;\n",
       "                z-index: 1;\n",
       "            }\n",
       "            #primary {\n",
       "                font-weight: bold;\n",
       "                color: black;\n",
       "            }\n",
       "\n",
       "            #nonprimary {\n",
       "                font-weight: normal;\n",
       "                color: white;\n",
       "            }\n",
       "\n",
       "            /* Show the tooltip text when you mouse over the tooltip container */\n",
       "            .djtooltip:hover .djtooltiptext {\n",
       "                visibility: visible;\n",
       "            }\n",
       "        </style>\n",
       "        \n",
       "        <b></b>\n",
       "            <div style=\"max-height:1000px;max-width:1500px;overflow:auto;\">\n",
       "            <table border=\"1\" class=\"Relation\">\n",
       "                <thead> <tr style=\"text-align: right;\"> <th> <div class=\"djtooltip\">\n",
       "                                <p id=\"primary\">seg_param_id</p>\n",
       "                                <span class=\"djtooltiptext\">unique id for cell segmentation parameter set</span>\n",
       "                            </div></th><th><div class=\"djtooltip\">\n",
       "                                <p id=\"nonprimary\">threshold</p>\n",
       "                                <span class=\"djtooltiptext\"></span>\n",
       "                            </div></th><th><div class=\"djtooltip\">\n",
       "                                <p id=\"nonprimary\">size_cutoff</p>\n",
       "                                <span class=\"djtooltiptext\"></span>\n",
       "                            </div> </th> </tr> </thead>\n",
       "                <tbody> <tr>  </tr> </tbody>\n",
       "            </table>\n",
       "            \n",
       "            <p>Total: 0</p></div>\n",
       "            "
      ],
      "text/plain": [
       "*seg_param_id  threshold     size_cutoff   \n",
       "+------------+ +-----------+ +------------+\n",
       "\n",
       " (Total: 0)"
      ]
     },
     "execution_count": 37,
     "metadata": {},
     "output_type": "execute_result"
    }
   ],
   "source": [
    "SegmentationParam()"
   ]
  },
  {
   "cell_type": "markdown",
   "metadata": {},
   "source": [
    "That's right! We have not added a parameter set yet. Let's go ahead and add one."
   ]
  },
  {
   "cell_type": "code",
   "execution_count": 38,
   "metadata": {},
   "outputs": [],
   "source": [
    "SegmentationParam.insert1((0, 50, 50))"
   ]
  },
  {
   "cell_type": "code",
   "execution_count": 39,
   "metadata": {},
   "outputs": [
    {
     "data": {
      "text/html": [
       "\n",
       "        \n",
       "        <style type=\"text/css\">\n",
       "            .Relation{\n",
       "                border-collapse:collapse;\n",
       "            }\n",
       "            .Relation th{\n",
       "                background: #A0A0A0; color: #ffffff; padding:4px; border:#f0e0e0 1px solid;\n",
       "                font-weight: normal; font-family: monospace; font-size: 100%;\n",
       "            }\n",
       "            .Relation td{\n",
       "                padding:4px; border:#f0e0e0 1px solid; font-size:100%;\n",
       "            }\n",
       "            .Relation tr:nth-child(odd){\n",
       "                background: #ffffff;\n",
       "            }\n",
       "            .Relation tr:nth-child(even){\n",
       "                background: #f3f1ff;\n",
       "            }\n",
       "            /* Tooltip container */\n",
       "            .djtooltip {\n",
       "            }\n",
       "            /* Tooltip text */\n",
       "            .djtooltip .djtooltiptext {\n",
       "                visibility: hidden;\n",
       "                width: 120px;\n",
       "                background-color: black;\n",
       "                color: #fff;\n",
       "                text-align: center;\n",
       "                padding: 5px 0;\n",
       "                border-radius: 6px;\n",
       "                /* Position the tooltip text - see examples below! */\n",
       "                position: absolute;\n",
       "                z-index: 1;\n",
       "            }\n",
       "            #primary {\n",
       "                font-weight: bold;\n",
       "                color: black;\n",
       "            }\n",
       "\n",
       "            #nonprimary {\n",
       "                font-weight: normal;\n",
       "                color: white;\n",
       "            }\n",
       "\n",
       "            /* Show the tooltip text when you mouse over the tooltip container */\n",
       "            .djtooltip:hover .djtooltiptext {\n",
       "                visibility: visible;\n",
       "            }\n",
       "        </style>\n",
       "        \n",
       "        <b></b>\n",
       "            <div style=\"max-height:1000px;max-width:1500px;overflow:auto;\">\n",
       "            <table border=\"1\" class=\"Relation\">\n",
       "                <thead> <tr style=\"text-align: right;\"> <th> <div class=\"djtooltip\">\n",
       "                                <p id=\"primary\">seg_param_id</p>\n",
       "                                <span class=\"djtooltiptext\">unique id for cell segmentation parameter set</span>\n",
       "                            </div></th><th><div class=\"djtooltip\">\n",
       "                                <p id=\"nonprimary\">threshold</p>\n",
       "                                <span class=\"djtooltiptext\"></span>\n",
       "                            </div></th><th><div class=\"djtooltip\">\n",
       "                                <p id=\"nonprimary\">size_cutoff</p>\n",
       "                                <span class=\"djtooltiptext\"></span>\n",
       "                            </div> </th> </tr> </thead>\n",
       "                <tbody> <tr> <td>0</td>\n",
       "<td>50.0</td>\n",
       "<td>50.0</td> </tr> </tbody>\n",
       "            </table>\n",
       "            \n",
       "            <p>Total: 1</p></div>\n",
       "            "
      ],
      "text/plain": [
       "*seg_param_id  threshold     size_cutoff   \n",
       "+------------+ +-----------+ +------------+\n",
       "0              50.0          50.0          \n",
       " (Total: 1)"
      ]
     },
     "execution_count": 39,
     "metadata": {},
     "output_type": "execute_result"
    }
   ],
   "source": [
    "SegmentationParam()"
   ]
  },
  {
   "cell_type": "markdown",
   "metadata": {},
   "source": [
    "Now we should really be ready to perform the computation..."
   ]
  },
  {
   "cell_type": "code",
   "execution_count": 40,
   "metadata": {},
   "outputs": [
    {
     "name": "stdout",
     "output_type": "stream",
     "text": [
      "Populating for:  {'fly_id': 0, 'session_date': datetime.date(2020, 5, 15), 'scan_idx': 1, 'seg_param_id': 0}\n",
      "Detected 6 ROIs!\n",
      "\n",
      "Populating for:  {'fly_id': 0, 'session_date': datetime.date(2020, 5, 15), 'scan_idx': 2, 'seg_param_id': 0}\n",
      "Detected 6 ROIs!\n",
      "\n",
      "Populating for:  {'fly_id': 100, 'session_date': datetime.date(2020, 5, 25), 'scan_idx': 1, 'seg_param_id': 0}\n",
      "Detected 9 ROIs!\n",
      "\n"
     ]
    }
   ],
   "source": [
    "# ENTER YOUR CODE! - populate the Segmenation table for real!\n",
    "Segmentation.populate()"
   ]
  },
  {
   "cell_type": "code",
   "execution_count": 41,
   "metadata": {},
   "outputs": [
    {
     "data": {
      "text/html": [
       "\n",
       "        \n",
       "        <style type=\"text/css\">\n",
       "            .Relation{\n",
       "                border-collapse:collapse;\n",
       "            }\n",
       "            .Relation th{\n",
       "                background: #A0A0A0; color: #ffffff; padding:4px; border:#f0e0e0 1px solid;\n",
       "                font-weight: normal; font-family: monospace; font-size: 100%;\n",
       "            }\n",
       "            .Relation td{\n",
       "                padding:4px; border:#f0e0e0 1px solid; font-size:100%;\n",
       "            }\n",
       "            .Relation tr:nth-child(odd){\n",
       "                background: #ffffff;\n",
       "            }\n",
       "            .Relation tr:nth-child(even){\n",
       "                background: #f3f1ff;\n",
       "            }\n",
       "            /* Tooltip container */\n",
       "            .djtooltip {\n",
       "            }\n",
       "            /* Tooltip text */\n",
       "            .djtooltip .djtooltiptext {\n",
       "                visibility: hidden;\n",
       "                width: 120px;\n",
       "                background-color: black;\n",
       "                color: #fff;\n",
       "                text-align: center;\n",
       "                padding: 5px 0;\n",
       "                border-radius: 6px;\n",
       "                /* Position the tooltip text - see examples below! */\n",
       "                position: absolute;\n",
       "                z-index: 1;\n",
       "            }\n",
       "            #primary {\n",
       "                font-weight: bold;\n",
       "                color: black;\n",
       "            }\n",
       "\n",
       "            #nonprimary {\n",
       "                font-weight: normal;\n",
       "                color: white;\n",
       "            }\n",
       "\n",
       "            /* Show the tooltip text when you mouse over the tooltip container */\n",
       "            .djtooltip:hover .djtooltiptext {\n",
       "                visibility: visible;\n",
       "            }\n",
       "        </style>\n",
       "        \n",
       "        <b></b>\n",
       "            <div style=\"max-height:1000px;max-width:1500px;overflow:auto;\">\n",
       "            <table border=\"1\" class=\"Relation\">\n",
       "                <thead> <tr style=\"text-align: right;\"> <th> <div class=\"djtooltip\">\n",
       "                                <p id=\"primary\">fly_id</p>\n",
       "                                <span class=\"djtooltiptext\">Unique animal ID</span>\n",
       "                            </div></th><th><div class=\"djtooltip\">\n",
       "                                <p id=\"primary\">session_date</p>\n",
       "                                <span class=\"djtooltiptext\">date</span>\n",
       "                            </div></th><th><div class=\"djtooltip\">\n",
       "                                <p id=\"primary\">scan_idx</p>\n",
       "                                <span class=\"djtooltiptext\">scan index</span>\n",
       "                            </div></th><th><div class=\"djtooltip\">\n",
       "                                <p id=\"primary\">seg_param_id</p>\n",
       "                                <span class=\"djtooltiptext\">unique id for cell segmentation parameter set</span>\n",
       "                            </div></th><th><div class=\"djtooltip\">\n",
       "                                <p id=\"nonprimary\">segmented_masks</p>\n",
       "                                <span class=\"djtooltiptext\">overview of segmented masks</span>\n",
       "                            </div> </th> </tr> </thead>\n",
       "                <tbody> <tr> <td>0</td>\n",
       "<td>2020-05-15</td>\n",
       "<td>1</td>\n",
       "<td>0</td>\n",
       "<td>=BLOB=</td></tr><tr><td>0</td>\n",
       "<td>2020-05-15</td>\n",
       "<td>2</td>\n",
       "<td>0</td>\n",
       "<td>=BLOB=</td></tr><tr><td>100</td>\n",
       "<td>2020-05-25</td>\n",
       "<td>1</td>\n",
       "<td>0</td>\n",
       "<td>=BLOB=</td> </tr> </tbody>\n",
       "            </table>\n",
       "            \n",
       "            <p>Total: 3</p></div>\n",
       "            "
      ],
      "text/plain": [
       "*fly_id    *session_date  *scan_idx    *seg_param_id  segmented_\n",
       "+--------+ +------------+ +----------+ +------------+ +--------+\n",
       "0          2020-05-15     1            0              =BLOB=    \n",
       "0          2020-05-15     2            0              =BLOB=    \n",
       "100        2020-05-25     1            0              =BLOB=    \n",
       " (Total: 3)"
      ]
     },
     "execution_count": 41,
     "metadata": {},
     "output_type": "execute_result"
    }
   ],
   "source": [
    "Segmentation()"
   ]
  },
  {
   "cell_type": "markdown",
   "metadata": {},
   "source": [
    "...and we now have spike detection running!"
   ]
  },
  {
   "cell_type": "markdown",
   "metadata": {},
   "source": [
    "### Trying out other parameter values"
   ]
  },
  {
   "cell_type": "markdown",
   "metadata": {},
   "source": [
    "Let's see how different thresholds affect the results."
   ]
  },
  {
   "cell_type": "code",
   "execution_count": 42,
   "metadata": {},
   "outputs": [],
   "source": [
    "SegmentationParam.insert1((1, 60, 50))  # add another threshold and size cutoff"
   ]
  },
  {
   "cell_type": "code",
   "execution_count": 43,
   "metadata": {},
   "outputs": [
    {
     "data": {
      "text/html": [
       "\n",
       "        \n",
       "        <style type=\"text/css\">\n",
       "            .Relation{\n",
       "                border-collapse:collapse;\n",
       "            }\n",
       "            .Relation th{\n",
       "                background: #A0A0A0; color: #ffffff; padding:4px; border:#f0e0e0 1px solid;\n",
       "                font-weight: normal; font-family: monospace; font-size: 100%;\n",
       "            }\n",
       "            .Relation td{\n",
       "                padding:4px; border:#f0e0e0 1px solid; font-size:100%;\n",
       "            }\n",
       "            .Relation tr:nth-child(odd){\n",
       "                background: #ffffff;\n",
       "            }\n",
       "            .Relation tr:nth-child(even){\n",
       "                background: #f3f1ff;\n",
       "            }\n",
       "            /* Tooltip container */\n",
       "            .djtooltip {\n",
       "            }\n",
       "            /* Tooltip text */\n",
       "            .djtooltip .djtooltiptext {\n",
       "                visibility: hidden;\n",
       "                width: 120px;\n",
       "                background-color: black;\n",
       "                color: #fff;\n",
       "                text-align: center;\n",
       "                padding: 5px 0;\n",
       "                border-radius: 6px;\n",
       "                /* Position the tooltip text - see examples below! */\n",
       "                position: absolute;\n",
       "                z-index: 1;\n",
       "            }\n",
       "            #primary {\n",
       "                font-weight: bold;\n",
       "                color: black;\n",
       "            }\n",
       "\n",
       "            #nonprimary {\n",
       "                font-weight: normal;\n",
       "                color: white;\n",
       "            }\n",
       "\n",
       "            /* Show the tooltip text when you mouse over the tooltip container */\n",
       "            .djtooltip:hover .djtooltiptext {\n",
       "                visibility: visible;\n",
       "            }\n",
       "        </style>\n",
       "        \n",
       "        <b></b>\n",
       "            <div style=\"max-height:1000px;max-width:1500px;overflow:auto;\">\n",
       "            <table border=\"1\" class=\"Relation\">\n",
       "                <thead> <tr style=\"text-align: right;\"> <th> <div class=\"djtooltip\">\n",
       "                                <p id=\"primary\">seg_param_id</p>\n",
       "                                <span class=\"djtooltiptext\">unique id for cell segmentation parameter set</span>\n",
       "                            </div></th><th><div class=\"djtooltip\">\n",
       "                                <p id=\"nonprimary\">threshold</p>\n",
       "                                <span class=\"djtooltiptext\"></span>\n",
       "                            </div></th><th><div class=\"djtooltip\">\n",
       "                                <p id=\"nonprimary\">size_cutoff</p>\n",
       "                                <span class=\"djtooltiptext\"></span>\n",
       "                            </div> </th> </tr> </thead>\n",
       "                <tbody> <tr> <td>0</td>\n",
       "<td>50.0</td>\n",
       "<td>50.0</td></tr><tr><td>1</td>\n",
       "<td>60.0</td>\n",
       "<td>50.0</td> </tr> </tbody>\n",
       "            </table>\n",
       "            \n",
       "            <p>Total: 2</p></div>\n",
       "            "
      ],
      "text/plain": [
       "*seg_param_id  threshold     size_cutoff   \n",
       "+------------+ +-----------+ +------------+\n",
       "0              50.0          50.0          \n",
       "1              60.0          50.0          \n",
       " (Total: 2)"
      ]
     },
     "execution_count": 43,
     "metadata": {},
     "output_type": "execute_result"
    }
   ],
   "source": [
    "SegmentationParam()"
   ]
  },
  {
   "cell_type": "code",
   "execution_count": 44,
   "metadata": {},
   "outputs": [
    {
     "name": "stdout",
     "output_type": "stream",
     "text": [
      "Populating for:  {'fly_id': 0, 'session_date': datetime.date(2020, 5, 15), 'scan_idx': 1, 'seg_param_id': 1}\n",
      "Detected 3 ROIs!\n",
      "\n",
      "Populating for:  {'fly_id': 0, 'session_date': datetime.date(2020, 5, 15), 'scan_idx': 2, 'seg_param_id': 1}\n",
      "Detected 2 ROIs!\n",
      "\n",
      "Populating for:  {'fly_id': 100, 'session_date': datetime.date(2020, 5, 25), 'scan_idx': 1, 'seg_param_id': 1}\n",
      "Detected 3 ROIs!\n",
      "\n"
     ]
    }
   ],
   "source": [
    "# ENTER YOUR CODE! - populate the \"missing\" entry in Segmentation table\n",
    "Segmentation.populate()"
   ]
  },
  {
   "cell_type": "code",
   "execution_count": 45,
   "metadata": {},
   "outputs": [
    {
     "data": {
      "text/html": [
       "\n",
       "        \n",
       "        <style type=\"text/css\">\n",
       "            .Relation{\n",
       "                border-collapse:collapse;\n",
       "            }\n",
       "            .Relation th{\n",
       "                background: #A0A0A0; color: #ffffff; padding:4px; border:#f0e0e0 1px solid;\n",
       "                font-weight: normal; font-family: monospace; font-size: 100%;\n",
       "            }\n",
       "            .Relation td{\n",
       "                padding:4px; border:#f0e0e0 1px solid; font-size:100%;\n",
       "            }\n",
       "            .Relation tr:nth-child(odd){\n",
       "                background: #ffffff;\n",
       "            }\n",
       "            .Relation tr:nth-child(even){\n",
       "                background: #f3f1ff;\n",
       "            }\n",
       "            /* Tooltip container */\n",
       "            .djtooltip {\n",
       "            }\n",
       "            /* Tooltip text */\n",
       "            .djtooltip .djtooltiptext {\n",
       "                visibility: hidden;\n",
       "                width: 120px;\n",
       "                background-color: black;\n",
       "                color: #fff;\n",
       "                text-align: center;\n",
       "                padding: 5px 0;\n",
       "                border-radius: 6px;\n",
       "                /* Position the tooltip text - see examples below! */\n",
       "                position: absolute;\n",
       "                z-index: 1;\n",
       "            }\n",
       "            #primary {\n",
       "                font-weight: bold;\n",
       "                color: black;\n",
       "            }\n",
       "\n",
       "            #nonprimary {\n",
       "                font-weight: normal;\n",
       "                color: white;\n",
       "            }\n",
       "\n",
       "            /* Show the tooltip text when you mouse over the tooltip container */\n",
       "            .djtooltip:hover .djtooltiptext {\n",
       "                visibility: visible;\n",
       "            }\n",
       "        </style>\n",
       "        \n",
       "        <b></b>\n",
       "            <div style=\"max-height:1000px;max-width:1500px;overflow:auto;\">\n",
       "            <table border=\"1\" class=\"Relation\">\n",
       "                <thead> <tr style=\"text-align: right;\"> <th> <div class=\"djtooltip\">\n",
       "                                <p id=\"primary\">fly_id</p>\n",
       "                                <span class=\"djtooltiptext\">Unique animal ID</span>\n",
       "                            </div></th><th><div class=\"djtooltip\">\n",
       "                                <p id=\"primary\">session_date</p>\n",
       "                                <span class=\"djtooltiptext\">date</span>\n",
       "                            </div></th><th><div class=\"djtooltip\">\n",
       "                                <p id=\"primary\">scan_idx</p>\n",
       "                                <span class=\"djtooltiptext\">scan index</span>\n",
       "                            </div></th><th><div class=\"djtooltip\">\n",
       "                                <p id=\"primary\">seg_param_id</p>\n",
       "                                <span class=\"djtooltiptext\">unique id for cell segmentation parameter set</span>\n",
       "                            </div></th><th><div class=\"djtooltip\">\n",
       "                                <p id=\"nonprimary\">segmented_masks</p>\n",
       "                                <span class=\"djtooltiptext\">overview of segmented masks</span>\n",
       "                            </div> </th> </tr> </thead>\n",
       "                <tbody> <tr> <td>0</td>\n",
       "<td>2020-05-15</td>\n",
       "<td>1</td>\n",
       "<td>0</td>\n",
       "<td>=BLOB=</td></tr><tr><td>0</td>\n",
       "<td>2020-05-15</td>\n",
       "<td>2</td>\n",
       "<td>0</td>\n",
       "<td>=BLOB=</td></tr><tr><td>100</td>\n",
       "<td>2020-05-25</td>\n",
       "<td>1</td>\n",
       "<td>0</td>\n",
       "<td>=BLOB=</td></tr><tr><td>0</td>\n",
       "<td>2020-05-15</td>\n",
       "<td>1</td>\n",
       "<td>1</td>\n",
       "<td>=BLOB=</td></tr><tr><td>0</td>\n",
       "<td>2020-05-15</td>\n",
       "<td>2</td>\n",
       "<td>1</td>\n",
       "<td>=BLOB=</td></tr><tr><td>100</td>\n",
       "<td>2020-05-25</td>\n",
       "<td>1</td>\n",
       "<td>1</td>\n",
       "<td>=BLOB=</td> </tr> </tbody>\n",
       "            </table>\n",
       "            \n",
       "            <p>Total: 6</p></div>\n",
       "            "
      ],
      "text/plain": [
       "*fly_id    *session_date  *scan_idx    *seg_param_id  segmented_\n",
       "+--------+ +------------+ +----------+ +------------+ +--------+\n",
       "0          2020-05-15     1            0              =BLOB=    \n",
       "0          2020-05-15     2            0              =BLOB=    \n",
       "100        2020-05-25     1            0              =BLOB=    \n",
       "0          2020-05-15     1            1              =BLOB=    \n",
       "0          2020-05-15     2            1              =BLOB=    \n",
       "100        2020-05-25     1            1              =BLOB=    \n",
       " (Total: 6)"
      ]
     },
     "execution_count": 45,
     "metadata": {},
     "output_type": "execute_result"
    }
   ],
   "source": [
    "Segmentation()"
   ]
  },
  {
   "cell_type": "markdown",
   "metadata": {},
   "source": [
    "You can see that the results of segmentation under different parameter settings can live happily next to each other, without any confusion as to what is what."
   ]
  },
  {
   "cell_type": "markdown",
   "metadata": {},
   "source": [
    "## Deleting entries from \"upstream\""
   ]
  },
  {
   "cell_type": "markdown",
   "metadata": {},
   "source": [
    "Now let's say that we decided that we don't like the first threshold of `50`. While there is really nothing wrong keeping those results around, you might decide that you'd rather delete all computations performed with that threshold to keep your tables clean."
   ]
  },
  {
   "cell_type": "markdown",
   "metadata": {},
   "source": [
    "While you can restrict `Segmentation` table to the specific parameter id (i.e. `seg_param_id = 0`) and delete the entries:"
   ]
  },
  {
   "cell_type": "code",
   "execution_count": 46,
   "metadata": {},
   "outputs": [
    {
     "name": "stdout",
     "output_type": "stream",
     "text": [
      "About to delete\n",
      "`root_hw6`.`__segmentation__roi`: 21 items\n",
      "`root_hw6`.`__segmentation`: 3 items\n",
      "Proceed? [yes, No]: No\n"
     ]
    }
   ],
   "source": [
    "# Select 'No' when it pops up\n",
    "(Segmentation & 'seg_param_id = 0').delete()"
   ]
  },
  {
   "cell_type": "markdown",
   "metadata": {},
   "source": [
    "We can simply delete the unwanted paramter from the `SegmentationParam` table, and let DataJoint cascade the deletion:"
   ]
  },
  {
   "cell_type": "code",
   "execution_count": 47,
   "metadata": {},
   "outputs": [
    {
     "data": {
      "text/html": [
       "\n",
       "        \n",
       "        <style type=\"text/css\">\n",
       "            .Relation{\n",
       "                border-collapse:collapse;\n",
       "            }\n",
       "            .Relation th{\n",
       "                background: #A0A0A0; color: #ffffff; padding:4px; border:#f0e0e0 1px solid;\n",
       "                font-weight: normal; font-family: monospace; font-size: 100%;\n",
       "            }\n",
       "            .Relation td{\n",
       "                padding:4px; border:#f0e0e0 1px solid; font-size:100%;\n",
       "            }\n",
       "            .Relation tr:nth-child(odd){\n",
       "                background: #ffffff;\n",
       "            }\n",
       "            .Relation tr:nth-child(even){\n",
       "                background: #f3f1ff;\n",
       "            }\n",
       "            /* Tooltip container */\n",
       "            .djtooltip {\n",
       "            }\n",
       "            /* Tooltip text */\n",
       "            .djtooltip .djtooltiptext {\n",
       "                visibility: hidden;\n",
       "                width: 120px;\n",
       "                background-color: black;\n",
       "                color: #fff;\n",
       "                text-align: center;\n",
       "                padding: 5px 0;\n",
       "                border-radius: 6px;\n",
       "                /* Position the tooltip text - see examples below! */\n",
       "                position: absolute;\n",
       "                z-index: 1;\n",
       "            }\n",
       "            #primary {\n",
       "                font-weight: bold;\n",
       "                color: black;\n",
       "            }\n",
       "\n",
       "            #nonprimary {\n",
       "                font-weight: normal;\n",
       "                color: white;\n",
       "            }\n",
       "\n",
       "            /* Show the tooltip text when you mouse over the tooltip container */\n",
       "            .djtooltip:hover .djtooltiptext {\n",
       "                visibility: visible;\n",
       "            }\n",
       "        </style>\n",
       "        \n",
       "        <b></b>\n",
       "            <div style=\"max-height:1000px;max-width:1500px;overflow:auto;\">\n",
       "            <table border=\"1\" class=\"Relation\">\n",
       "                <thead> <tr style=\"text-align: right;\"> <th> <div class=\"djtooltip\">\n",
       "                                <p id=\"primary\">seg_param_id</p>\n",
       "                                <span class=\"djtooltiptext\">unique id for cell segmentation parameter set</span>\n",
       "                            </div></th><th><div class=\"djtooltip\">\n",
       "                                <p id=\"nonprimary\">threshold</p>\n",
       "                                <span class=\"djtooltiptext\"></span>\n",
       "                            </div></th><th><div class=\"djtooltip\">\n",
       "                                <p id=\"nonprimary\">size_cutoff</p>\n",
       "                                <span class=\"djtooltiptext\"></span>\n",
       "                            </div> </th> </tr> </thead>\n",
       "                <tbody> <tr> <td>0</td>\n",
       "<td>50.0</td>\n",
       "<td>50.0</td> </tr> </tbody>\n",
       "            </table>\n",
       "            \n",
       "            <p>Total: 1</p></div>\n",
       "            "
      ],
      "text/plain": [
       "*seg_param_id  threshold     size_cutoff   \n",
       "+------------+ +-----------+ +------------+\n",
       "0              50.0          50.0          \n",
       " (Total: 1)"
      ]
     },
     "execution_count": 47,
     "metadata": {},
     "output_type": "execute_result"
    }
   ],
   "source": [
    "SegmentationParam & 'seg_param_id = 0'"
   ]
  },
  {
   "cell_type": "code",
   "execution_count": 48,
   "metadata": {},
   "outputs": [
    {
     "name": "stdout",
     "output_type": "stream",
     "text": [
      "About to delete\n",
      "`root_hw6`.`__segmentation__roi`: 21 items\n",
      "`root_hw6`.`__segmentation`: 3 items\n",
      "`root_hw6`.`#segmentation_param`: 1 items\n",
      "Proceed? [yes, No]: yes\n",
      "Commited.\n"
     ]
    }
   ],
   "source": [
    "(SegmentationParam() & 'seg_param_id = 0').delete()"
   ]
  },
  {
   "cell_type": "code",
   "execution_count": 49,
   "metadata": {},
   "outputs": [
    {
     "data": {
      "text/html": [
       "\n",
       "        \n",
       "        <style type=\"text/css\">\n",
       "            .Relation{\n",
       "                border-collapse:collapse;\n",
       "            }\n",
       "            .Relation th{\n",
       "                background: #A0A0A0; color: #ffffff; padding:4px; border:#f0e0e0 1px solid;\n",
       "                font-weight: normal; font-family: monospace; font-size: 100%;\n",
       "            }\n",
       "            .Relation td{\n",
       "                padding:4px; border:#f0e0e0 1px solid; font-size:100%;\n",
       "            }\n",
       "            .Relation tr:nth-child(odd){\n",
       "                background: #ffffff;\n",
       "            }\n",
       "            .Relation tr:nth-child(even){\n",
       "                background: #f3f1ff;\n",
       "            }\n",
       "            /* Tooltip container */\n",
       "            .djtooltip {\n",
       "            }\n",
       "            /* Tooltip text */\n",
       "            .djtooltip .djtooltiptext {\n",
       "                visibility: hidden;\n",
       "                width: 120px;\n",
       "                background-color: black;\n",
       "                color: #fff;\n",
       "                text-align: center;\n",
       "                padding: 5px 0;\n",
       "                border-radius: 6px;\n",
       "                /* Position the tooltip text - see examples below! */\n",
       "                position: absolute;\n",
       "                z-index: 1;\n",
       "            }\n",
       "            #primary {\n",
       "                font-weight: bold;\n",
       "                color: black;\n",
       "            }\n",
       "\n",
       "            #nonprimary {\n",
       "                font-weight: normal;\n",
       "                color: white;\n",
       "            }\n",
       "\n",
       "            /* Show the tooltip text when you mouse over the tooltip container */\n",
       "            .djtooltip:hover .djtooltiptext {\n",
       "                visibility: visible;\n",
       "            }\n",
       "        </style>\n",
       "        \n",
       "        <b></b>\n",
       "            <div style=\"max-height:1000px;max-width:1500px;overflow:auto;\">\n",
       "            <table border=\"1\" class=\"Relation\">\n",
       "                <thead> <tr style=\"text-align: right;\"> <th> <div class=\"djtooltip\">\n",
       "                                <p id=\"primary\">fly_id</p>\n",
       "                                <span class=\"djtooltiptext\">Unique animal ID</span>\n",
       "                            </div></th><th><div class=\"djtooltip\">\n",
       "                                <p id=\"primary\">session_date</p>\n",
       "                                <span class=\"djtooltiptext\">date</span>\n",
       "                            </div></th><th><div class=\"djtooltip\">\n",
       "                                <p id=\"primary\">scan_idx</p>\n",
       "                                <span class=\"djtooltiptext\">scan index</span>\n",
       "                            </div></th><th><div class=\"djtooltip\">\n",
       "                                <p id=\"primary\">seg_param_id</p>\n",
       "                                <span class=\"djtooltiptext\">unique id for cell segmentation parameter set</span>\n",
       "                            </div></th><th><div class=\"djtooltip\">\n",
       "                                <p id=\"nonprimary\">segmented_masks</p>\n",
       "                                <span class=\"djtooltiptext\">overview of segmented masks</span>\n",
       "                            </div> </th> </tr> </thead>\n",
       "                <tbody> <tr> <td>0</td>\n",
       "<td>2020-05-15</td>\n",
       "<td>1</td>\n",
       "<td>1</td>\n",
       "<td>=BLOB=</td></tr><tr><td>0</td>\n",
       "<td>2020-05-15</td>\n",
       "<td>2</td>\n",
       "<td>1</td>\n",
       "<td>=BLOB=</td></tr><tr><td>100</td>\n",
       "<td>2020-05-25</td>\n",
       "<td>1</td>\n",
       "<td>1</td>\n",
       "<td>=BLOB=</td> </tr> </tbody>\n",
       "            </table>\n",
       "            \n",
       "            <p>Total: 3</p></div>\n",
       "            "
      ],
      "text/plain": [
       "*fly_id    *session_date  *scan_idx    *seg_param_id  segmented_\n",
       "+--------+ +------------+ +----------+ +------------+ +--------+\n",
       "0          2020-05-15     1            1              =BLOB=    \n",
       "0          2020-05-15     2            1              =BLOB=    \n",
       "100        2020-05-25     1            1              =BLOB=    \n",
       " (Total: 3)"
      ]
     },
     "execution_count": 49,
     "metadata": {},
     "output_type": "execute_result"
    }
   ],
   "source": [
    "Segmentation()"
   ]
  },
  {
   "cell_type": "markdown",
   "metadata": {},
   "source": [
    "### Visualize ROIs"
   ]
  },
  {
   "cell_type": "markdown",
   "metadata": {},
   "source": [
    "Now we have all ROI masks saved in the table `Segmentation.Roi`, let's quickly look at an example by fetching the `mask` from the table."
   ]
  },
  {
   "cell_type": "code",
   "execution_count": 50,
   "metadata": {},
   "outputs": [
    {
     "data": {
      "text/plain": [
       "<matplotlib.image.AxesImage at 0x128282320>"
      ]
     },
     "execution_count": 50,
     "metadata": {},
     "output_type": "execute_result"
    },
    {
     "data": {
      "image/png": "[encoded data removed]",
      "text/plain": [
       "<Figure size 432x288 with 1 Axes>"
      ]
     },
     "metadata": {
      "needs_background": "light"
     },
     "output_type": "display_data"
    }
   ],
   "source": [
    "# show one example ROI\n",
    "masks = (Segmentation.Roi).fetch('mask')\n",
    "plt.imshow(masks[4])"
   ]
  },
  {
   "cell_type": "markdown",
   "metadata": {},
   "source": [
    "## Fluorescence trace of each segmented ROI"
   ]
  },
  {
   "cell_type": "markdown",
   "metadata": {},
   "source": [
    "Now we got masks of ROIs in the table `Segmetation.Roi` obtained with different parameter combinations. We would like to extract the fluorescence trace of each segmentation. \n",
    "\n",
    "The table design is similar to the `Segmentation` and `Roi`. The master table `Fluorescence` is the driver for the computation, with a secondary attribute `time` shared across traces of all ROIs. The part table `Trace` saves the extracted trace for each ROI over time (frame). NB: We already have a `Frames` table."
   ]
  },
  {
   "cell_type": "markdown",
   "metadata": {},
   "source": [
    "### 3) Try to implement the `make` method yourself for the `Fluorescence` table."
   ]
  },
  {
   "cell_type": "code",
   "execution_count": 59,
   "metadata": {},
   "outputs": [],
   "source": [
    "from skimage import io\n",
    "import os\n",
    "@schema\n",
    "class Fluorescence(dj.Computed):\n",
    "    definition = \"\"\"\n",
    "    -> Frames\n",
    "    -> Segmentation\n",
    "    ---\n",
    "    time    : longblob    # time for each frame\n",
    "    \"\"\"\n",
    "    \n",
    "    class Trace(dj.Part):\n",
    "        definition = \"\"\"\n",
    "        -> master\n",
    "        -> Segmentation.Roi\n",
    "        ---\n",
    "        trace      :  longblob    # fluorescence trace of each ROI\n",
    "        \"\"\"\n",
    "          \n",
    "    # the master table is mainly to perform the computation, while the part table contains the result\n",
    "    def make(self, key):\n",
    "        \n",
    "        print('Populating: {}'.format(key))\n",
    "        # get movie from Frames\n",
    "        im = (Frames & key).fetch1('frames')\n",
    "        \n",
    "        # get dimensions of the image and reshape\n",
    "        n, w, h = np.shape(im)\n",
    "        im_reshaped = np.reshape(im, [n, w*h])\n",
    "        \n",
    "        # get frames per second to compute time\n",
    "        fps = (Scan & key).fetch1('fps')\n",
    "        \n",
    "        # insert into master table first\n",
    "        self.insert1(dict(**key, time=np.array(range(n))/fps))\n",
    "        \n",
    "        \n",
    "        # extract traces\n",
    "        roi_keys, masks = (Segmentation.Roi & key).fetch('KEY', 'mask')\n",
    "        \n",
    "        traces = []\n",
    "        for roi_key, mask in zip(roi_keys, masks):\n",
    "            \n",
    "            # reshape mask\n",
    "            mask_reshaped = np.reshape(mask, [w*h])\n",
    "            trace = np.mean(im_reshaped[:, mask_reshaped], axis=1)\n",
    "            \n",
    "            traces.append(dict(**roi_key, trace=trace))\n",
    "        \n",
    "        self.Trace.insert(traces)"
   ]
  },
  {
   "cell_type": "code",
   "execution_count": 60,
   "metadata": {},
   "outputs": [],
   "source": [
    "# ENTER YOUR CODE! - populate the Fluorescence table\n",
    "Fluorescence.populate()"
   ]
  },
  {
   "cell_type": "markdown",
   "metadata": {},
   "source": [
    "Now we could plot the traces of an example scan"
   ]
  },
  {
   "cell_type": "code",
   "execution_count": 67,
   "metadata": {},
   "outputs": [
    {
     "data": {
      "text/plain": [
       "Text(0, 0.5, 'Fluorescence')"
      ]
     },
     "execution_count": 67,
     "metadata": {},
     "output_type": "execute_result"
    },
    {
     "data": {
      "image/png": "[encoded data removed]",
      "text/plain": [
       "<Figure size 432x288 with 1 Axes>"
      ]
     },
     "metadata": {
      "needs_background": "light"
     },
     "output_type": "display_data"
    }
   ],
   "source": [
    "key = dict(fly_id=0, session_number=1, scan_idx=1, seg_param_id=1)\n",
    "\n",
    "# ENTER YOUR CODE! - fetch 'time' from the Fluorescence table using fetch1()\n",
    "time = (Fluorescence & key).fetch1()['time']\n",
    "\n",
    "# ENTER YOUR CODE! - fetch 'trace' from the Fluorescence.Trace table using fetch()\n",
    "traces = (Fluorescence.Trace & key).fetch()['trace']\n",
    "\n",
    "plt.plot(time, np.vstack(traces).T)\n",
    "plt.xlabel('Time (s)')\n",
    "plt.ylabel('Fluorescence')"
   ]
  },
  {
   "cell_type": "markdown",
   "metadata": {},
   "source": [
    "## Summary"
   ]
  },
  {
   "cell_type": "markdown",
   "metadata": {},
   "source": [
    "Congratulations! You have successfully extended your pipeline with all types of tables. This pipeline is simple, but reflecting a typical preprocessin pipeline of calcium imaging. We have all the table tiers and major dependencies between DataJoint tables. In the next lecture, we will add two more table tiers specific to our datajoint fork, called `AutoComputed` and `AutoImported` tables. \n",
    "\n",
    "**Table tiers so far**:  \n",
    "Manual table: green box  \n",
    "Lookup table: gray box  \n",
    "Imported table: blue oval  \n",
    "Computed table: red circle  \n",
    "Part table: plain text\n",
    "\n",
    "**Dependencies**:  \n",
    "One-to-one primary: thick solid line, share the exact same primary key  \n",
    "One-to-many primary: thin solid line, inherit the primary key from the parent table, but have additional field(s) as part of the primary key as well"
   ]
  },
  {
   "cell_type": "code",
   "execution_count": 68,
   "metadata": {},
   "outputs": [
    {
     "data": {
      "image/svg+xml": [
       "<svg height=\"444pt\" viewBox=\"0.00 0.00 334.50 444.00\" width=\"335pt\" xmlns=\"http://www.w3.org/2000/svg\" xmlns:xlink=\"http://www.w3.org/1999/xlink\">\n",
       "<g class=\"graph\" id=\"graph0\" transform=\"scale(1 1) rotate(0) translate(4 440)\">\n",
       "<title>%3</title>\n",
       "<polygon fill=\"#ffffff\" points=\"-4,4 -4,-440 330.5,-440 330.5,4 -4,4\" stroke=\"transparent\"/>\n",
       "<!-- AverageFrame -->\n",
       "<g class=\"node\" id=\"node1\">\n",
       "<title>AverageFrame</title>\n",
       "<g id=\"a_node1\"><a xlink:title=\"→ Scan\r",
       "------------------------------\r",
       "average_frame        \r",
       "\">\n",
       "<ellipse cx=\"60\" cy=\"-205.5\" fill=\"#00007f\" fill-opacity=\"0.250980\" rx=\"60\" ry=\"17.5\" stroke=\"#00007f\" stroke-opacity=\"0.250980\"/>\n",
       "<text fill=\"#00007f\" font-family=\"arial\" font-size=\"12.00\" text-anchor=\"middle\" x=\"60\" y=\"-202.4\">AverageFrame</text>\n",
       "</a>\n",
       "</g>\n",
       "</g>\n",
       "<!-- Segmentation -->\n",
       "<g class=\"node\" id=\"node10\">\n",
       "<title>Segmentation</title>\n",
       "<g id=\"a_node10\"><a xlink:title=\"→ AverageFrame\r",
       "→ SegmentationParam\r",
       "------------------------------\r",
       "segmented_masks      \r",
       "\">\n",
       "<ellipse cx=\"163\" cy=\"-134.5\" fill=\"#ff0000\" fill-opacity=\"0.125490\" rx=\"13\" ry=\"13\" stroke=\"#ff0000\" stroke-opacity=\"0.125490\"/>\n",
       "<text fill=\"#7f0000\" font-family=\"arial\" font-size=\"12.00\" text-anchor=\"middle\" x=\"163\" y=\"-131.4\">Segmentation</text>\n",
       "</a>\n",
       "</g>\n",
       "</g>\n",
       "<!-- AverageFrame&#45;&gt;Segmentation -->\n",
       "<g class=\"edge\" id=\"edge1\">\n",
       "<title>AverageFrame-&gt;Segmentation</title>\n",
       "<path d=\"M83.6303,-189.2112C105.1305,-174.3906 135.9044,-153.1775 152.0907,-142.02\" fill=\"none\" stroke=\"#000000\" stroke-opacity=\"0.250980\" stroke-width=\".75\"/>\n",
       "</g>\n",
       "<!-- Segmentation.Roi -->\n",
       "<g class=\"node\" id=\"node2\">\n",
       "<title>Segmentation.Roi</title>\n",
       "<g id=\"a_node2\"><a xlink:title=\"→ Segmentation\r",
       "roi_idx              \r",
       "------------------------------\r",
       "mask                 \r",
       "\">\n",
       "<polygon fill=\"transparent\" points=\"211,-77.5 115,-77.5 115,-58.5 211,-58.5 211,-77.5\" stroke=\"transparent\"/>\n",
       "<text fill=\"#000000\" font-family=\"arial\" font-size=\"10.00\" text-anchor=\"start\" text-decoration=\"underline\" x=\"123\" y=\"-66.5\">Segmentation.Roi</text>\n",
       "</a>\n",
       "</g>\n",
       "</g>\n",
       "<!-- Fluorescence.Trace -->\n",
       "<g class=\"node\" id=\"node6\">\n",
       "<title>Fluorescence.Trace</title>\n",
       "<g id=\"a_node6\"><a xlink:title=\"→ Fluorescence\r",
       "→ Segmentation.Roi\r",
       "------------------------------\r",
       "trace                \r",
       "\">\n",
       "<polygon fill=\"transparent\" points=\"326.5,-19 221.5,-19 221.5,0 326.5,0 326.5,-19\" stroke=\"transparent\"/>\n",
       "<text fill=\"#000000\" font-family=\"arial\" font-size=\"10.00\" text-anchor=\"middle\" x=\"274\" y=\"-7\">Fluorescence.Trace</text>\n",
       "</a>\n",
       "</g>\n",
       "</g>\n",
       "<!-- Segmentation.Roi&#45;&gt;Fluorescence.Trace -->\n",
       "<g class=\"edge\" id=\"edge2\">\n",
       "<title>Segmentation.Roi-&gt;Fluorescence.Trace</title>\n",
       "<path d=\"M181.3294,-58.3399C201.8959,-47.5008 235.0657,-30.0194 255.6434,-19.1744\" fill=\"none\" stroke=\"#000000\" stroke-opacity=\"0.250980\" stroke-width=\"2\"/>\n",
       "</g>\n",
       "<!-- SegmentationParam -->\n",
       "<g class=\"node\" id=\"node3\">\n",
       "<title>SegmentationParam</title>\n",
       "<g id=\"a_node3\"><a xlink:title=\"seg_param_id         \r",
       "------------------------------\r",
       "threshold            \r",
       "size_cutoff          \r",
       "\">\n",
       "<polygon fill=\"#000000\" fill-opacity=\"0.125490\" points=\"246,-223 138,-223 138,-188 246,-188 246,-223\" stroke=\"transparent\"/>\n",
       "<text fill=\"#000000\" font-family=\"arial\" font-size=\"10.00\" text-anchor=\"start\" text-decoration=\"underline\" x=\"146\" y=\"-204\">SegmentationParam</text>\n",
       "</a>\n",
       "</g>\n",
       "</g>\n",
       "<!-- SegmentationParam&#45;&gt;Segmentation -->\n",
       "<g class=\"edge\" id=\"edge3\">\n",
       "<title>SegmentationParam-&gt;Segmentation</title>\n",
       "<path d=\"M184.8315,-187.9494C179.5983,-175.1372 172.6362,-158.0921 167.9956,-146.7306\" fill=\"none\" stroke=\"#000000\" stroke-opacity=\"0.250980\" stroke-width=\".75\"/>\n",
       "</g>\n",
       "<!-- Session -->\n",
       "<g class=\"node\" id=\"node4\">\n",
       "<title>Session</title>\n",
       "<g id=\"a_node4\"><a xlink:title=\"→ Fly\r",
       "session_date         \r",
       "------------------------------\r",
       "experiment_setup     \r",
       "experimenter         \r",
       "data_path=&quot;&quot;         \r",
       "\">\n",
       "<polygon fill=\"#00ff00\" fill-opacity=\"0.188235\" points=\"196.5,-365 137.5,-365 137.5,-330 196.5,-330 196.5,-365\" stroke=\"#00ff00\" stroke-opacity=\"0.188235\"/>\n",
       "<text fill=\"#006400\" font-family=\"arial\" font-size=\"12.00\" text-anchor=\"start\" text-decoration=\"underline\" x=\"145.5\" y=\"-345.4\">Session</text>\n",
       "</a>\n",
       "</g>\n",
       "</g>\n",
       "<!-- Scan -->\n",
       "<g class=\"node\" id=\"node9\">\n",
       "<title>Scan</title>\n",
       "<g id=\"a_node9\"><a xlink:title=\"→ Session\r",
       "scan_idx             \r",
       "------------------------------\r",
       "depth                \r",
       "wavelength           \r",
       "laser_power          \r",
       "fps                  \r",
       "file_name            \r",
       "\">\n",
       "<polygon fill=\"#00ff00\" fill-opacity=\"0.188235\" points=\"189,-294 145,-294 145,-259 189,-259 189,-294\" stroke=\"#00ff00\" stroke-opacity=\"0.188235\"/>\n",
       "<text fill=\"#006400\" font-family=\"arial\" font-size=\"12.00\" text-anchor=\"start\" text-decoration=\"underline\" x=\"153\" y=\"-274.4\">Scan</text>\n",
       "</a>\n",
       "</g>\n",
       "</g>\n",
       "<!-- Session&#45;&gt;Scan -->\n",
       "<g class=\"edge\" id=\"edge4\">\n",
       "<title>Session-&gt;Scan</title>\n",
       "<path d=\"M167,-329.9494C167,-319.1083 167,-305.2366 167,-294.3418\" fill=\"none\" stroke=\"#000000\" stroke-opacity=\"0.250980\" stroke-width=\".75\"/>\n",
       "</g>\n",
       "<!-- Fly -->\n",
       "<g class=\"node\" id=\"node5\">\n",
       "<title>Fly</title>\n",
       "<g id=\"a_node5\"><a xlink:title=\"fly_id               \r",
       "------------------------------\r",
       "dob=null             \r",
       "sex=&quot;U&quot;              \r",
       "\">\n",
       "<polygon fill=\"#00ff00\" fill-opacity=\"0.188235\" points=\"184.5,-436 149.5,-436 149.5,-401 184.5,-401 184.5,-436\" stroke=\"#00ff00\" stroke-opacity=\"0.188235\"/>\n",
       "<text fill=\"#006400\" font-family=\"arial\" font-size=\"12.00\" text-anchor=\"start\" text-decoration=\"underline\" x=\"159\" y=\"-416.4\">Fly</text>\n",
       "</a>\n",
       "</g>\n",
       "</g>\n",
       "<!-- Fly&#45;&gt;Session -->\n",
       "<g class=\"edge\" id=\"edge5\">\n",
       "<title>Fly-&gt;Session</title>\n",
       "<path d=\"M167,-400.9494C167,-390.1083 167,-376.2366 167,-365.3418\" fill=\"none\" stroke=\"#000000\" stroke-opacity=\"0.250980\" stroke-width=\".75\"/>\n",
       "</g>\n",
       "<!-- Fluorescence -->\n",
       "<g class=\"node\" id=\"node7\">\n",
       "<title>Fluorescence</title>\n",
       "<g id=\"a_node7\"><a xlink:title=\"→ Frames\r",
       "→ Segmentation\r",
       "------------------------------\r",
       "time                 \r",
       "\">\n",
       "<ellipse cx=\"274\" cy=\"-68\" fill=\"#ff0000\" fill-opacity=\"0.125490\" rx=\"13\" ry=\"13\" stroke=\"#ff0000\" stroke-opacity=\"0.125490\"/>\n",
       "<text fill=\"#7f0000\" font-family=\"arial\" font-size=\"12.00\" text-anchor=\"middle\" x=\"274\" y=\"-64.9\">Fluorescence</text>\n",
       "</a>\n",
       "</g>\n",
       "</g>\n",
       "<!-- Fluorescence&#45;&gt;Fluorescence.Trace -->\n",
       "<g class=\"edge\" id=\"edge6\">\n",
       "<title>Fluorescence-&gt;Fluorescence.Trace</title>\n",
       "<path d=\"M274,-54.7254C274,-43.938 274,-28.9687 274,-19.2586\" fill=\"none\" stroke=\"#000000\" stroke-opacity=\"0.250980\" stroke-width=\".75\"/>\n",
       "</g>\n",
       "<!-- Frames -->\n",
       "<g class=\"node\" id=\"node8\">\n",
       "<title>Frames</title>\n",
       "<g id=\"a_node8\"><a xlink:title=\"→ Scan\r",
       "------------------------------\r",
       "frames               \r",
       "INDEX (frames)\r",
       "\">\n",
       "<ellipse cx=\"274\" cy=\"-134.5\" fill=\"#00007f\" fill-opacity=\"0.250980\" rx=\"35.7504\" ry=\"17.5\" stroke=\"#00007f\" stroke-opacity=\"0.250980\"/>\n",
       "<text fill=\"#00007f\" font-family=\"arial\" font-size=\"12.00\" text-anchor=\"middle\" x=\"274\" y=\"-131.4\">Frames</text>\n",
       "</a>\n",
       "</g>\n",
       "</g>\n",
       "<!-- Frames&#45;&gt;Fluorescence -->\n",
       "<g class=\"edge\" id=\"edge7\">\n",
       "<title>Frames-&gt;Fluorescence</title>\n",
       "<path d=\"M274,-116.6792C274,-105.4451 274,-91.1917 274,-81.0168\" fill=\"none\" stroke=\"#000000\" stroke-opacity=\"0.250980\" stroke-width=\".75\"/>\n",
       "</g>\n",
       "<!-- Scan&#45;&gt;AverageFrame -->\n",
       "<g class=\"edge\" id=\"edge8\">\n",
       "<title>Scan-&gt;AverageFrame</title>\n",
       "<path d=\"M144.8295,-261.7888C127.2002,-250.0908 102.5633,-233.7429 84.3803,-221.6776\" fill=\"none\" stroke=\"#000000\" stroke-opacity=\"0.250980\" stroke-width=\"2\"/>\n",
       "</g>\n",
       "<!-- Scan&#45;&gt;Frames -->\n",
       "<g class=\"edge\" id=\"edge9\">\n",
       "<title>Scan-&gt;Frames</title>\n",
       "<path d=\"M189.0054,-268.9499C209.3221,-260.8174 238.7352,-245.8787 255,-223 270.0238,-201.8669 273.574,-171.211 274.1996,-152.0868\" fill=\"none\" stroke=\"#000000\" stroke-opacity=\"0.250980\" stroke-width=\"2\"/>\n",
       "</g>\n",
       "<!-- Segmentation&#45;&gt;Segmentation.Roi -->\n",
       "<g class=\"edge\" id=\"edge10\">\n",
       "<title>Segmentation-&gt;Segmentation.Roi</title>\n",
       "<path d=\"M163,-121.3617C163,-108.4921 163,-89.1836 163,-77.663\" fill=\"none\" stroke=\"#000000\" stroke-opacity=\"0.250980\" stroke-width=\".75\"/>\n",
       "</g>\n",
       "<!-- Segmentation&#45;&gt;Fluorescence -->\n",
       "<g class=\"edge\" id=\"edge11\">\n",
       "<title>Segmentation-&gt;Fluorescence</title>\n",
       "<path d=\"M174.4609,-127.6338C195.8419,-114.8245 241.5599,-87.4349 262.7668,-74.7298\" fill=\"none\" stroke=\"#000000\" stroke-opacity=\"0.250980\" stroke-width=\"2\"/>\n",
       "</g>\n",
       "</g>\n",
       "</svg>"
      ],
      "text/plain": [
       "<datajoint.diagram.Diagram at 0x108791978>"
      ]
     },
     "execution_count": 68,
     "metadata": {},
     "output_type": "execute_result"
    }
   ],
   "source": [
    "dj.ERD(schema)"
   ]
  },
  {
   "cell_type": "markdown",
   "metadata": {},
   "source": [
    "We have covered most of the building elements of data pipeline design. Using these elements, we could design more sophiscated pipelines that facillitates your experimental recordings and data analyses."
   ]
  }
 ],
 "metadata": {
  "kernelspec": {
   "display_name": "Python 3",
   "language": "python",
   "name": "python3"
  },
  "language_info": {
   "codemirror_mode": {
    "name": "ipython",
    "version": 3
   },
   "file_extension": ".py",
   "mimetype": "text/x-python",
   "name": "python",
   "nbconvert_exporter": "python",
   "pygments_lexer": "ipython3",
   "version": "3.7.1"
  }
 },
 "nbformat": 4,
 "nbformat_minor": 4
}
