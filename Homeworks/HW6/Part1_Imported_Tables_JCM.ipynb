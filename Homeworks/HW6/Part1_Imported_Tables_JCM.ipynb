{
 "cells": [
  {
   "cell_type": "markdown",
   "metadata": {},
   "source": [
    "# Working with automated computations: Imported tables\n",
    "\n",
    "This session was modified from: https://github.com/vathes/playground_tutorial\n",
    "\n",
    "In this session, we will learn to:\n",
    "\n",
    "* import neuron imaging data from data files into an `Imported` table\n",
    "* automatically trigger data importing and computations for all missing entries with `populate`"
   ]
  },
  {
   "cell_type": "markdown",
   "metadata": {},
   "source": [
    "First thing first, let's update and import `datajoint` again."
   ]
  },
  {
   "cell_type": "code",
   "execution_count": 2,
   "metadata": {
    "jupyter": {
     "outputs_hidden": true
    }
   },
   "outputs": [
    {
     "name": "stdout",
     "output_type": "stream",
     "text": [
      "Requirement already up-to-date: datajoint in /Users/Josie/opt/anaconda3/envs/henlabenv/lib/python3.7/site-packages (0.12.5)\n",
      "Requirement already satisfied, skipping upgrade: pandas in /Users/Josie/opt/anaconda3/envs/henlabenv/lib/python3.7/site-packages (from datajoint) (0.25.3)\n",
      "Requirement already satisfied, skipping upgrade: pydot in /Users/Josie/opt/anaconda3/envs/henlabenv/lib/python3.7/site-packages (from datajoint) (1.4.1)\n",
      "Requirement already satisfied, skipping upgrade: pyparsing in /Users/Josie/opt/anaconda3/envs/henlabenv/lib/python3.7/site-packages (from datajoint) (2.3.1)\n",
      "Requirement already satisfied, skipping upgrade: minio in /Users/Josie/opt/anaconda3/envs/henlabenv/lib/python3.7/site-packages (from datajoint) (5.0.10)\n",
      "Requirement already satisfied, skipping upgrade: matplotlib in /Users/Josie/opt/anaconda3/envs/henlabenv/lib/python3.7/site-packages (from datajoint) (3.2.1)\n",
      "Requirement already satisfied, skipping upgrade: numpy in /Users/Josie/opt/anaconda3/envs/henlabenv/lib/python3.7/site-packages (from datajoint) (1.18.2)\n",
      "Requirement already satisfied, skipping upgrade: ipython in /Users/Josie/opt/anaconda3/envs/henlabenv/lib/python3.7/site-packages (from datajoint) (7.3.0)\n",
      "Requirement already satisfied, skipping upgrade: networkx in /Users/Josie/opt/anaconda3/envs/henlabenv/lib/python3.7/site-packages (from datajoint) (2.4)\n",
      "Requirement already satisfied, skipping upgrade: pymysql>=0.7.2 in /Users/Josie/opt/anaconda3/envs/henlabenv/lib/python3.7/site-packages (from datajoint) (0.9.3)\n",
      "Requirement already satisfied, skipping upgrade: tqdm in /Users/Josie/opt/anaconda3/envs/henlabenv/lib/python3.7/site-packages (from datajoint) (4.45.0)\n",
      "Requirement already satisfied, skipping upgrade: python-dateutil>=2.6.1 in /Users/Josie/opt/anaconda3/envs/henlabenv/lib/python3.7/site-packages (from pandas->datajoint) (2.8.0)\n",
      "Requirement already satisfied, skipping upgrade: pytz>=2017.2 in /Users/Josie/opt/anaconda3/envs/henlabenv/lib/python3.7/site-packages (from pandas->datajoint) (2018.9)\n",
      "Requirement already satisfied, skipping upgrade: certifi in /Users/Josie/opt/anaconda3/envs/henlabenv/lib/python3.7/site-packages (from minio->datajoint) (2020.4.5.1)\n",
      "Requirement already satisfied, skipping upgrade: urllib3 in /Users/Josie/opt/anaconda3/envs/henlabenv/lib/python3.7/site-packages (from minio->datajoint) (1.25.8)\n",
      "Requirement already satisfied, skipping upgrade: configparser in /Users/Josie/opt/anaconda3/envs/henlabenv/lib/python3.7/site-packages (from minio->datajoint) (5.0.0)\n",
      "Requirement already satisfied, skipping upgrade: kiwisolver>=1.0.1 in /Users/Josie/opt/anaconda3/envs/henlabenv/lib/python3.7/site-packages (from matplotlib->datajoint) (1.0.1)\n",
      "Requirement already satisfied, skipping upgrade: cycler>=0.10 in /Users/Josie/opt/anaconda3/envs/henlabenv/lib/python3.7/site-packages (from matplotlib->datajoint) (0.10.0)\n",
      "Requirement already satisfied, skipping upgrade: jedi>=0.10 in /Users/Josie/opt/anaconda3/envs/henlabenv/lib/python3.7/site-packages (from ipython->datajoint) (0.13.3)\n",
      "Requirement already satisfied, skipping upgrade: setuptools>=18.5 in /Users/Josie/opt/anaconda3/envs/henlabenv/lib/python3.7/site-packages (from ipython->datajoint) (46.1.3)\n",
      "Requirement already satisfied, skipping upgrade: pygments in /Users/Josie/opt/anaconda3/envs/henlabenv/lib/python3.7/site-packages (from ipython->datajoint) (2.3.1)\n",
      "Requirement already satisfied, skipping upgrade: traitlets>=4.2 in /Users/Josie/opt/anaconda3/envs/henlabenv/lib/python3.7/site-packages (from ipython->datajoint) (4.3.2)\n",
      "Requirement already satisfied, skipping upgrade: decorator in /Users/Josie/opt/anaconda3/envs/henlabenv/lib/python3.7/site-packages (from ipython->datajoint) (4.4.0)\n",
      "Requirement already satisfied, skipping upgrade: prompt-toolkit<2.1.0,>=2.0.0 in /Users/Josie/opt/anaconda3/envs/henlabenv/lib/python3.7/site-packages (from ipython->datajoint) (2.0.9)\n",
      "Requirement already satisfied, skipping upgrade: backcall in /Users/Josie/opt/anaconda3/envs/henlabenv/lib/python3.7/site-packages (from ipython->datajoint) (0.1.0)\n",
      "Requirement already satisfied, skipping upgrade: pexpect; sys_platform != \"win32\" in /Users/Josie/opt/anaconda3/envs/henlabenv/lib/python3.7/site-packages (from ipython->datajoint) (4.6.0)\n",
      "Requirement already satisfied, skipping upgrade: appnope; sys_platform == \"darwin\" in /Users/Josie/opt/anaconda3/envs/henlabenv/lib/python3.7/site-packages (from ipython->datajoint) (0.1.0)\n",
      "Requirement already satisfied, skipping upgrade: pickleshare in /Users/Josie/opt/anaconda3/envs/henlabenv/lib/python3.7/site-packages (from ipython->datajoint) (0.7.5)\n",
      "Requirement already satisfied, skipping upgrade: six>=1.5 in /Users/Josie/opt/anaconda3/envs/henlabenv/lib/python3.7/site-packages (from python-dateutil>=2.6.1->pandas->datajoint) (1.12.0)\n",
      "Requirement already satisfied, skipping upgrade: parso>=0.3.0 in /Users/Josie/opt/anaconda3/envs/henlabenv/lib/python3.7/site-packages (from jedi>=0.10->ipython->datajoint) (0.3.4)\n",
      "Requirement already satisfied, skipping upgrade: ipython-genutils in /Users/Josie/opt/anaconda3/envs/henlabenv/lib/python3.7/site-packages (from traitlets>=4.2->ipython->datajoint) (0.2.0)\n",
      "Requirement already satisfied, skipping upgrade: wcwidth in /Users/Josie/opt/anaconda3/envs/henlabenv/lib/python3.7/site-packages (from prompt-toolkit<2.1.0,>=2.0.0->ipython->datajoint) (0.1.7)\n",
      "Requirement already satisfied, skipping upgrade: ptyprocess>=0.5 in /Users/Josie/opt/anaconda3/envs/henlabenv/lib/python3.7/site-packages (from pexpect; sys_platform != \"win32\"->ipython->datajoint) (0.6.0)\n"
     ]
    }
   ],
   "source": [
    "!pip install --upgrade datajoint\n",
    "import datajoint as dj"
   ]
  },
  {
   "cell_type": "code",
   "execution_count": 3,
   "metadata": {},
   "outputs": [],
   "source": [
    "# Set the fetch format to array:\n",
    "dj.config['fetch_format']='array'"
   ]
  },
  {
   "cell_type": "markdown",
   "metadata": {},
   "source": [
    "As we are going to perform some computations, let's go ahead and import NumPy and Matplotlib"
   ]
  },
  {
   "cell_type": "code",
   "execution_count": 4,
   "metadata": {},
   "outputs": [],
   "source": [
    "import numpy as np\n",
    "import matplotlib.pyplot as plt\n",
    "\n",
    "%matplotlib inline"
   ]
  },
  {
   "cell_type": "markdown",
   "metadata": {},
   "source": [
    "Now we would like to work with the tables we define in `fly_session.py`. To do so, we would need the classes for each table: `Fly` and `Session`. We can either redefine it here, but for your convenience, you can also just import the file/package. We will use the schema object again to define more tables."
   ]
  },
  {
   "cell_type": "code",
   "execution_count": 5,
   "metadata": {},
   "outputs": [
    {
     "name": "stdout",
     "output_type": "stream",
     "text": [
      "Connecting root@127.0.0.1:3306\n"
     ]
    }
   ],
   "source": [
    "from fly_session import schema, Fly, Session"
   ]
  },
  {
   "cell_type": "code",
   "execution_count": 6,
   "metadata": {},
   "outputs": [
    {
     "data": {
      "text/html": [
       "\n",
       "        \n",
       "        <style type=\"text/css\">\n",
       "            .Relation{\n",
       "                border-collapse:collapse;\n",
       "            }\n",
       "            .Relation th{\n",
       "                background: #A0A0A0; color: #ffffff; padding:4px; border:#f0e0e0 1px solid;\n",
       "                font-weight: normal; font-family: monospace; font-size: 100%;\n",
       "            }\n",
       "            .Relation td{\n",
       "                padding:4px; border:#f0e0e0 1px solid; font-size:100%;\n",
       "            }\n",
       "            .Relation tr:nth-child(odd){\n",
       "                background: #ffffff;\n",
       "            }\n",
       "            .Relation tr:nth-child(even){\n",
       "                background: #f3f1ff;\n",
       "            }\n",
       "            /* Tooltip container */\n",
       "            .djtooltip {\n",
       "            }\n",
       "            /* Tooltip text */\n",
       "            .djtooltip .djtooltiptext {\n",
       "                visibility: hidden;\n",
       "                width: 120px;\n",
       "                background-color: black;\n",
       "                color: #fff;\n",
       "                text-align: center;\n",
       "                padding: 5px 0;\n",
       "                border-radius: 6px;\n",
       "                /* Position the tooltip text - see examples below! */\n",
       "                position: absolute;\n",
       "                z-index: 1;\n",
       "            }\n",
       "            #primary {\n",
       "                font-weight: bold;\n",
       "                color: black;\n",
       "            }\n",
       "\n",
       "            #nonprimary {\n",
       "                font-weight: normal;\n",
       "                color: white;\n",
       "            }\n",
       "\n",
       "            /* Show the tooltip text when you mouse over the tooltip container */\n",
       "            .djtooltip:hover .djtooltiptext {\n",
       "                visibility: visible;\n",
       "            }\n",
       "        </style>\n",
       "        \n",
       "        <b>Experimental animals</b>\n",
       "            <div style=\"max-height:1000px;max-width:1500px;overflow:auto;\">\n",
       "            <table border=\"1\" class=\"Relation\">\n",
       "                <thead> <tr style=\"text-align: right;\"> <th> <div class=\"djtooltip\">\n",
       "                                <p id=\"primary\">fly_id</p>\n",
       "                                <span class=\"djtooltiptext\">Unique animal ID</span>\n",
       "                            </div></th><th><div class=\"djtooltip\">\n",
       "                                <p id=\"nonprimary\">dob</p>\n",
       "                                <span class=\"djtooltiptext\">date of birth</span>\n",
       "                            </div></th><th><div class=\"djtooltip\">\n",
       "                                <p id=\"nonprimary\">sex</p>\n",
       "                                <span class=\"djtooltiptext\">sex</span>\n",
       "                            </div> </th> </tr> </thead>\n",
       "                <tbody> <tr> <td>0</td>\n",
       "<td>2020-03-01</td>\n",
       "<td>M</td></tr><tr><td>1</td>\n",
       "<td>2019-11-19</td>\n",
       "<td>M</td></tr><tr><td>2</td>\n",
       "<td>2019-11-20</td>\n",
       "<td>U</td></tr><tr><td>5</td>\n",
       "<td>2019-12-25</td>\n",
       "<td>F</td></tr><tr><td>10</td>\n",
       "<td>2020-01-01</td>\n",
       "<td>F</td></tr><tr><td>11</td>\n",
       "<td>2020-01-03</td>\n",
       "<td>F</td></tr><tr><td>100</td>\n",
       "<td>2020-05-12</td>\n",
       "<td>F</td> </tr> </tbody>\n",
       "            </table>\n",
       "            \n",
       "            <p>Total: 7</p></div>\n",
       "            "
      ],
      "text/plain": [
       "*fly_id    dob            sex    \n",
       "+--------+ +------------+ +-----+\n",
       "0          2020-03-01     M      \n",
       "1          2019-11-19     M      \n",
       "2          2019-11-20     U      \n",
       "5          2019-12-25     F      \n",
       "10         2020-01-01     F      \n",
       "11         2020-01-03     F      \n",
       "100        2020-05-12     F      \n",
       " (Total: 7)"
      ]
     },
     "execution_count": 6,
     "metadata": {},
     "output_type": "execute_result"
    }
   ],
   "source": [
    "Fly()"
   ]
  },
  {
   "cell_type": "code",
   "execution_count": 7,
   "metadata": {},
   "outputs": [
    {
     "data": {
      "text/html": [
       "\n",
       "        \n",
       "        <style type=\"text/css\">\n",
       "            .Relation{\n",
       "                border-collapse:collapse;\n",
       "            }\n",
       "            .Relation th{\n",
       "                background: #A0A0A0; color: #ffffff; padding:4px; border:#f0e0e0 1px solid;\n",
       "                font-weight: normal; font-family: monospace; font-size: 100%;\n",
       "            }\n",
       "            .Relation td{\n",
       "                padding:4px; border:#f0e0e0 1px solid; font-size:100%;\n",
       "            }\n",
       "            .Relation tr:nth-child(odd){\n",
       "                background: #ffffff;\n",
       "            }\n",
       "            .Relation tr:nth-child(even){\n",
       "                background: #f3f1ff;\n",
       "            }\n",
       "            /* Tooltip container */\n",
       "            .djtooltip {\n",
       "            }\n",
       "            /* Tooltip text */\n",
       "            .djtooltip .djtooltiptext {\n",
       "                visibility: hidden;\n",
       "                width: 120px;\n",
       "                background-color: black;\n",
       "                color: #fff;\n",
       "                text-align: center;\n",
       "                padding: 5px 0;\n",
       "                border-radius: 6px;\n",
       "                /* Position the tooltip text - see examples below! */\n",
       "                position: absolute;\n",
       "                z-index: 1;\n",
       "            }\n",
       "            #primary {\n",
       "                font-weight: bold;\n",
       "                color: black;\n",
       "            }\n",
       "\n",
       "            #nonprimary {\n",
       "                font-weight: normal;\n",
       "                color: white;\n",
       "            }\n",
       "\n",
       "            /* Show the tooltip text when you mouse over the tooltip container */\n",
       "            .djtooltip:hover .djtooltiptext {\n",
       "                visibility: visible;\n",
       "            }\n",
       "        </style>\n",
       "        \n",
       "        <b>Experiment session</b>\n",
       "            <div style=\"max-height:1000px;max-width:1500px;overflow:auto;\">\n",
       "            <table border=\"1\" class=\"Relation\">\n",
       "                <thead> <tr style=\"text-align: right;\"> <th> <div class=\"djtooltip\">\n",
       "                                <p id=\"primary\">fly_id</p>\n",
       "                                <span class=\"djtooltiptext\">Unique animal ID</span>\n",
       "                            </div></th><th><div class=\"djtooltip\">\n",
       "                                <p id=\"primary\">session_date</p>\n",
       "                                <span class=\"djtooltiptext\">date</span>\n",
       "                            </div></th><th><div class=\"djtooltip\">\n",
       "                                <p id=\"nonprimary\">experiment_setup</p>\n",
       "                                <span class=\"djtooltiptext\">experiment setup ID</span>\n",
       "                            </div></th><th><div class=\"djtooltip\">\n",
       "                                <p id=\"nonprimary\">experimenter</p>\n",
       "                                <span class=\"djtooltiptext\">experimenter name</span>\n",
       "                            </div></th><th><div class=\"djtooltip\">\n",
       "                                <p id=\"nonprimary\">data_path</p>\n",
       "                                <span class=\"djtooltiptext\"></span>\n",
       "                            </div> </th> </tr> </thead>\n",
       "                <tbody> <tr> <td>0</td>\n",
       "<td>2020-05-15</td>\n",
       "<td>0</td>\n",
       "<td>gucky92</td>\n",
       "<td>imaging_data</td></tr><tr><td>0</td>\n",
       "<td>2020-05-19</td>\n",
       "<td>0</td>\n",
       "<td>gucky92</td>\n",
       "<td>imaging_data</td></tr><tr><td>5</td>\n",
       "<td>2020-01-05</td>\n",
       "<td>1</td>\n",
       "<td>jko14</td>\n",
       "<td>imaging_data</td></tr><tr><td>100</td>\n",
       "<td>2020-05-25</td>\n",
       "<td>100</td>\n",
       "<td>jportes</td>\n",
       "<td>imaging_data</td> </tr> </tbody>\n",
       "            </table>\n",
       "            \n",
       "            <p>Total: 4</p></div>\n",
       "            "
      ],
      "text/plain": [
       "*fly_id    *session_date  experiment_set experimenter   data_path     \n",
       "+--------+ +------------+ +------------+ +------------+ +------------+\n",
       "0          2020-05-15     0              gucky92        imaging_data  \n",
       "0          2020-05-19     0              gucky92        imaging_data  \n",
       "5          2020-01-05     1              jko14          imaging_data  \n",
       "100        2020-05-25     100            jportes        imaging_data  \n",
       " (Total: 4)"
      ]
     },
     "execution_count": 7,
     "metadata": {},
     "output_type": "execute_result"
    }
   ],
   "source": [
    "Session()"
   ]
  },
  {
   "cell_type": "markdown",
   "metadata": {},
   "source": [
    "The `fly_session.py` also fills each table with data to make sure we are all on the same page."
   ]
  },
  {
   "cell_type": "markdown",
   "metadata": {},
   "source": [
    "## Define table `Scan` for meta information of each calcium imaging scan"
   ]
  },
  {
   "cell_type": "markdown",
   "metadata": {},
   "source": [
    "Now let's define a table `Scan` that describes a scanning in an experimental session that stores the meta information of a particular scan."
   ]
  },
  {
   "cell_type": "code",
   "execution_count": 8,
   "metadata": {},
   "outputs": [],
   "source": [
    "@schema\n",
    "class Scan(dj.Manual):\n",
    "    definition = \"\"\"\n",
    "    -> Session\n",
    "    scan_idx    : int           # scan index\n",
    "    ---\n",
    "    depth       : float         # depth of this scan\n",
    "    wavelength  : float         # wavelength used\n",
    "    laser_power : float         # power of the laser used\n",
    "    fps         : float         # frames per second\n",
    "    file_name    : varchar(128) # name of the tif file\n",
    "    \"\"\""
   ]
  },
  {
   "cell_type": "markdown",
   "metadata": {},
   "source": [
    "This table is dependent on the table `Session`, inheriting its primary key attributes, with an additional primary key attribute `scan_idx`. "
   ]
  },
  {
   "cell_type": "markdown",
   "metadata": {},
   "source": [
    "### 1) What type of relationship exists between `Session` and `Scan`?"
   ]
  },
  {
   "cell_type": "markdown",
   "metadata": {},
   "source": [
    "Your answer here: Session and Scan are tables with a One-to-Many relationship, since 1 session can hold many scans."
   ]
  },
  {
   "cell_type": "markdown",
   "metadata": {},
   "source": [
    "#### ERD"
   ]
  },
  {
   "cell_type": "markdown",
   "metadata": {},
   "source": [
    "We could take a look at the ERD (entity-relational diagram) again."
   ]
  },
  {
   "cell_type": "code",
   "execution_count": 9,
   "metadata": {},
   "outputs": [
    {
     "data": {
      "image/svg+xml": [
       "<svg height=\"185pt\" viewBox=\"0.00 0.00 67.00 185.00\" width=\"67pt\" xmlns=\"http://www.w3.org/2000/svg\" xmlns:xlink=\"http://www.w3.org/1999/xlink\">\n",
       "<g class=\"graph\" id=\"graph0\" transform=\"scale(1 1) rotate(0) translate(4 181)\">\n",
       "<title>%3</title>\n",
       "<polygon fill=\"#ffffff\" points=\"-4,4 -4,-181 63,-181 63,4 -4,4\" stroke=\"transparent\"/>\n",
       "<!-- Session -->\n",
       "<g class=\"node\" id=\"node1\">\n",
       "<title>Session</title>\n",
       "<g id=\"a_node1\"><a xlink:title=\"→ Fly\r",
       "session_date         \r",
       "------------------------------\r",
       "experiment_setup     \r",
       "experimenter         \r",
       "data_path=&quot;&quot;         \r",
       "\">\n",
       "<polygon fill=\"#00ff00\" fill-opacity=\"0.188235\" points=\"59,-106 0,-106 0,-71 59,-71 59,-106\" stroke=\"#00ff00\" stroke-opacity=\"0.188235\"/>\n",
       "<text fill=\"#006400\" font-family=\"arial\" font-size=\"12.00\" text-anchor=\"start\" text-decoration=\"underline\" x=\"8\" y=\"-86.4\">Session</text>\n",
       "</a>\n",
       "</g>\n",
       "</g>\n",
       "<!-- Scan -->\n",
       "<g class=\"node\" id=\"node3\">\n",
       "<title>Scan</title>\n",
       "<g id=\"a_node3\"><a xlink:title=\"→ Session\r",
       "scan_idx             \r",
       "------------------------------\r",
       "depth                \r",
       "wavelength           \r",
       "laser_power          \r",
       "fps                  \r",
       "file_name            \r",
       "\">\n",
       "<polygon fill=\"#00ff00\" fill-opacity=\"0.188235\" points=\"51.5,-35 7.5,-35 7.5,0 51.5,0 51.5,-35\" stroke=\"#00ff00\" stroke-opacity=\"0.188235\"/>\n",
       "<text fill=\"#006400\" font-family=\"arial\" font-size=\"12.00\" text-anchor=\"start\" text-decoration=\"underline\" x=\"15.5\" y=\"-15.4\">Scan</text>\n",
       "</a>\n",
       "</g>\n",
       "</g>\n",
       "<!-- Session&#45;&gt;Scan -->\n",
       "<g class=\"edge\" id=\"edge1\">\n",
       "<title>Session-&gt;Scan</title>\n",
       "<path d=\"M29.5,-70.9494C29.5,-60.1083 29.5,-46.2366 29.5,-35.3418\" fill=\"none\" stroke=\"#000000\" stroke-opacity=\"0.250980\" stroke-width=\".75\"/>\n",
       "</g>\n",
       "<!-- Fly -->\n",
       "<g class=\"node\" id=\"node2\">\n",
       "<title>Fly</title>\n",
       "<g id=\"a_node2\"><a xlink:title=\"fly_id               \r",
       "------------------------------\r",
       "dob=null             \r",
       "sex=&quot;U&quot;              \r",
       "\">\n",
       "<polygon fill=\"#00ff00\" fill-opacity=\"0.188235\" points=\"47,-177 12,-177 12,-142 47,-142 47,-177\" stroke=\"#00ff00\" stroke-opacity=\"0.188235\"/>\n",
       "<text fill=\"#006400\" font-family=\"arial\" font-size=\"12.00\" text-anchor=\"start\" text-decoration=\"underline\" x=\"21.5\" y=\"-157.4\">Fly</text>\n",
       "</a>\n",
       "</g>\n",
       "</g>\n",
       "<!-- Fly&#45;&gt;Session -->\n",
       "<g class=\"edge\" id=\"edge2\">\n",
       "<title>Fly-&gt;Session</title>\n",
       "<path d=\"M29.5,-141.9494C29.5,-131.1083 29.5,-117.2366 29.5,-106.3418\" fill=\"none\" stroke=\"#000000\" stroke-opacity=\"0.250980\" stroke-width=\".75\"/>\n",
       "</g>\n",
       "</g>\n",
       "</svg>"
      ],
      "text/plain": [
       "<datajoint.diagram.Diagram at 0x1293a2780>"
      ]
     },
     "execution_count": 9,
     "metadata": {},
     "output_type": "execute_result"
    }
   ],
   "source": [
    "dj.ERD(schema)"
   ]
  },
  {
   "cell_type": "markdown",
   "metadata": {},
   "source": [
    "The thin solid line connecting `Fly`-`Session`, and `Session`-`Scan` indicates **one-to-many relationship**.  \n",
    "\n",
    "The `____` indicates **additional primary key attribute(s)** apart from the ones inherited from its parents."
   ]
  },
  {
   "cell_type": "markdown",
   "metadata": {},
   "source": [
    "Here we have prepared three tif files of scanning in the `imaging_data`"
   ]
  },
  {
   "cell_type": "code",
   "execution_count": 10,
   "metadata": {},
   "outputs": [
    {
     "name": "stdout",
     "output_type": "stream",
     "text": [
      "example_scan_01.tif example_scan_02.tif example_scan_03.tif\r\n"
     ]
    }
   ],
   "source": [
    "!ls imaging_data"
   ]
  },
  {
   "cell_type": "code",
   "execution_count": 11,
   "metadata": {},
   "outputs": [],
   "source": [
    "Scan.insert([\n",
    "    {'fly_id': 0, 'session_date': '2020-05-15', 'scan_idx': 1, \n",
    "     'depth': 150, 'wavelength': 920, 'laser_power': 26, 'fps': 15, \n",
    "     'file_name': 'example_scan_01.tif'},\n",
    "    {'fly_id': 0, 'session_date': '2020-05-15', 'scan_idx': 2, \n",
    "     'depth': 200, 'wavelength': 920, 'laser_power': 24, 'fps': 15, \n",
    "     'file_name': 'example_scan_02.tif'},\n",
    "])"
   ]
  },
  {
   "cell_type": "code",
   "execution_count": 12,
   "metadata": {},
   "outputs": [
    {
     "data": {
      "text/html": [
       "\n",
       "        \n",
       "        <style type=\"text/css\">\n",
       "            .Relation{\n",
       "                border-collapse:collapse;\n",
       "            }\n",
       "            .Relation th{\n",
       "                background: #A0A0A0; color: #ffffff; padding:4px; border:#f0e0e0 1px solid;\n",
       "                font-weight: normal; font-family: monospace; font-size: 100%;\n",
       "            }\n",
       "            .Relation td{\n",
       "                padding:4px; border:#f0e0e0 1px solid; font-size:100%;\n",
       "            }\n",
       "            .Relation tr:nth-child(odd){\n",
       "                background: #ffffff;\n",
       "            }\n",
       "            .Relation tr:nth-child(even){\n",
       "                background: #f3f1ff;\n",
       "            }\n",
       "            /* Tooltip container */\n",
       "            .djtooltip {\n",
       "            }\n",
       "            /* Tooltip text */\n",
       "            .djtooltip .djtooltiptext {\n",
       "                visibility: hidden;\n",
       "                width: 120px;\n",
       "                background-color: black;\n",
       "                color: #fff;\n",
       "                text-align: center;\n",
       "                padding: 5px 0;\n",
       "                border-radius: 6px;\n",
       "                /* Position the tooltip text - see examples below! */\n",
       "                position: absolute;\n",
       "                z-index: 1;\n",
       "            }\n",
       "            #primary {\n",
       "                font-weight: bold;\n",
       "                color: black;\n",
       "            }\n",
       "\n",
       "            #nonprimary {\n",
       "                font-weight: normal;\n",
       "                color: white;\n",
       "            }\n",
       "\n",
       "            /* Show the tooltip text when you mouse over the tooltip container */\n",
       "            .djtooltip:hover .djtooltiptext {\n",
       "                visibility: visible;\n",
       "            }\n",
       "        </style>\n",
       "        \n",
       "        <b></b>\n",
       "            <div style=\"max-height:1000px;max-width:1500px;overflow:auto;\">\n",
       "            <table border=\"1\" class=\"Relation\">\n",
       "                <thead> <tr style=\"text-align: right;\"> <th> <div class=\"djtooltip\">\n",
       "                                <p id=\"primary\">fly_id</p>\n",
       "                                <span class=\"djtooltiptext\">Unique animal ID</span>\n",
       "                            </div></th><th><div class=\"djtooltip\">\n",
       "                                <p id=\"primary\">session_date</p>\n",
       "                                <span class=\"djtooltiptext\">date</span>\n",
       "                            </div></th><th><div class=\"djtooltip\">\n",
       "                                <p id=\"primary\">scan_idx</p>\n",
       "                                <span class=\"djtooltiptext\">scan index</span>\n",
       "                            </div></th><th><div class=\"djtooltip\">\n",
       "                                <p id=\"nonprimary\">depth</p>\n",
       "                                <span class=\"djtooltiptext\">depth of this scan</span>\n",
       "                            </div></th><th><div class=\"djtooltip\">\n",
       "                                <p id=\"nonprimary\">wavelength</p>\n",
       "                                <span class=\"djtooltiptext\">wavelength used</span>\n",
       "                            </div></th><th><div class=\"djtooltip\">\n",
       "                                <p id=\"nonprimary\">laser_power</p>\n",
       "                                <span class=\"djtooltiptext\">power of the laser used</span>\n",
       "                            </div></th><th><div class=\"djtooltip\">\n",
       "                                <p id=\"nonprimary\">fps</p>\n",
       "                                <span class=\"djtooltiptext\">frames per second</span>\n",
       "                            </div></th><th><div class=\"djtooltip\">\n",
       "                                <p id=\"nonprimary\">file_name</p>\n",
       "                                <span class=\"djtooltiptext\">name of the tif file</span>\n",
       "                            </div> </th> </tr> </thead>\n",
       "                <tbody> <tr> <td>0</td>\n",
       "<td>2020-05-15</td>\n",
       "<td>1</td>\n",
       "<td>150.0</td>\n",
       "<td>920.0</td>\n",
       "<td>26.0</td>\n",
       "<td>15.0</td>\n",
       "<td>example_scan_01.tif</td></tr><tr><td>0</td>\n",
       "<td>2020-05-15</td>\n",
       "<td>2</td>\n",
       "<td>200.0</td>\n",
       "<td>920.0</td>\n",
       "<td>24.0</td>\n",
       "<td>15.0</td>\n",
       "<td>example_scan_02.tif</td> </tr> </tbody>\n",
       "            </table>\n",
       "            \n",
       "            <p>Total: 2</p></div>\n",
       "            "
      ],
      "text/plain": [
       "*fly_id    *session_date  *scan_idx    depth     wavelength     laser_power    fps      file_name     \n",
       "+--------+ +------------+ +----------+ +-------+ +------------+ +------------+ +------+ +------------+\n",
       "0          2020-05-15     1            150.0     920.0          26.0           15.0     example_scan_0\n",
       "0          2020-05-15     2            200.0     920.0          24.0           15.0     example_scan_0\n",
       " (Total: 2)"
      ]
     },
     "execution_count": 12,
     "metadata": {},
     "output_type": "execute_result"
    }
   ],
   "source": [
    "Scan()"
   ]
  },
  {
   "cell_type": "markdown",
   "metadata": {},
   "source": [
    "## Looking at the raw data"
   ]
  },
  {
   "cell_type": "markdown",
   "metadata": {},
   "source": [
    "Let's first load one raw data and take a look at the data:"
   ]
  },
  {
   "cell_type": "code",
   "execution_count": 13,
   "metadata": {},
   "outputs": [
    {
     "name": "stdout",
     "output_type": "stream",
     "text": [
      "(100, 128, 128)\n"
     ]
    }
   ],
   "source": [
    "from skimage import io\n",
    "im = io.imread('imaging_data/example_scan_01.tif')\n",
    "print(im.shape)"
   ]
  },
  {
   "cell_type": "markdown",
   "metadata": {},
   "source": [
    "This tiff file contains 100 frames. Let's take the average of the images over frames and look at it."
   ]
  },
  {
   "cell_type": "markdown",
   "metadata": {},
   "source": [
    "### 2) compute the avg frame with np.mean of axis=0 and plot the average image"
   ]
  },
  {
   "cell_type": "code",
   "execution_count": 14,
   "metadata": {},
   "outputs": [
    {
     "data": {
      "text/plain": [
       "array([[32.73, 30.77, 31.74, ..., 65.76, 62.77, 58.65],\n",
       "       [30.07, 27.96, 28.74, ..., 60.11, 58.1 , 54.59],\n",
       "       [28.91, 27.02, 27.12, ..., 58.01, 56.1 , 53.25],\n",
       "       ...,\n",
       "       [35.17, 35.56, 34.37, ..., 21.08, 21.45, 21.09],\n",
       "       [33.14, 35.73, 37.64, ..., 20.42, 21.24, 21.51],\n",
       "       [33.52, 37.65, 41.71, ..., 19.82, 20.29, 21.36]])"
      ]
     },
     "execution_count": 14,
     "metadata": {},
     "output_type": "execute_result"
    }
   ],
   "source": [
    "# ENTER YOUR CODE!\n",
    "\n",
    "avg_frame = np.mean(im,axis=0)\n",
    "avg_frame"
   ]
  },
  {
   "cell_type": "markdown",
   "metadata": {},
   "source": [
    "## Defining table for average fluorescence across frames"
   ]
  },
  {
   "cell_type": "markdown",
   "metadata": {},
   "source": [
    "Now let's create a table `AverageFrame` to compute and save the average fluorescence. \n",
    "\n",
    "For each scan, we have one average frame. Therefore, the table shares the exact same primary key as the table `Scan`"
   ]
  },
  {
   "cell_type": "code",
   "execution_count": 15,
   "metadata": {},
   "outputs": [],
   "source": [
    "@schema\n",
    "class AverageFrame(dj.Imported):\n",
    "    definition = \"\"\"\n",
    "    -> Scan\n",
    "    ---\n",
    "    average_frame   : longblob     # average fluorescence across frames\n",
    "    \"\"\""
   ]
  },
  {
   "cell_type": "markdown",
   "metadata": {},
   "source": [
    "Let's check the state of our pipeline."
   ]
  },
  {
   "cell_type": "code",
   "execution_count": 16,
   "metadata": {},
   "outputs": [
    {
     "data": {
      "image/svg+xml": [
       "<svg height=\"256pt\" viewBox=\"0.00 0.00 128.00 256.00\" width=\"128pt\" xmlns=\"http://www.w3.org/2000/svg\" xmlns:xlink=\"http://www.w3.org/1999/xlink\">\n",
       "<g class=\"graph\" id=\"graph0\" transform=\"scale(1 1) rotate(0) translate(4 252)\">\n",
       "<title>%3</title>\n",
       "<polygon fill=\"#ffffff\" points=\"-4,4 -4,-252 124,-252 124,4 -4,4\" stroke=\"transparent\"/>\n",
       "<!-- Session -->\n",
       "<g class=\"node\" id=\"node1\">\n",
       "<title>Session</title>\n",
       "<g id=\"a_node1\"><a xlink:title=\"→ Fly\r",
       "session_date         \r",
       "------------------------------\r",
       "experiment_setup     \r",
       "experimenter         \r",
       "data_path=&quot;&quot;         \r",
       "\">\n",
       "<polygon fill=\"#00ff00\" fill-opacity=\"0.188235\" points=\"89.5,-177 30.5,-177 30.5,-142 89.5,-142 89.5,-177\" stroke=\"#00ff00\" stroke-opacity=\"0.188235\"/>\n",
       "<text fill=\"#006400\" font-family=\"arial\" font-size=\"12.00\" text-anchor=\"start\" text-decoration=\"underline\" x=\"38.5\" y=\"-157.4\">Session</text>\n",
       "</a>\n",
       "</g>\n",
       "</g>\n",
       "<!-- Scan -->\n",
       "<g class=\"node\" id=\"node4\">\n",
       "<title>Scan</title>\n",
       "<g id=\"a_node4\"><a xlink:title=\"→ Session\r",
       "scan_idx             \r",
       "------------------------------\r",
       "depth                \r",
       "wavelength           \r",
       "laser_power          \r",
       "fps                  \r",
       "file_name            \r",
       "\">\n",
       "<polygon fill=\"#00ff00\" fill-opacity=\"0.188235\" points=\"82,-106 38,-106 38,-71 82,-71 82,-106\" stroke=\"#00ff00\" stroke-opacity=\"0.188235\"/>\n",
       "<text fill=\"#006400\" font-family=\"arial\" font-size=\"12.00\" text-anchor=\"start\" text-decoration=\"underline\" x=\"46\" y=\"-86.4\">Scan</text>\n",
       "</a>\n",
       "</g>\n",
       "</g>\n",
       "<!-- Session&#45;&gt;Scan -->\n",
       "<g class=\"edge\" id=\"edge1\">\n",
       "<title>Session-&gt;Scan</title>\n",
       "<path d=\"M60,-141.9494C60,-131.1083 60,-117.2366 60,-106.3418\" fill=\"none\" stroke=\"#000000\" stroke-opacity=\"0.250980\" stroke-width=\".75\"/>\n",
       "</g>\n",
       "<!-- Fly -->\n",
       "<g class=\"node\" id=\"node2\">\n",
       "<title>Fly</title>\n",
       "<g id=\"a_node2\"><a xlink:title=\"fly_id               \r",
       "------------------------------\r",
       "dob=null             \r",
       "sex=&quot;U&quot;              \r",
       "\">\n",
       "<polygon fill=\"#00ff00\" fill-opacity=\"0.188235\" points=\"77.5,-248 42.5,-248 42.5,-213 77.5,-213 77.5,-248\" stroke=\"#00ff00\" stroke-opacity=\"0.188235\"/>\n",
       "<text fill=\"#006400\" font-family=\"arial\" font-size=\"12.00\" text-anchor=\"start\" text-decoration=\"underline\" x=\"52\" y=\"-228.4\">Fly</text>\n",
       "</a>\n",
       "</g>\n",
       "</g>\n",
       "<!-- Fly&#45;&gt;Session -->\n",
       "<g class=\"edge\" id=\"edge2\">\n",
       "<title>Fly-&gt;Session</title>\n",
       "<path d=\"M60,-212.9494C60,-202.1083 60,-188.2366 60,-177.3418\" fill=\"none\" stroke=\"#000000\" stroke-opacity=\"0.250980\" stroke-width=\".75\"/>\n",
       "</g>\n",
       "<!-- AverageFrame -->\n",
       "<g class=\"node\" id=\"node3\">\n",
       "<title>AverageFrame</title>\n",
       "<g id=\"a_node3\"><a xlink:title=\"→ Scan\r",
       "------------------------------\r",
       "average_frame        \r",
       "\">\n",
       "<ellipse cx=\"60\" cy=\"-17.5\" fill=\"#00007f\" fill-opacity=\"0.250980\" rx=\"60\" ry=\"17.5\" stroke=\"#00007f\" stroke-opacity=\"0.250980\"/>\n",
       "<text fill=\"#00007f\" font-family=\"arial\" font-size=\"12.00\" text-anchor=\"middle\" x=\"60\" y=\"-14.4\">AverageFrame</text>\n",
       "</a>\n",
       "</g>\n",
       "</g>\n",
       "<!-- Scan&#45;&gt;AverageFrame -->\n",
       "<g class=\"edge\" id=\"edge3\">\n",
       "<title>Scan-&gt;AverageFrame</title>\n",
       "<path d=\"M60,-70.9494C60,-60.1083 60,-46.2366 60,-35.3418\" fill=\"none\" stroke=\"#000000\" stroke-opacity=\"0.250980\" stroke-width=\"2\"/>\n",
       "</g>\n",
       "</g>\n",
       "</svg>"
      ],
      "text/plain": [
       "<datajoint.diagram.Diagram at 0x1294a0d68>"
      ]
     },
     "execution_count": 16,
     "metadata": {},
     "output_type": "execute_result"
    }
   ],
   "source": [
    "dj.ERD(schema)"
   ]
  },
  {
   "cell_type": "markdown",
   "metadata": {},
   "source": [
    "Note that `AverageFrame` and `Scan` share the exact same primary key attributes, so `Scan` and `AverageFrame` have a **one-to-one** relationship, which is indicated with a thick solid line."
   ]
  },
  {
   "cell_type": "markdown",
   "metadata": {},
   "source": [
    "We defined `average_frame` as a `longblob` so that it can store a NumPy array. This NumPy array will be imported and computed from the file corresponding to each scan."
   ]
  },
  {
   "cell_type": "markdown",
   "metadata": {},
   "source": [
    "Note that our `AverageFrame` class inherits from `dj.Imported` instead of `dj.Manual` like others. This is because **this table's content will depend on data imported from an external file**. The `Manual` vs `Imported` are said to specify the **tier of the table**."
   ]
  },
  {
   "cell_type": "markdown",
   "metadata": {},
   "source": [
    "## DataJoint table tiers"
   ]
  },
  {
   "cell_type": "markdown",
   "metadata": {},
   "source": [
    "In DataJoint, the tier of the table indicates **the nature of the data and the data source for the table**. So far we have encountered two table tiers: `Manual` and `Imported`, and we will encounter the two other major tiers in this session. \n",
    "\n",
    "DataJoint tables in `Manual` tier, or simply **Manual tables** indicate that its contents are **manually** entered by either experimenters or a recording system, and its content **do not depend on external data files or other tables**. This is the most basic table type you will encounter, especially as the tables at the beggining of the pipeline. In the ERD, `Manual` tables are depicted by green rectangles.\n",
    "\n",
    "On the other hand, **Imported tables** are understood to pull data (or *import* data) from external data files, and come equipped with functionalities to perform this importing process automatically, as we will see shortly! In the ERD, `Imported` tables are depicted by blue ellipses (see above)."
   ]
  },
  {
   "cell_type": "markdown",
   "metadata": {},
   "source": [
    "## Importing data into the `Imported` table"
   ]
  },
  {
   "cell_type": "markdown",
   "metadata": {},
   "source": [
    "Rather than filling out the content of the table manually using `insert1` or `insert` methods, we are going to make use of the `make` and `populate` logic that comes with `Imported` tables to automatically figure out what needs to be imported and perform the import!"
   ]
  },
  {
   "cell_type": "markdown",
   "metadata": {},
   "source": [
    "## `make` and `populate` methods"
   ]
  },
  {
   "cell_type": "markdown",
   "metadata": {},
   "source": [
    "`Imported` table comes with a special method called `populate`. Let's try calling it."
   ]
  },
  {
   "cell_type": "code",
   "execution_count": 17,
   "metadata": {},
   "outputs": [
    {
     "ename": "NotImplementedError",
     "evalue": "Subclasses of AutoPopulate must implement the method `make`",
     "output_type": "error",
     "traceback": [
      "\u001b[0;31m---------------------------------------------------------------------------\u001b[0m",
      "\u001b[0;31mNotImplementedError\u001b[0m                       Traceback (most recent call last)",
      "\u001b[0;32m<ipython-input-17-f180a9ac3786>\u001b[0m in \u001b[0;36m<module>\u001b[0;34m\u001b[0m\n\u001b[0;32m----> 1\u001b[0;31m \u001b[0mAverageFrame\u001b[0m\u001b[0;34m.\u001b[0m\u001b[0mpopulate\u001b[0m\u001b[0;34m(\u001b[0m\u001b[0;34m)\u001b[0m\u001b[0;34m\u001b[0m\u001b[0;34m\u001b[0m\u001b[0m\n\u001b[0m",
      "\u001b[0;32m~/opt/anaconda3/envs/henlabenv/lib/python3.7/site-packages/datajoint/autopopulate.py\u001b[0m in \u001b[0;36mpopulate\u001b[0;34m(self, suppress_errors, return_exception_objects, reserve_jobs, order, limit, max_calls, display_progress, multiprocess, *restrictions)\u001b[0m\n\u001b[1;32m    197\u001b[0m         \u001b[0;32melse\u001b[0m\u001b[0;34m:\u001b[0m \u001b[0;31m# use single process\u001b[0m\u001b[0;34m\u001b[0m\u001b[0;34m\u001b[0m\u001b[0m\n\u001b[1;32m    198\u001b[0m             \u001b[0;32mfor\u001b[0m \u001b[0mkey\u001b[0m \u001b[0;32min\u001b[0m \u001b[0mtqdm\u001b[0m\u001b[0;34m(\u001b[0m\u001b[0mkeys\u001b[0m\u001b[0;34m)\u001b[0m \u001b[0;32mif\u001b[0m \u001b[0mdisplay_progress\u001b[0m \u001b[0;32melse\u001b[0m \u001b[0mkeys\u001b[0m\u001b[0;34m:\u001b[0m\u001b[0;34m\u001b[0m\u001b[0;34m\u001b[0m\u001b[0m\n\u001b[0;32m--> 199\u001b[0;31m                 \u001b[0merror\u001b[0m \u001b[0;34m=\u001b[0m \u001b[0mself\u001b[0m\u001b[0;34m.\u001b[0m\u001b[0mmake_key\u001b[0m\u001b[0;34m(\u001b[0m\u001b[0mkey\u001b[0m\u001b[0;34m)\u001b[0m\u001b[0;34m\u001b[0m\u001b[0;34m\u001b[0m\u001b[0m\n\u001b[0m\u001b[1;32m    200\u001b[0m                 \u001b[0;32mif\u001b[0m \u001b[0merror\u001b[0m \u001b[0;32mis\u001b[0m \u001b[0;32mnot\u001b[0m \u001b[0;32mNone\u001b[0m\u001b[0;34m:\u001b[0m\u001b[0;34m\u001b[0m\u001b[0;34m\u001b[0m\u001b[0m\n\u001b[1;32m    201\u001b[0m                     \u001b[0merror_list\u001b[0m\u001b[0;34m.\u001b[0m\u001b[0mappend\u001b[0m\u001b[0;34m(\u001b[0m\u001b[0merror\u001b[0m\u001b[0;34m)\u001b[0m\u001b[0;34m\u001b[0m\u001b[0;34m\u001b[0m\u001b[0m\n",
      "\u001b[0;32m~/opt/anaconda3/envs/henlabenv/lib/python3.7/site-packages/datajoint/autopopulate.py\u001b[0m in \u001b[0;36mmake_key\u001b[0;34m(self, key)\u001b[0m\n\u001b[1;32m    229\u001b[0m                 \u001b[0mself\u001b[0m\u001b[0;34m.\u001b[0m\u001b[0m__class__\u001b[0m\u001b[0;34m.\u001b[0m\u001b[0m_allow_insert\u001b[0m \u001b[0;34m=\u001b[0m \u001b[0;32mTrue\u001b[0m\u001b[0;34m\u001b[0m\u001b[0;34m\u001b[0m\u001b[0m\n\u001b[1;32m    230\u001b[0m                 \u001b[0;32mtry\u001b[0m\u001b[0;34m:\u001b[0m\u001b[0;34m\u001b[0m\u001b[0;34m\u001b[0m\u001b[0m\n\u001b[0;32m--> 231\u001b[0;31m                     \u001b[0mmake\u001b[0m\u001b[0;34m(\u001b[0m\u001b[0mdict\u001b[0m\u001b[0;34m(\u001b[0m\u001b[0mkey\u001b[0m\u001b[0;34m)\u001b[0m\u001b[0;34m)\u001b[0m\u001b[0;34m\u001b[0m\u001b[0;34m\u001b[0m\u001b[0m\n\u001b[0m\u001b[1;32m    232\u001b[0m                 \u001b[0;32mexcept\u001b[0m \u001b[0;34m(\u001b[0m\u001b[0mKeyboardInterrupt\u001b[0m\u001b[0;34m,\u001b[0m \u001b[0mSystemExit\u001b[0m\u001b[0;34m,\u001b[0m \u001b[0mException\u001b[0m\u001b[0;34m)\u001b[0m \u001b[0;32mas\u001b[0m \u001b[0merror\u001b[0m\u001b[0;34m:\u001b[0m\u001b[0;34m\u001b[0m\u001b[0;34m\u001b[0m\u001b[0m\n\u001b[1;32m    233\u001b[0m                     \u001b[0;32mtry\u001b[0m\u001b[0;34m:\u001b[0m\u001b[0;34m\u001b[0m\u001b[0;34m\u001b[0m\u001b[0m\n",
      "\u001b[0;32m~/opt/anaconda3/envs/henlabenv/lib/python3.7/site-packages/datajoint/autopopulate.py\u001b[0m in \u001b[0;36mmake\u001b[0;34m(self, key)\u001b[0m\n\u001b[1;32m     74\u001b[0m         \u001b[0mattributes\u001b[0m\u001b[0;34m,\u001b[0m \u001b[0;32mand\u001b[0m \u001b[0minserts\u001b[0m \u001b[0mthe\u001b[0m \u001b[0mnew\u001b[0m \u001b[0mtuples\u001b[0m \u001b[0minto\u001b[0m \u001b[0mself\u001b[0m\u001b[0;34m.\u001b[0m\u001b[0;34m\u001b[0m\u001b[0;34m\u001b[0m\u001b[0m\n\u001b[1;32m     75\u001b[0m         \"\"\"\n\u001b[0;32m---> 76\u001b[0;31m         \u001b[0;32mraise\u001b[0m \u001b[0mNotImplementedError\u001b[0m\u001b[0;34m(\u001b[0m\u001b[0;34m'Subclasses of AutoPopulate must implement the method `make`'\u001b[0m\u001b[0;34m)\u001b[0m\u001b[0;34m\u001b[0m\u001b[0;34m\u001b[0m\u001b[0m\n\u001b[0m\u001b[1;32m     77\u001b[0m \u001b[0;34m\u001b[0m\u001b[0m\n\u001b[1;32m     78\u001b[0m     \u001b[0;34m@\u001b[0m\u001b[0mproperty\u001b[0m\u001b[0;34m\u001b[0m\u001b[0;34m\u001b[0m\u001b[0m\n",
      "\u001b[0;31mNotImplementedError\u001b[0m: Subclasses of AutoPopulate must implement the method `make`"
     ]
    }
   ],
   "source": [
    "AverageFrame.populate()"
   ]
  },
  {
   "cell_type": "markdown",
   "metadata": {},
   "source": [
    "Notice that `populate` call complained that a method called `make` is not implemented. Let me show a simple `make` method that will help elucidate what this is all about."
   ]
  },
  {
   "cell_type": "code",
   "execution_count": 18,
   "metadata": {},
   "outputs": [],
   "source": [
    "@schema\n",
    "class AverageFrame(dj.Imported):\n",
    "    definition = \"\"\"\n",
    "    -> Scan\n",
    "    ---\n",
    "    average_frame   : longblob     # average fluorescence across frames\n",
    "    \"\"\"\n",
    "    def make(self, key):  # key is the primary key of one of the entries in the table `Scan`\n",
    "        print('key is', key)"
   ]
  },
  {
   "cell_type": "markdown",
   "metadata": {},
   "source": [
    "Now, let's call `populate` again!"
   ]
  },
  {
   "cell_type": "code",
   "execution_count": 19,
   "metadata": {},
   "outputs": [
    {
     "name": "stdout",
     "output_type": "stream",
     "text": [
      "key is {'fly_id': 0, 'session_date': datetime.date(2020, 5, 15), 'scan_idx': 1}\n",
      "key is {'fly_id': 0, 'session_date': datetime.date(2020, 5, 15), 'scan_idx': 2}\n"
     ]
    }
   ],
   "source": [
    "AverageFrame.populate()"
   ]
  },
  {
   "cell_type": "markdown",
   "metadata": {},
   "source": [
    "When you call `populate` on an `Imported` table, this triggers DataJoint to look up all tables that the `Imported` table depends on.\n",
    "\n",
    "For **every unique combination of entries in the depended or \"parent\" tables**, DataJoint calls `make` function, passing in the primary key of the parent(s)."
   ]
  },
  {
   "cell_type": "markdown",
   "metadata": {},
   "source": [
    "Because `AverageFrame` depends on `Scan`, `AverageFrame`'s `make` method was called for each entry of `Scan`"
   ]
  },
  {
   "cell_type": "code",
   "execution_count": 20,
   "metadata": {},
   "outputs": [
    {
     "data": {
      "text/html": [
       "\n",
       "        \n",
       "        <style type=\"text/css\">\n",
       "            .Relation{\n",
       "                border-collapse:collapse;\n",
       "            }\n",
       "            .Relation th{\n",
       "                background: #A0A0A0; color: #ffffff; padding:4px; border:#f0e0e0 1px solid;\n",
       "                font-weight: normal; font-family: monospace; font-size: 100%;\n",
       "            }\n",
       "            .Relation td{\n",
       "                padding:4px; border:#f0e0e0 1px solid; font-size:100%;\n",
       "            }\n",
       "            .Relation tr:nth-child(odd){\n",
       "                background: #ffffff;\n",
       "            }\n",
       "            .Relation tr:nth-child(even){\n",
       "                background: #f3f1ff;\n",
       "            }\n",
       "            /* Tooltip container */\n",
       "            .djtooltip {\n",
       "            }\n",
       "            /* Tooltip text */\n",
       "            .djtooltip .djtooltiptext {\n",
       "                visibility: hidden;\n",
       "                width: 120px;\n",
       "                background-color: black;\n",
       "                color: #fff;\n",
       "                text-align: center;\n",
       "                padding: 5px 0;\n",
       "                border-radius: 6px;\n",
       "                /* Position the tooltip text - see examples below! */\n",
       "                position: absolute;\n",
       "                z-index: 1;\n",
       "            }\n",
       "            #primary {\n",
       "                font-weight: bold;\n",
       "                color: black;\n",
       "            }\n",
       "\n",
       "            #nonprimary {\n",
       "                font-weight: normal;\n",
       "                color: white;\n",
       "            }\n",
       "\n",
       "            /* Show the tooltip text when you mouse over the tooltip container */\n",
       "            .djtooltip:hover .djtooltiptext {\n",
       "                visibility: visible;\n",
       "            }\n",
       "        </style>\n",
       "        \n",
       "        <b></b>\n",
       "            <div style=\"max-height:1000px;max-width:1500px;overflow:auto;\">\n",
       "            <table border=\"1\" class=\"Relation\">\n",
       "                <thead> <tr style=\"text-align: right;\"> <th> <div class=\"djtooltip\">\n",
       "                                <p id=\"primary\">fly_id</p>\n",
       "                                <span class=\"djtooltiptext\">Unique animal ID</span>\n",
       "                            </div></th><th><div class=\"djtooltip\">\n",
       "                                <p id=\"primary\">session_date</p>\n",
       "                                <span class=\"djtooltiptext\">date</span>\n",
       "                            </div></th><th><div class=\"djtooltip\">\n",
       "                                <p id=\"primary\">scan_idx</p>\n",
       "                                <span class=\"djtooltiptext\">scan index</span>\n",
       "                            </div></th><th><div class=\"djtooltip\">\n",
       "                                <p id=\"nonprimary\">depth</p>\n",
       "                                <span class=\"djtooltiptext\">depth of this scan</span>\n",
       "                            </div></th><th><div class=\"djtooltip\">\n",
       "                                <p id=\"nonprimary\">wavelength</p>\n",
       "                                <span class=\"djtooltiptext\">wavelength used</span>\n",
       "                            </div></th><th><div class=\"djtooltip\">\n",
       "                                <p id=\"nonprimary\">laser_power</p>\n",
       "                                <span class=\"djtooltiptext\">power of the laser used</span>\n",
       "                            </div></th><th><div class=\"djtooltip\">\n",
       "                                <p id=\"nonprimary\">fps</p>\n",
       "                                <span class=\"djtooltiptext\">frames per second</span>\n",
       "                            </div></th><th><div class=\"djtooltip\">\n",
       "                                <p id=\"nonprimary\">file_name</p>\n",
       "                                <span class=\"djtooltiptext\">name of the tif file</span>\n",
       "                            </div> </th> </tr> </thead>\n",
       "                <tbody> <tr> <td>0</td>\n",
       "<td>2020-05-15</td>\n",
       "<td>1</td>\n",
       "<td>150.0</td>\n",
       "<td>920.0</td>\n",
       "<td>26.0</td>\n",
       "<td>15.0</td>\n",
       "<td>example_scan_01.tif</td></tr><tr><td>0</td>\n",
       "<td>2020-05-15</td>\n",
       "<td>2</td>\n",
       "<td>200.0</td>\n",
       "<td>920.0</td>\n",
       "<td>24.0</td>\n",
       "<td>15.0</td>\n",
       "<td>example_scan_02.tif</td> </tr> </tbody>\n",
       "            </table>\n",
       "            \n",
       "            <p>Total: 2</p></div>\n",
       "            "
      ],
      "text/plain": [
       "*fly_id    *session_date  *scan_idx    depth     wavelength     laser_power    fps      file_name     \n",
       "+--------+ +------------+ +----------+ +-------+ +------------+ +------------+ +------+ +------------+\n",
       "0          2020-05-15     1            150.0     920.0          26.0           15.0     example_scan_0\n",
       "0          2020-05-15     2            200.0     920.0          24.0           15.0     example_scan_0\n",
       " (Total: 2)"
      ]
     },
     "execution_count": 20,
     "metadata": {},
     "output_type": "execute_result"
    }
   ],
   "source": [
    "Scan()"
   ]
  },
  {
   "cell_type": "markdown",
   "metadata": {},
   "source": [
    "Note that `make` only receives the *primary key attributes* of `Scan` (`mouse_id`, `session_date`, `scan_idx`) but not the other attributes."
   ]
  },
  {
   "cell_type": "markdown",
   "metadata": {},
   "source": [
    "## Implementing `make`"
   ]
  },
  {
   "cell_type": "markdown",
   "metadata": {},
   "source": [
    "Now we have a better understanding of `make`, let's implement `make` to perform the importing of data from file."
   ]
  },
  {
   "cell_type": "markdown",
   "metadata": {},
   "source": [
    "### 3) Implement a `make` function for `AverageFrame` to compute the average frame and insert it into the table. "
   ]
  },
  {
   "cell_type": "code",
   "execution_count": 21,
   "metadata": {},
   "outputs": [
    {
     "data": {
      "text/html": [
       "\n",
       "        \n",
       "        <style type=\"text/css\">\n",
       "            .Relation{\n",
       "                border-collapse:collapse;\n",
       "            }\n",
       "            .Relation th{\n",
       "                background: #A0A0A0; color: #ffffff; padding:4px; border:#f0e0e0 1px solid;\n",
       "                font-weight: normal; font-family: monospace; font-size: 100%;\n",
       "            }\n",
       "            .Relation td{\n",
       "                padding:4px; border:#f0e0e0 1px solid; font-size:100%;\n",
       "            }\n",
       "            .Relation tr:nth-child(odd){\n",
       "                background: #ffffff;\n",
       "            }\n",
       "            .Relation tr:nth-child(even){\n",
       "                background: #f3f1ff;\n",
       "            }\n",
       "            /* Tooltip container */\n",
       "            .djtooltip {\n",
       "            }\n",
       "            /* Tooltip text */\n",
       "            .djtooltip .djtooltiptext {\n",
       "                visibility: hidden;\n",
       "                width: 120px;\n",
       "                background-color: black;\n",
       "                color: #fff;\n",
       "                text-align: center;\n",
       "                padding: 5px 0;\n",
       "                border-radius: 6px;\n",
       "                /* Position the tooltip text - see examples below! */\n",
       "                position: absolute;\n",
       "                z-index: 1;\n",
       "            }\n",
       "            #primary {\n",
       "                font-weight: bold;\n",
       "                color: black;\n",
       "            }\n",
       "\n",
       "            #nonprimary {\n",
       "                font-weight: normal;\n",
       "                color: white;\n",
       "            }\n",
       "\n",
       "            /* Show the tooltip text when you mouse over the tooltip container */\n",
       "            .djtooltip:hover .djtooltiptext {\n",
       "                visibility: visible;\n",
       "            }\n",
       "        </style>\n",
       "        \n",
       "        <b></b>\n",
       "            <div style=\"max-height:1000px;max-width:1500px;overflow:auto;\">\n",
       "            <table border=\"1\" class=\"Relation\">\n",
       "                <thead> <tr style=\"text-align: right;\"> <th> <div class=\"djtooltip\">\n",
       "                                <p id=\"primary\">fly_id</p>\n",
       "                                <span class=\"djtooltiptext\">Unique animal ID</span>\n",
       "                            </div></th><th><div class=\"djtooltip\">\n",
       "                                <p id=\"primary\">session_date</p>\n",
       "                                <span class=\"djtooltiptext\">date</span>\n",
       "                            </div></th><th><div class=\"djtooltip\">\n",
       "                                <p id=\"primary\">scan_idx</p>\n",
       "                                <span class=\"djtooltiptext\">scan index</span>\n",
       "                            </div></th><th><div class=\"djtooltip\">\n",
       "                                <p id=\"nonprimary\">depth</p>\n",
       "                                <span class=\"djtooltiptext\">depth of this scan</span>\n",
       "                            </div></th><th><div class=\"djtooltip\">\n",
       "                                <p id=\"nonprimary\">wavelength</p>\n",
       "                                <span class=\"djtooltiptext\">wavelength used</span>\n",
       "                            </div></th><th><div class=\"djtooltip\">\n",
       "                                <p id=\"nonprimary\">laser_power</p>\n",
       "                                <span class=\"djtooltiptext\">power of the laser used</span>\n",
       "                            </div></th><th><div class=\"djtooltip\">\n",
       "                                <p id=\"nonprimary\">fps</p>\n",
       "                                <span class=\"djtooltiptext\">frames per second</span>\n",
       "                            </div></th><th><div class=\"djtooltip\">\n",
       "                                <p id=\"nonprimary\">file_name</p>\n",
       "                                <span class=\"djtooltiptext\">name of the tif file</span>\n",
       "                            </div> </th> </tr> </thead>\n",
       "                <tbody> <tr> <td>0</td>\n",
       "<td>2020-05-15</td>\n",
       "<td>1</td>\n",
       "<td>150.0</td>\n",
       "<td>920.0</td>\n",
       "<td>26.0</td>\n",
       "<td>15.0</td>\n",
       "<td>example_scan_01.tif</td></tr><tr><td>0</td>\n",
       "<td>2020-05-15</td>\n",
       "<td>2</td>\n",
       "<td>200.0</td>\n",
       "<td>920.0</td>\n",
       "<td>24.0</td>\n",
       "<td>15.0</td>\n",
       "<td>example_scan_02.tif</td> </tr> </tbody>\n",
       "            </table>\n",
       "            \n",
       "            <p>Total: 2</p></div>\n",
       "            "
      ],
      "text/plain": [
       "*fly_id    *session_date  *scan_idx    depth     wavelength     laser_power    fps      file_name     \n",
       "+--------+ +------------+ +----------+ +-------+ +------------+ +------------+ +------+ +------------+\n",
       "0          2020-05-15     1            150.0     920.0          26.0           15.0     example_scan_0\n",
       "0          2020-05-15     2            200.0     920.0          24.0           15.0     example_scan_0\n",
       " (Total: 2)"
      ]
     },
     "execution_count": 21,
     "metadata": {},
     "output_type": "execute_result"
    }
   ],
   "source": [
    "Scan()"
   ]
  },
  {
   "cell_type": "code",
   "execution_count": 22,
   "metadata": {},
   "outputs": [
    {
     "data": {
      "text/html": [
       "\n",
       "        \n",
       "        <style type=\"text/css\">\n",
       "            .Relation{\n",
       "                border-collapse:collapse;\n",
       "            }\n",
       "            .Relation th{\n",
       "                background: #A0A0A0; color: #ffffff; padding:4px; border:#f0e0e0 1px solid;\n",
       "                font-weight: normal; font-family: monospace; font-size: 100%;\n",
       "            }\n",
       "            .Relation td{\n",
       "                padding:4px; border:#f0e0e0 1px solid; font-size:100%;\n",
       "            }\n",
       "            .Relation tr:nth-child(odd){\n",
       "                background: #ffffff;\n",
       "            }\n",
       "            .Relation tr:nth-child(even){\n",
       "                background: #f3f1ff;\n",
       "            }\n",
       "            /* Tooltip container */\n",
       "            .djtooltip {\n",
       "            }\n",
       "            /* Tooltip text */\n",
       "            .djtooltip .djtooltiptext {\n",
       "                visibility: hidden;\n",
       "                width: 120px;\n",
       "                background-color: black;\n",
       "                color: #fff;\n",
       "                text-align: center;\n",
       "                padding: 5px 0;\n",
       "                border-radius: 6px;\n",
       "                /* Position the tooltip text - see examples below! */\n",
       "                position: absolute;\n",
       "                z-index: 1;\n",
       "            }\n",
       "            #primary {\n",
       "                font-weight: bold;\n",
       "                color: black;\n",
       "            }\n",
       "\n",
       "            #nonprimary {\n",
       "                font-weight: normal;\n",
       "                color: white;\n",
       "            }\n",
       "\n",
       "            /* Show the tooltip text when you mouse over the tooltip container */\n",
       "            .djtooltip:hover .djtooltiptext {\n",
       "                visibility: visible;\n",
       "            }\n",
       "        </style>\n",
       "        \n",
       "        <b>Experiment session</b>\n",
       "            <div style=\"max-height:1000px;max-width:1500px;overflow:auto;\">\n",
       "            <table border=\"1\" class=\"Relation\">\n",
       "                <thead> <tr style=\"text-align: right;\"> <th> <div class=\"djtooltip\">\n",
       "                                <p id=\"primary\">fly_id</p>\n",
       "                                <span class=\"djtooltiptext\">Unique animal ID</span>\n",
       "                            </div></th><th><div class=\"djtooltip\">\n",
       "                                <p id=\"primary\">session_date</p>\n",
       "                                <span class=\"djtooltiptext\">date</span>\n",
       "                            </div></th><th><div class=\"djtooltip\">\n",
       "                                <p id=\"nonprimary\">experiment_setup</p>\n",
       "                                <span class=\"djtooltiptext\">experiment setup ID</span>\n",
       "                            </div></th><th><div class=\"djtooltip\">\n",
       "                                <p id=\"nonprimary\">experimenter</p>\n",
       "                                <span class=\"djtooltiptext\">experimenter name</span>\n",
       "                            </div></th><th><div class=\"djtooltip\">\n",
       "                                <p id=\"nonprimary\">data_path</p>\n",
       "                                <span class=\"djtooltiptext\"></span>\n",
       "                            </div> </th> </tr> </thead>\n",
       "                <tbody> <tr> <td>0</td>\n",
       "<td>2020-05-15</td>\n",
       "<td>0</td>\n",
       "<td>gucky92</td>\n",
       "<td>imaging_data</td></tr><tr><td>0</td>\n",
       "<td>2020-05-19</td>\n",
       "<td>0</td>\n",
       "<td>gucky92</td>\n",
       "<td>imaging_data</td></tr><tr><td>5</td>\n",
       "<td>2020-01-05</td>\n",
       "<td>1</td>\n",
       "<td>jko14</td>\n",
       "<td>imaging_data</td></tr><tr><td>100</td>\n",
       "<td>2020-05-25</td>\n",
       "<td>100</td>\n",
       "<td>jportes</td>\n",
       "<td>imaging_data</td> </tr> </tbody>\n",
       "            </table>\n",
       "            \n",
       "            <p>Total: 4</p></div>\n",
       "            "
      ],
      "text/plain": [
       "*fly_id    *session_date  experiment_set experimenter   data_path     \n",
       "+--------+ +------------+ +------------+ +------------+ +------------+\n",
       "0          2020-05-15     0              gucky92        imaging_data  \n",
       "0          2020-05-19     0              gucky92        imaging_data  \n",
       "5          2020-01-05     1              jko14          imaging_data  \n",
       "100        2020-05-25     100            jportes        imaging_data  \n",
       " (Total: 4)"
      ]
     },
     "execution_count": 22,
     "metadata": {},
     "output_type": "execute_result"
    }
   ],
   "source": [
    "Session()"
   ]
  },
  {
   "cell_type": "code",
   "execution_count": 27,
   "metadata": {},
   "outputs": [],
   "source": [
    "import os\n",
    "@schema\n",
    "class AverageFrame(dj.Imported):\n",
    "    definition = \"\"\"\n",
    "    -> Scan\n",
    "    ---\n",
    "    average_frame   : longblob     # average fluorescence across frames\n",
    "    \"\"\"\n",
    "    def make(self, key):\n",
    "        \n",
    "        # first, fetch the *necessary data from Session and Scan using key to restrict and fetch1:  \n",
    "        filename = (Scan & key).fetch1()['file_name'] \n",
    "        dataname = (Session & key).fetch1()['data_path']\n",
    "        \n",
    "        # Have the script read the file / join it together:\n",
    "        im = io.imread(os.path.join(dataname, filename))\n",
    "            \n",
    "        # compute the avg frame:\n",
    "        avg_frame = np.mean(im, axis = 0)\n",
    "        \n",
    "        # add average frame into the key dictionary:\n",
    "        key.update({'average_frame':avg_frame})\n",
    "        \n",
    "        # Now insert into table using insert1:\n",
    "        self.insert1(key)"
   ]
  },
  {
   "cell_type": "markdown",
   "metadata": {},
   "source": [
    "Hints: \n",
    "* Fetch the necessary data from `Session` and `Scan` using the `key` to restrict and the `fetch1` method.\n",
    "* Once you compute the average frame add the `average_frame` into the `key` dictionary, and then insert it into the table (i.e. `self`) using the `insert1` method."
   ]
  },
  {
   "cell_type": "markdown",
   "metadata": {},
   "source": [
    "Finally, let's go ahead and call `populate` to actually populate the `AverageFrame` table, filling it with data loaded and computed from data files!"
   ]
  },
  {
   "cell_type": "code",
   "execution_count": 28,
   "metadata": {},
   "outputs": [],
   "source": [
    "AverageFrame.populate()"
   ]
  },
  {
   "cell_type": "markdown",
   "metadata": {},
   "source": [
    "Let's take a look at the table now."
   ]
  },
  {
   "cell_type": "code",
   "execution_count": 29,
   "metadata": {},
   "outputs": [
    {
     "data": {
      "text/html": [
       "\n",
       "        \n",
       "        <style type=\"text/css\">\n",
       "            .Relation{\n",
       "                border-collapse:collapse;\n",
       "            }\n",
       "            .Relation th{\n",
       "                background: #A0A0A0; color: #ffffff; padding:4px; border:#f0e0e0 1px solid;\n",
       "                font-weight: normal; font-family: monospace; font-size: 100%;\n",
       "            }\n",
       "            .Relation td{\n",
       "                padding:4px; border:#f0e0e0 1px solid; font-size:100%;\n",
       "            }\n",
       "            .Relation tr:nth-child(odd){\n",
       "                background: #ffffff;\n",
       "            }\n",
       "            .Relation tr:nth-child(even){\n",
       "                background: #f3f1ff;\n",
       "            }\n",
       "            /* Tooltip container */\n",
       "            .djtooltip {\n",
       "            }\n",
       "            /* Tooltip text */\n",
       "            .djtooltip .djtooltiptext {\n",
       "                visibility: hidden;\n",
       "                width: 120px;\n",
       "                background-color: black;\n",
       "                color: #fff;\n",
       "                text-align: center;\n",
       "                padding: 5px 0;\n",
       "                border-radius: 6px;\n",
       "                /* Position the tooltip text - see examples below! */\n",
       "                position: absolute;\n",
       "                z-index: 1;\n",
       "            }\n",
       "            #primary {\n",
       "                font-weight: bold;\n",
       "                color: black;\n",
       "            }\n",
       "\n",
       "            #nonprimary {\n",
       "                font-weight: normal;\n",
       "                color: white;\n",
       "            }\n",
       "\n",
       "            /* Show the tooltip text when you mouse over the tooltip container */\n",
       "            .djtooltip:hover .djtooltiptext {\n",
       "                visibility: visible;\n",
       "            }\n",
       "        </style>\n",
       "        \n",
       "        <b></b>\n",
       "            <div style=\"max-height:1000px;max-width:1500px;overflow:auto;\">\n",
       "            <table border=\"1\" class=\"Relation\">\n",
       "                <thead> <tr style=\"text-align: right;\"> <th> <div class=\"djtooltip\">\n",
       "                                <p id=\"primary\">fly_id</p>\n",
       "                                <span class=\"djtooltiptext\">Unique animal ID</span>\n",
       "                            </div></th><th><div class=\"djtooltip\">\n",
       "                                <p id=\"primary\">session_date</p>\n",
       "                                <span class=\"djtooltiptext\">date</span>\n",
       "                            </div></th><th><div class=\"djtooltip\">\n",
       "                                <p id=\"primary\">scan_idx</p>\n",
       "                                <span class=\"djtooltiptext\">scan index</span>\n",
       "                            </div></th><th><div class=\"djtooltip\">\n",
       "                                <p id=\"nonprimary\">average_frame</p>\n",
       "                                <span class=\"djtooltiptext\">average fluorescence across frames</span>\n",
       "                            </div> </th> </tr> </thead>\n",
       "                <tbody> <tr> <td>0</td>\n",
       "<td>2020-05-15</td>\n",
       "<td>1</td>\n",
       "<td>=BLOB=</td></tr><tr><td>0</td>\n",
       "<td>2020-05-15</td>\n",
       "<td>2</td>\n",
       "<td>=BLOB=</td> </tr> </tbody>\n",
       "            </table>\n",
       "            \n",
       "            <p>Total: 2</p></div>\n",
       "            "
      ],
      "text/plain": [
       "*fly_id    *session_date  *scan_idx    average_fr\n",
       "+--------+ +------------+ +----------+ +--------+\n",
       "0          2020-05-15     1            =BLOB=    \n",
       "0          2020-05-15     2            =BLOB=    \n",
       " (Total: 2)"
      ]
     },
     "execution_count": 29,
     "metadata": {},
     "output_type": "execute_result"
    }
   ],
   "source": [
    "AverageFrame()"
   ]
  },
  {
   "cell_type": "markdown",
   "metadata": {},
   "source": [
    "What happens if we call `AverageFrame.populate` again?"
   ]
  },
  {
   "cell_type": "code",
   "execution_count": 30,
   "metadata": {},
   "outputs": [],
   "source": [
    "AverageFrame.populate()"
   ]
  },
  {
   "cell_type": "markdown",
   "metadata": {},
   "source": [
    "That's right - nothing! This makes sense, because we have computed `AverageFrame` for all entries in `Scan` and nothing is left to be computed."
   ]
  },
  {
   "cell_type": "markdown",
   "metadata": {},
   "source": [
    "Now what happens if we insert a new entry into `Scan`?"
   ]
  },
  {
   "cell_type": "code",
   "execution_count": 31,
   "metadata": {},
   "outputs": [],
   "source": [
    "Scan.insert1({\n",
    "    'fly_id': 100,\n",
    "    'session_date': '2020-05-25',\n",
    "    'scan_idx': 1,\n",
    "    'depth': 150,\n",
    "    'wavelength': 920,\n",
    "    'laser_power': 25,\n",
    "    'fps': 15,\n",
    "    'file_name': 'example_scan_03.tif'\n",
    "})"
   ]
  },
  {
   "cell_type": "markdown",
   "metadata": {},
   "source": [
    "We can find all `Scan` without corresponding `AverageFrame` entry with the **negative restriction operator** `-`"
   ]
  },
  {
   "cell_type": "code",
   "execution_count": 32,
   "metadata": {},
   "outputs": [
    {
     "data": {
      "text/html": [
       "\n",
       "        \n",
       "        <style type=\"text/css\">\n",
       "            .Relation{\n",
       "                border-collapse:collapse;\n",
       "            }\n",
       "            .Relation th{\n",
       "                background: #A0A0A0; color: #ffffff; padding:4px; border:#f0e0e0 1px solid;\n",
       "                font-weight: normal; font-family: monospace; font-size: 100%;\n",
       "            }\n",
       "            .Relation td{\n",
       "                padding:4px; border:#f0e0e0 1px solid; font-size:100%;\n",
       "            }\n",
       "            .Relation tr:nth-child(odd){\n",
       "                background: #ffffff;\n",
       "            }\n",
       "            .Relation tr:nth-child(even){\n",
       "                background: #f3f1ff;\n",
       "            }\n",
       "            /* Tooltip container */\n",
       "            .djtooltip {\n",
       "            }\n",
       "            /* Tooltip text */\n",
       "            .djtooltip .djtooltiptext {\n",
       "                visibility: hidden;\n",
       "                width: 120px;\n",
       "                background-color: black;\n",
       "                color: #fff;\n",
       "                text-align: center;\n",
       "                padding: 5px 0;\n",
       "                border-radius: 6px;\n",
       "                /* Position the tooltip text - see examples below! */\n",
       "                position: absolute;\n",
       "                z-index: 1;\n",
       "            }\n",
       "            #primary {\n",
       "                font-weight: bold;\n",
       "                color: black;\n",
       "            }\n",
       "\n",
       "            #nonprimary {\n",
       "                font-weight: normal;\n",
       "                color: white;\n",
       "            }\n",
       "\n",
       "            /* Show the tooltip text when you mouse over the tooltip container */\n",
       "            .djtooltip:hover .djtooltiptext {\n",
       "                visibility: visible;\n",
       "            }\n",
       "        </style>\n",
       "        \n",
       "        <b></b>\n",
       "            <div style=\"max-height:1000px;max-width:1500px;overflow:auto;\">\n",
       "            <table border=\"1\" class=\"Relation\">\n",
       "                <thead> <tr style=\"text-align: right;\"> <th> <div class=\"djtooltip\">\n",
       "                                <p id=\"primary\">fly_id</p>\n",
       "                                <span class=\"djtooltiptext\">Unique animal ID</span>\n",
       "                            </div></th><th><div class=\"djtooltip\">\n",
       "                                <p id=\"primary\">session_date</p>\n",
       "                                <span class=\"djtooltiptext\">date</span>\n",
       "                            </div></th><th><div class=\"djtooltip\">\n",
       "                                <p id=\"primary\">scan_idx</p>\n",
       "                                <span class=\"djtooltiptext\">scan index</span>\n",
       "                            </div></th><th><div class=\"djtooltip\">\n",
       "                                <p id=\"nonprimary\">depth</p>\n",
       "                                <span class=\"djtooltiptext\">depth of this scan</span>\n",
       "                            </div></th><th><div class=\"djtooltip\">\n",
       "                                <p id=\"nonprimary\">wavelength</p>\n",
       "                                <span class=\"djtooltiptext\">wavelength used</span>\n",
       "                            </div></th><th><div class=\"djtooltip\">\n",
       "                                <p id=\"nonprimary\">laser_power</p>\n",
       "                                <span class=\"djtooltiptext\">power of the laser used</span>\n",
       "                            </div></th><th><div class=\"djtooltip\">\n",
       "                                <p id=\"nonprimary\">fps</p>\n",
       "                                <span class=\"djtooltiptext\">frames per second</span>\n",
       "                            </div></th><th><div class=\"djtooltip\">\n",
       "                                <p id=\"nonprimary\">file_name</p>\n",
       "                                <span class=\"djtooltiptext\">name of the tif file</span>\n",
       "                            </div> </th> </tr> </thead>\n",
       "                <tbody> <tr> <td>100</td>\n",
       "<td>2020-05-25</td>\n",
       "<td>1</td>\n",
       "<td>150.0</td>\n",
       "<td>920.0</td>\n",
       "<td>25.0</td>\n",
       "<td>15.0</td>\n",
       "<td>example_scan_03.tif</td> </tr> </tbody>\n",
       "            </table>\n",
       "            \n",
       "            <p>Total: 1</p></div>\n",
       "            "
      ],
      "text/plain": [
       "*fly_id    *session_date  *scan_idx    depth     wavelength     laser_power    fps      file_name     \n",
       "+--------+ +------------+ +----------+ +-------+ +------------+ +------------+ +------+ +------------+\n",
       "100        2020-05-25     1            150.0     920.0          25.0           15.0     example_scan_0\n",
       " (Total: 1)"
      ]
     },
     "execution_count": 32,
     "metadata": {},
     "output_type": "execute_result"
    }
   ],
   "source": [
    "# select all Scan entries *without* a corresponding entry in AverageFrame\n",
    "Scan - AverageFrame"
   ]
  },
  {
   "cell_type": "code",
   "execution_count": 33,
   "metadata": {},
   "outputs": [],
   "source": [
    "AverageFrame.populate()"
   ]
  },
  {
   "cell_type": "markdown",
   "metadata": {},
   "source": [
    "`populate` found the uncomputed entry and processed it!"
   ]
  },
  {
   "cell_type": "code",
   "execution_count": 34,
   "metadata": {},
   "outputs": [
    {
     "data": {
      "text/html": [
       "\n",
       "        \n",
       "        <style type=\"text/css\">\n",
       "            .Relation{\n",
       "                border-collapse:collapse;\n",
       "            }\n",
       "            .Relation th{\n",
       "                background: #A0A0A0; color: #ffffff; padding:4px; border:#f0e0e0 1px solid;\n",
       "                font-weight: normal; font-family: monospace; font-size: 100%;\n",
       "            }\n",
       "            .Relation td{\n",
       "                padding:4px; border:#f0e0e0 1px solid; font-size:100%;\n",
       "            }\n",
       "            .Relation tr:nth-child(odd){\n",
       "                background: #ffffff;\n",
       "            }\n",
       "            .Relation tr:nth-child(even){\n",
       "                background: #f3f1ff;\n",
       "            }\n",
       "            /* Tooltip container */\n",
       "            .djtooltip {\n",
       "            }\n",
       "            /* Tooltip text */\n",
       "            .djtooltip .djtooltiptext {\n",
       "                visibility: hidden;\n",
       "                width: 120px;\n",
       "                background-color: black;\n",
       "                color: #fff;\n",
       "                text-align: center;\n",
       "                padding: 5px 0;\n",
       "                border-radius: 6px;\n",
       "                /* Position the tooltip text - see examples below! */\n",
       "                position: absolute;\n",
       "                z-index: 1;\n",
       "            }\n",
       "            #primary {\n",
       "                font-weight: bold;\n",
       "                color: black;\n",
       "            }\n",
       "\n",
       "            #nonprimary {\n",
       "                font-weight: normal;\n",
       "                color: white;\n",
       "            }\n",
       "\n",
       "            /* Show the tooltip text when you mouse over the tooltip container */\n",
       "            .djtooltip:hover .djtooltiptext {\n",
       "                visibility: visible;\n",
       "            }\n",
       "        </style>\n",
       "        \n",
       "        <b></b>\n",
       "            <div style=\"max-height:1000px;max-width:1500px;overflow:auto;\">\n",
       "            <table border=\"1\" class=\"Relation\">\n",
       "                <thead> <tr style=\"text-align: right;\"> <th> <div class=\"djtooltip\">\n",
       "                                <p id=\"primary\">fly_id</p>\n",
       "                                <span class=\"djtooltiptext\">Unique animal ID</span>\n",
       "                            </div></th><th><div class=\"djtooltip\">\n",
       "                                <p id=\"primary\">session_date</p>\n",
       "                                <span class=\"djtooltiptext\">date</span>\n",
       "                            </div></th><th><div class=\"djtooltip\">\n",
       "                                <p id=\"primary\">scan_idx</p>\n",
       "                                <span class=\"djtooltiptext\">scan index</span>\n",
       "                            </div></th><th><div class=\"djtooltip\">\n",
       "                                <p id=\"nonprimary\">average_frame</p>\n",
       "                                <span class=\"djtooltiptext\">average fluorescence across frames</span>\n",
       "                            </div> </th> </tr> </thead>\n",
       "                <tbody> <tr> <td>0</td>\n",
       "<td>2020-05-15</td>\n",
       "<td>1</td>\n",
       "<td>=BLOB=</td></tr><tr><td>0</td>\n",
       "<td>2020-05-15</td>\n",
       "<td>2</td>\n",
       "<td>=BLOB=</td></tr><tr><td>100</td>\n",
       "<td>2020-05-25</td>\n",
       "<td>1</td>\n",
       "<td>=BLOB=</td> </tr> </tbody>\n",
       "            </table>\n",
       "            \n",
       "            <p>Total: 3</p></div>\n",
       "            "
      ],
      "text/plain": [
       "*fly_id    *session_date  *scan_idx    average_fr\n",
       "+--------+ +------------+ +----------+ +--------+\n",
       "0          2020-05-15     1            =BLOB=    \n",
       "0          2020-05-15     2            =BLOB=    \n",
       "100        2020-05-25     1            =BLOB=    \n",
       " (Total: 3)"
      ]
     },
     "execution_count": 34,
     "metadata": {},
     "output_type": "execute_result"
    }
   ],
   "source": [
    "AverageFrame()"
   ]
  },
  {
   "cell_type": "markdown",
   "metadata": {},
   "source": [
    "Now instead of loading from the raw tif file, we are able fetch the average fluorescence image from this table."
   ]
  },
  {
   "cell_type": "code",
   "execution_count": 35,
   "metadata": {},
   "outputs": [
    {
     "data": {
      "text/plain": [
       "<matplotlib.image.AxesImage at 0x12a3fdf60>"
      ]
     },
     "execution_count": 35,
     "metadata": {},
     "output_type": "execute_result"
    },
    {
     "data": {
      "image/png": "[encoded data removed]",
      "text/plain": [
       "<Figure size 432x288 with 1 Axes>"
      ]
     },
     "metadata": {
      "needs_background": "light"
     },
     "output_type": "display_data"
    }
   ],
   "source": [
    "key = dict(fly_id=0, session_date='2020-05-15', scan_idx=1)\n",
    "avg_image = (AverageFrame & key).fetch1('average_frame')\n",
    "plt.imshow(avg_image, cmap=plt.cm.gray)"
   ]
  },
  {
   "cell_type": "markdown",
   "metadata": {},
   "source": [
    "### 4) Add another `Imported` table called `Frames` that simple imports the whole movie into the database instead of computing the average.\n",
    "\n",
    "Optional: define a datajoint external configuration instead of using longblob for this table"
   ]
  },
  {
   "cell_type": "code",
   "execution_count": 38,
   "metadata": {},
   "outputs": [],
   "source": [
    "# Your code here\n",
    "\n",
    "@schema\n",
    "class Frames(dj.Imported):\n",
    "    definition = \"\"\"\n",
    "    -> Scan\n",
    "    ---\n",
    "    frames   : longblob     # average fluorescence across frames\n",
    "    \"\"\"\n",
    "    \n",
    "     # import the whole movie into the database (don't compute the average):\n",
    "    def make(self, key):\n",
    "\n",
    "        # first, fetch the *necessary data from Session and Scan using key to restrict and fetch1:  \n",
    "        filename = (Scan & key).fetch1()['file_name']\n",
    "        dataname = (Session & key).fetch1()['data_path']\n",
    "\n",
    "        # Have the script read the file / join it together:\n",
    "        im = io.imread(os.path.join(dataname, filename))\n",
    "\n",
    "        # add average frame into the key dictionary:\n",
    "        key.update({'frames': im})\n",
    "\n",
    "        # Now insert into table using insert1:\n",
    "        self.insert1(key)"
   ]
  },
  {
   "cell_type": "markdown",
   "metadata": {},
   "source": [
    "## Summary"
   ]
  },
  {
   "cell_type": "markdown",
   "metadata": {},
   "source": [
    "Congratulations! You have successfully extended your pipeline with a table to represent processed data (`AverageFrame` and `Frames` as `Imported` table), learned and implemented the `make()` and `populate()` call to load external data to your tables."
   ]
  },
  {
   "cell_type": "code",
   "execution_count": 39,
   "metadata": {},
   "outputs": [
    {
     "data": {
      "image/svg+xml": [
       "<svg height=\"256pt\" viewBox=\"0.00 0.00 217.62 256.00\" width=\"218pt\" xmlns=\"http://www.w3.org/2000/svg\" xmlns:xlink=\"http://www.w3.org/1999/xlink\">\n",
       "<g class=\"graph\" id=\"graph0\" transform=\"scale(1 1) rotate(0) translate(4 252)\">\n",
       "<title>%3</title>\n",
       "<polygon fill=\"#ffffff\" points=\"-4,4 -4,-252 213.625,-252 213.625,4 -4,4\" stroke=\"transparent\"/>\n",
       "<!-- Frames -->\n",
       "<g class=\"node\" id=\"node1\">\n",
       "<title>Frames</title>\n",
       "<g id=\"a_node1\"><a xlink:title=\"→ Scan\r",
       "------------------------------\r",
       "frames               \r",
       "\">\n",
       "<ellipse cx=\"35.625\" cy=\"-17.5\" fill=\"#00007f\" fill-opacity=\"0.250980\" rx=\"35.7504\" ry=\"17.5\" stroke=\"#00007f\" stroke-opacity=\"0.250980\"/>\n",
       "<text fill=\"#00007f\" font-family=\"arial\" font-size=\"12.00\" text-anchor=\"middle\" x=\"35.625\" y=\"-14.4\">Frames</text>\n",
       "</a>\n",
       "</g>\n",
       "</g>\n",
       "<!-- Session -->\n",
       "<g class=\"node\" id=\"node2\">\n",
       "<title>Session</title>\n",
       "<g id=\"a_node2\"><a xlink:title=\"→ Fly\r",
       "session_date         \r",
       "------------------------------\r",
       "experiment_setup     \r",
       "experimenter         \r",
       "data_path=&quot;&quot;         \r",
       "\">\n",
       "<polygon fill=\"#00ff00\" fill-opacity=\"0.188235\" points=\"122.125,-177 63.125,-177 63.125,-142 122.125,-142 122.125,-177\" stroke=\"#00ff00\" stroke-opacity=\"0.188235\"/>\n",
       "<text fill=\"#006400\" font-family=\"arial\" font-size=\"12.00\" text-anchor=\"start\" text-decoration=\"underline\" x=\"71.125\" y=\"-157.4\">Session</text>\n",
       "</a>\n",
       "</g>\n",
       "</g>\n",
       "<!-- Scan -->\n",
       "<g class=\"node\" id=\"node5\">\n",
       "<title>Scan</title>\n",
       "<g id=\"a_node5\"><a xlink:title=\"→ Session\r",
       "scan_idx             \r",
       "------------------------------\r",
       "depth                \r",
       "wavelength           \r",
       "laser_power          \r",
       "fps                  \r",
       "file_name            \r",
       "\">\n",
       "<polygon fill=\"#00ff00\" fill-opacity=\"0.188235\" points=\"114.625,-106 70.625,-106 70.625,-71 114.625,-71 114.625,-106\" stroke=\"#00ff00\" stroke-opacity=\"0.188235\"/>\n",
       "<text fill=\"#006400\" font-family=\"arial\" font-size=\"12.00\" text-anchor=\"start\" text-decoration=\"underline\" x=\"78.625\" y=\"-86.4\">Scan</text>\n",
       "</a>\n",
       "</g>\n",
       "</g>\n",
       "<!-- Session&#45;&gt;Scan -->\n",
       "<g class=\"edge\" id=\"edge1\">\n",
       "<title>Session-&gt;Scan</title>\n",
       "<path d=\"M92.625,-141.9494C92.625,-131.1083 92.625,-117.2366 92.625,-106.3418\" fill=\"none\" stroke=\"#000000\" stroke-opacity=\"0.250980\" stroke-width=\".75\"/>\n",
       "</g>\n",
       "<!-- Fly -->\n",
       "<g class=\"node\" id=\"node3\">\n",
       "<title>Fly</title>\n",
       "<g id=\"a_node3\"><a xlink:title=\"fly_id               \r",
       "------------------------------\r",
       "dob=null             \r",
       "sex=&quot;U&quot;              \r",
       "\">\n",
       "<polygon fill=\"#00ff00\" fill-opacity=\"0.188235\" points=\"110.125,-248 75.125,-248 75.125,-213 110.125,-213 110.125,-248\" stroke=\"#00ff00\" stroke-opacity=\"0.188235\"/>\n",
       "<text fill=\"#006400\" font-family=\"arial\" font-size=\"12.00\" text-anchor=\"start\" text-decoration=\"underline\" x=\"84.625\" y=\"-228.4\">Fly</text>\n",
       "</a>\n",
       "</g>\n",
       "</g>\n",
       "<!-- Fly&#45;&gt;Session -->\n",
       "<g class=\"edge\" id=\"edge2\">\n",
       "<title>Fly-&gt;Session</title>\n",
       "<path d=\"M92.625,-212.9494C92.625,-202.1083 92.625,-188.2366 92.625,-177.3418\" fill=\"none\" stroke=\"#000000\" stroke-opacity=\"0.250980\" stroke-width=\".75\"/>\n",
       "</g>\n",
       "<!-- AverageFrame -->\n",
       "<g class=\"node\" id=\"node4\">\n",
       "<title>AverageFrame</title>\n",
       "<g id=\"a_node4\"><a xlink:title=\"→ Scan\r",
       "------------------------------\r",
       "average_frame        \r",
       "\">\n",
       "<ellipse cx=\"149.625\" cy=\"-17.5\" fill=\"#00007f\" fill-opacity=\"0.250980\" rx=\"60\" ry=\"17.5\" stroke=\"#00007f\" stroke-opacity=\"0.250980\"/>\n",
       "<text fill=\"#00007f\" font-family=\"arial\" font-size=\"12.00\" text-anchor=\"middle\" x=\"149.625\" y=\"-14.4\">AverageFrame</text>\n",
       "</a>\n",
       "</g>\n",
       "</g>\n",
       "<!-- Scan&#45;&gt;Frames -->\n",
       "<g class=\"edge\" id=\"edge3\">\n",
       "<title>Scan-&gt;Frames</title>\n",
       "<path d=\"M78.5351,-70.9494C69.4361,-59.6156 57.6778,-44.9692 48.7713,-33.8752\" fill=\"none\" stroke=\"#000000\" stroke-opacity=\"0.250980\" stroke-width=\"2\"/>\n",
       "</g>\n",
       "<!-- Scan&#45;&gt;AverageFrame -->\n",
       "<g class=\"edge\" id=\"edge4\">\n",
       "<title>Scan-&gt;AverageFrame</title>\n",
       "<path d=\"M106.7149,-70.9494C115.5502,-59.9441 126.8928,-45.8155 135.6972,-34.8487\" fill=\"none\" stroke=\"#000000\" stroke-opacity=\"0.250980\" stroke-width=\"2\"/>\n",
       "</g>\n",
       "</g>\n",
       "</svg>"
      ],
      "text/plain": [
       "<datajoint.diagram.Diagram at 0x12a82af98>"
      ]
     },
     "execution_count": 39,
     "metadata": {},
     "output_type": "execute_result"
    }
   ],
   "source": [
    "dj.ERD(schema)"
   ]
  },
  {
   "cell_type": "markdown",
   "metadata": {},
   "source": [
    "At this point, our pipeline contains the core elements with data populated, ready for further downstream analysis."
   ]
  },
  {
   "cell_type": "markdown",
   "metadata": {},
   "source": [
    "Go to Part 2 of this homework"
   ]
  },
  {
   "cell_type": "code",
   "execution_count": null,
   "metadata": {},
   "outputs": [],
   "source": []
  }
 ],
 "metadata": {
  "kernelspec": {
   "display_name": "Python 3",
   "language": "python",
   "name": "python3"
  },
  "language_info": {
   "codemirror_mode": {
    "name": "ipython",
    "version": 3
   },
   "file_extension": ".py",
   "mimetype": "text/x-python",
   "name": "python",
   "nbconvert_exporter": "python",
   "pygments_lexer": "ipython3",
   "version": "3.7.1"
  }
 },
 "nbformat": 4,
 "nbformat_minor": 4
}
